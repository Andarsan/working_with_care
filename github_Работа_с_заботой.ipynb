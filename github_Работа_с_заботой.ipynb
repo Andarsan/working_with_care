{
  "cells": [
    {
      "cell_type": "markdown",
      "metadata": {
        "id": "view-in-github",
        "colab_type": "text"
      },
      "source": [
        "<a href=\"https://colab.research.google.com/github/Andarsan/working_with_care/blob/main/github_%D0%A0%D0%B0%D0%B1%D0%BE%D1%82%D0%B0_%D1%81_%D0%B7%D0%B0%D0%B1%D0%BE%D1%82%D0%BE%D0%B9.ipynb\" target=\"_parent\"><img src=\"https://colab.research.google.com/assets/colab-badge.svg\" alt=\"Open In Colab\"/></a>"
      ]
    },
    {
      "cell_type": "markdown",
      "id": "5cbb79f3",
      "metadata": {
        "id": "5cbb79f3"
      },
      "source": [
        "# Работа с заботой\n",
        "\n",
        "\n",
        "**Нужно разработать модель машинного обучения, которая сможет предсказать уровень удовлетворенности сотрудника на основе данных заказчика**\n",
        "\n",
        " для этого нужно:\n",
        "- изучить данные сделайте выводы\n",
        "- выполнить предобработку, пропуски заполнить в пайплайн\n",
        "\n",
        "- подготовку признаков выполнить в пайплайне, дополнив пайплайн шагами предобработки\n",
        "    - при кодировании учесть особенности признаков и моделей и использовать как минимум два кодировщика\n",
        "\n",
        "- обучить  две модели, одну линейную модель, а вторую дерево решений.\n",
        "  - подобрать гиперпараметры для одной модели с помощью одного из инструментов\n",
        "\n",
        "- выбрать лучшую модель и проверить её качество\n",
        "  - выбор зделать на основе новой метрики — SMAPE (англ. symmetric mean absolute percentage error, «симметричное среднее абсолютное процентное отклонение»)\n",
        "\n",
        "\n",
        "**Вторая задача — построить модель, которая сможет на основе данных заказчика предсказать то, что сотрудник уволится из компании.**\n",
        "\n",
        "- использовать те же входные признаки, что и в предыдущей задаче\n",
        "  - целевой признак quit — увольнение сотрудника из компании\n",
        "\n",
        " - изучить данные и сделайте выводы, выполнить предобработку, пропуски заполнить в пайплайна\n",
        "     \n",
        "- составить портрет «уволившегося сотрудника»\n",
        "  - в каком отделе с большей вероятностью работает уволившийся сотрудник и какой у него уровень загруженности\n",
        "  - сравнить среднее значение зарплаты ушедших сотрудников с теми, кто остался в компании\n",
        "\n",
        "- визуализируем и сравним распределения признака job_satisfaction_rate для ушедших и оставшихся сотрудников\n",
        "  - используем данные с обоими целевыми признаками тестовой выборки\n",
        "\n",
        "  - если, job_satisfaction_rate и quit действительно связаны и мы получим необходимое значение метрики в первой задаче\n",
        "    - тогда добавим job_satisfaction_rate, предсказанный лучшей моделью первой задачи, к входным признакам второй задачи\n",
        "\n",
        "- выполнить предобработку, пропуски заполнить в пайплайне\n",
        "\n",
        "- подготовку признаков выполнить в пайплайне, дополнив пайплайн шагами предобработки\n",
        "    - при кодировании учесть особенности признаков и моделей и использовать как минимум два кодировщика\n",
        "    - обучить как минимум три модели\n",
        "      - для двух из них подобрать гиперпараметры\n",
        "      - проверить качество лучшей модели\n",
        "      - метрика оценки качества в этой задаче ROC-AUC"
      ]
    },
    {
      "cell_type": "markdown",
      "id": "639dc164",
      "metadata": {
        "id": "639dc164"
      },
      "source": [
        "* тренировочная выборка **`train_job_satisfaction_rate.csv`**\n",
        "* входные признаки тестовой выборки **`test_features.csv`**\n",
        "* целевой признак тестовой выборки **`test_target_job_satisfaction_rate.csv`**\n",
        "\n",
        "|||\n",
        "|:-|:-|\n",
        "|id| — уникальный идентификатор сотрудника|\n",
        "|dept| — отдел, в котором работает сотрудник|\n",
        "|level| — уровень занимаемой должности|\n",
        "|workload| — уровень загруженности сотрудника|\n",
        "|employment_years| — длительность работы в компании (в годах);|\n",
        "|last_year_promo| — показывает, было ли повышение за последний год|\n",
        "|last_year_violations| — показывает, нарушал ли сотрудник трудовой договор за последний год|\n",
        "|supervisor_evaluation| — оценка качества работы сотрудника, которую дал руководитель|\n",
        "|salary| — ежемесячная зарплата сотрудника|\n",
        "|job_satisfaction_rate| — уровень удовлетворённости сотрудника работой в компании, целевой признак|\n",
        "\n",
        "* тренировочная выборка **`train_quit.csv`**\n",
        "* входные признаки тестовой выборки те же, что и в прошлой задаче **'test_features.csv**\n",
        "* целевой признак тестовой выборки **`test_target_quit.csv`**\n",
        "\n",
        "\n"
      ]
    },
    {
      "cell_type": "markdown",
      "id": "e8679f99",
      "metadata": {
        "id": "e8679f99"
      },
      "source": [
        "## Шаг 1-3. Загрузка данных\n",
        "* Шаг 2. Предобработка данных\n",
        "* Шаг 3. Исследовательский анализ данных"
      ]
    },
    {
      "cell_type": "code",
      "execution_count": 289,
      "id": "a5253215",
      "metadata": {
        "id": "a5253215"
      },
      "outputs": [],
      "source": [
        "%%capture\n",
        "import pandas as pd\n",
        "import copy\n",
        "import matplotlib.pyplot as plt\n",
        "from importlib import reload\n",
        "import numpy as np\n",
        "import seaborn as sns\n",
        "# загружаем класс pipeline\n",
        "from sklearn.pipeline import Pipeline\n",
        "# загружаем класс для работы с пропусками\n",
        "from sklearn.impute import SimpleImputer\n",
        "## загружаем классы для подготовки данных\n",
        "from sklearn.preprocessing import OneHotEncoder,LabelEncoder, OrdinalEncoder, StandardScaler, MinMaxScaler, RobustScaler\n",
        "from sklearn.compose import ColumnTransformer\n",
        "## загружаем нужные модели\n",
        "from sklearn.neighbors import KNeighborsClassifier, KNeighborsRegressor\n",
        "from sklearn.tree import DecisionTreeClassifier, DecisionTreeRegressor\n",
        "# импортируем класс RandomizedSearchCV\n",
        "from sklearn.model_selection import RandomizedSearchCV, GridSearchCV, cross_val_score\n",
        "## загружаем функцию для работы с метриками\n",
        "from sklearn.metrics import roc_auc_score\n",
        "from sklearn.svm import SVC\n",
        "# кодировать категории [0,1,0,0,0]\n",
        "from sklearn.preprocessing import OneHotEncoder\n",
        "# создать матрицу с цифарками (стардатизация)\n",
        "from sklearn.preprocessing import StandardScaler\n",
        "# ищет линейную зависимость от всех значений во всех колонках к одному значению y\n",
        "from sklearn.linear_model import LogisticRegression, LinearRegression\n",
        "import os\n",
        "# Вычисление матрицы корреляции с использованием phik\n",
        "! pip install phik\n",
        "import phik\n",
        "# своя метрика\n",
        "from sklearn.metrics import make_scorer\n",
        "# убрать предупреждения\n",
        "import warnings\n",
        "# import nltk\n",
        "import sklearn\n",
        "try:\n",
        "  from google.colab import drive\n",
        "  drive.mount('/content/drive')\n",
        "except Exception as ex:\n",
        "    template = \"An exception of type {0} occurred. Arguments:\\n{1!r}\"\n",
        "    message = template.format(type(ex).__name__, ex.args)\n",
        "    print(message)\n",
        "RANDOM_STATE = 42\n",
        "TEST_SIZE = 0.25"
      ]
    },
    {
      "cell_type": "code",
      "execution_count": 290,
      "id": "6f954b77",
      "metadata": {
        "id": "6f954b77",
        "colab": {
          "base_uri": "https://localhost:8080/",
          "height": 34
        },
        "outputId": "64966398-ed74-45af-8b31-8ff52757aa30"
      },
      "outputs": [
        {
          "output_type": "display_data",
          "data": {
            "text/plain": [
              "'рабочий каталог: C:/Users/andar/Downloads'"
            ]
          },
          "metadata": {}
        }
      ],
      "source": [
        "pth1 = '/datasets'#/ferma_main.csv'\n",
        "pth2 = '/content/drive/MyDrive/Colab Notebooks/all_project'#/ferma_main.csv'\n",
        "pth3 = 'C:/Users/andar/Downloads'\n",
        "if os.path.exists(pth1):\n",
        "  pth = pth1\n",
        "elif os.path.exists(pth2):\n",
        "  pth = pth2\n",
        "elif os.path.exists(pth3):\n",
        "  pth = pth3\n",
        "else:\n",
        "  pth = 'Something is wrong'\n",
        "display(f'рабочий каталог: {pth}')"
      ]
    },
    {
      "cell_type": "markdown",
      "id": "2c292943",
      "metadata": {
        "id": "2c292943"
      },
      "source": [
        "### `train_job_satisfaction_rate.csv`"
      ]
    },
    {
      "cell_type": "code",
      "execution_count": 291,
      "id": "bf67d7d8",
      "metadata": {
        "id": "bf67d7d8",
        "colab": {
          "base_uri": "https://localhost:8080/",
          "height": 226
        },
        "outputId": "70b6e720-d132-47fe-c74c-f027625b2ed2"
      },
      "outputs": [
        {
          "output_type": "display_data",
          "data": {
            "text/plain": [
              "       id        dept   level workload  employment_years last_year_promo  \\\n",
              "0  155278       sales  junior   medium                 2              no   \n",
              "1  653870          hr  junior     high                 2              no   \n",
              "2  184592       sales  junior      low                 1              no   \n",
              "3  171431  technology  junior      low                 4              no   \n",
              "4  693419          hr  junior   medium                 1              no   \n",
              "\n",
              "  last_year_violations  supervisor_evaluation  salary  job_satisfaction_rate  \n",
              "0                   no                      1   24000                   0.58  \n",
              "1                   no                      5   38400                   0.76  \n",
              "2                   no                      2   12000                   0.11  \n",
              "3                   no                      2   18000                   0.37  \n",
              "4                   no                      3   22800                   0.20  "
            ],
            "text/html": [
              "<div>\n",
              "<style scoped>\n",
              "    .dataframe tbody tr th:only-of-type {\n",
              "        vertical-align: middle;\n",
              "    }\n",
              "\n",
              "    .dataframe tbody tr th {\n",
              "        vertical-align: top;\n",
              "    }\n",
              "\n",
              "    .dataframe thead th {\n",
              "        text-align: right;\n",
              "    }\n",
              "</style>\n",
              "<table border=\"1\" class=\"dataframe\">\n",
              "  <thead>\n",
              "    <tr style=\"text-align: right;\">\n",
              "      <th></th>\n",
              "      <th>id</th>\n",
              "      <th>dept</th>\n",
              "      <th>level</th>\n",
              "      <th>workload</th>\n",
              "      <th>employment_years</th>\n",
              "      <th>last_year_promo</th>\n",
              "      <th>last_year_violations</th>\n",
              "      <th>supervisor_evaluation</th>\n",
              "      <th>salary</th>\n",
              "      <th>job_satisfaction_rate</th>\n",
              "    </tr>\n",
              "  </thead>\n",
              "  <tbody>\n",
              "    <tr>\n",
              "      <th>0</th>\n",
              "      <td>155278</td>\n",
              "      <td>sales</td>\n",
              "      <td>junior</td>\n",
              "      <td>medium</td>\n",
              "      <td>2</td>\n",
              "      <td>no</td>\n",
              "      <td>no</td>\n",
              "      <td>1</td>\n",
              "      <td>24000</td>\n",
              "      <td>0.58</td>\n",
              "    </tr>\n",
              "    <tr>\n",
              "      <th>1</th>\n",
              "      <td>653870</td>\n",
              "      <td>hr</td>\n",
              "      <td>junior</td>\n",
              "      <td>high</td>\n",
              "      <td>2</td>\n",
              "      <td>no</td>\n",
              "      <td>no</td>\n",
              "      <td>5</td>\n",
              "      <td>38400</td>\n",
              "      <td>0.76</td>\n",
              "    </tr>\n",
              "    <tr>\n",
              "      <th>2</th>\n",
              "      <td>184592</td>\n",
              "      <td>sales</td>\n",
              "      <td>junior</td>\n",
              "      <td>low</td>\n",
              "      <td>1</td>\n",
              "      <td>no</td>\n",
              "      <td>no</td>\n",
              "      <td>2</td>\n",
              "      <td>12000</td>\n",
              "      <td>0.11</td>\n",
              "    </tr>\n",
              "    <tr>\n",
              "      <th>3</th>\n",
              "      <td>171431</td>\n",
              "      <td>technology</td>\n",
              "      <td>junior</td>\n",
              "      <td>low</td>\n",
              "      <td>4</td>\n",
              "      <td>no</td>\n",
              "      <td>no</td>\n",
              "      <td>2</td>\n",
              "      <td>18000</td>\n",
              "      <td>0.37</td>\n",
              "    </tr>\n",
              "    <tr>\n",
              "      <th>4</th>\n",
              "      <td>693419</td>\n",
              "      <td>hr</td>\n",
              "      <td>junior</td>\n",
              "      <td>medium</td>\n",
              "      <td>1</td>\n",
              "      <td>no</td>\n",
              "      <td>no</td>\n",
              "      <td>3</td>\n",
              "      <td>22800</td>\n",
              "      <td>0.20</td>\n",
              "    </tr>\n",
              "  </tbody>\n",
              "</table>\n",
              "</div>"
            ]
          },
          "metadata": {}
        }
      ],
      "source": [
        "df_train_job = pd.read_csv(pth + '/train_job_satisfaction_rate.csv')\n",
        "display(df_train_job.head(5))"
      ]
    },
    {
      "cell_type": "code",
      "execution_count": 292,
      "id": "cff1593f",
      "metadata": {
        "id": "cff1593f",
        "colab": {
          "base_uri": "https://localhost:8080/"
        },
        "outputId": "4d3c906b-cc08-414f-bb08-85d52680dbe1"
      },
      "outputs": [
        {
          "output_type": "stream",
          "name": "stdout",
          "text": [
            "<class 'pandas.core.frame.DataFrame'>\n",
            "RangeIndex: 4000 entries, 0 to 3999\n",
            "Data columns (total 10 columns):\n",
            " #   Column                 Non-Null Count  Dtype  \n",
            "---  ------                 --------------  -----  \n",
            " 0   id                     4000 non-null   int64  \n",
            " 1   dept                   3994 non-null   object \n",
            " 2   level                  3996 non-null   object \n",
            " 3   workload               4000 non-null   object \n",
            " 4   employment_years       4000 non-null   int64  \n",
            " 5   last_year_promo        4000 non-null   object \n",
            " 6   last_year_violations   4000 non-null   object \n",
            " 7   supervisor_evaluation  4000 non-null   int64  \n",
            " 8   salary                 4000 non-null   int64  \n",
            " 9   job_satisfaction_rate  4000 non-null   float64\n",
            "dtypes: float64(1), int64(4), object(5)\n",
            "memory usage: 312.6+ KB\n"
          ]
        }
      ],
      "source": [
        "df_train_job.info()"
      ]
    },
    {
      "cell_type": "markdown",
      "id": "4a131884",
      "metadata": {
        "id": "4a131884"
      },
      "source": [
        "* пропуски есть заполним их в пайплайне\n",
        "* формат данных кодируем в пайплайне"
      ]
    },
    {
      "cell_type": "code",
      "execution_count": 293,
      "id": "f20fc13a",
      "metadata": {
        "id": "f20fc13a",
        "colab": {
          "base_uri": "https://localhost:8080/"
        },
        "outputId": "33a294da-c3c0-47bb-b0d0-13f0a81ad706"
      },
      "outputs": [
        {
          "output_type": "execute_result",
          "data": {
            "text/plain": [
              "0"
            ]
          },
          "metadata": {},
          "execution_count": 293
        }
      ],
      "source": [
        "df_train_job['id'].duplicated().sum()"
      ]
    },
    {
      "cell_type": "markdown",
      "id": "48bc284c",
      "metadata": {
        "id": "48bc284c"
      },
      "source": [
        "* все работники уникальны"
      ]
    },
    {
      "cell_type": "code",
      "execution_count": 294,
      "id": "8d62a2d9",
      "metadata": {
        "id": "8d62a2d9",
        "colab": {
          "base_uri": "https://localhost:8080/",
          "height": 607
        },
        "outputId": "34ff8567-1e3d-4ffa-8a2c-898a826f2894"
      },
      "outputs": [
        {
          "output_type": "display_data",
          "data": {
            "text/plain": [
              "'--------------dept---------------'"
            ]
          },
          "metadata": {}
        },
        {
          "output_type": "display_data",
          "data": {
            "text/plain": [
              "array(['sales', 'hr', 'technology', 'purchasing', 'marketing', nan],\n",
              "      dtype=object)"
            ]
          },
          "metadata": {}
        },
        {
          "output_type": "display_data",
          "data": {
            "text/plain": [
              "'--------------level---------------'"
            ]
          },
          "metadata": {}
        },
        {
          "output_type": "display_data",
          "data": {
            "text/plain": [
              "array(['junior', 'middle', 'sinior', nan], dtype=object)"
            ]
          },
          "metadata": {}
        },
        {
          "output_type": "display_data",
          "data": {
            "text/plain": [
              "'--------------workload---------------'"
            ]
          },
          "metadata": {}
        },
        {
          "output_type": "display_data",
          "data": {
            "text/plain": [
              "array(['medium', 'high', 'low'], dtype=object)"
            ]
          },
          "metadata": {}
        },
        {
          "output_type": "display_data",
          "data": {
            "text/plain": [
              "'--------------employment_years---------------'"
            ]
          },
          "metadata": {}
        },
        {
          "output_type": "display_data",
          "data": {
            "text/plain": [
              "array([ 2,  1,  4,  7,  9,  6,  3, 10,  8,  5], dtype=int64)"
            ]
          },
          "metadata": {}
        },
        {
          "output_type": "display_data",
          "data": {
            "text/plain": [
              "'--------------last_year_promo---------------'"
            ]
          },
          "metadata": {}
        },
        {
          "output_type": "display_data",
          "data": {
            "text/plain": [
              "array(['no', 'yes'], dtype=object)"
            ]
          },
          "metadata": {}
        },
        {
          "output_type": "display_data",
          "data": {
            "text/plain": [
              "'--------------last_year_violations---------------'"
            ]
          },
          "metadata": {}
        },
        {
          "output_type": "display_data",
          "data": {
            "text/plain": [
              "array(['no', 'yes'], dtype=object)"
            ]
          },
          "metadata": {}
        },
        {
          "output_type": "display_data",
          "data": {
            "text/plain": [
              "'--------------supervisor_evaluation---------------'"
            ]
          },
          "metadata": {}
        },
        {
          "output_type": "display_data",
          "data": {
            "text/plain": [
              "array([1, 5, 2, 3, 4], dtype=int64)"
            ]
          },
          "metadata": {}
        },
        {
          "output_type": "display_data",
          "data": {
            "text/plain": [
              "'--------------salary---------------'"
            ]
          },
          "metadata": {}
        },
        {
          "output_type": "display_data",
          "data": {
            "text/plain": [
              "array([24000, 38400, 12000, 18000, 22800, 30000, 56400, 52800, 13200,\n",
              "       54000, 19200, 40800, 34800, 27600, 26400, 33600, 50400, 15600,\n",
              "       14400, 25200, 72000, 31200, 32400, 48000, 43200, 46800, 58800,\n",
              "       84000, 44400, 39600, 37200, 21600, 28800, 62400, 60000, 42000,\n",
              "       49200, 55200, 57600, 68400, 45600, 51600, 64800, 80400, 20400,\n",
              "       61200, 76800, 69600, 16800, 36000, 63600, 81600, 66000, 74400,\n",
              "       67200, 70800, 73200, 75600, 79200, 94800, 78000, 88800, 92400,\n",
              "       85200, 91200, 98400, 96000, 97200], dtype=int64)"
            ]
          },
          "metadata": {}
        },
        {
          "output_type": "display_data",
          "data": {
            "text/plain": [
              "'--------------job_satisfaction_rate---------------'"
            ]
          },
          "metadata": {}
        },
        {
          "output_type": "display_data",
          "data": {
            "text/plain": [
              "array([0.58, 0.76, 0.11, 0.37, 0.2 , 0.78, 0.56, 0.44, 0.14, 0.47, 0.74,\n",
              "       0.42, 0.32, 0.57, 0.16, 0.69, 0.33, 0.64, 0.39, 0.8 , 0.79, 0.17,\n",
              "       0.65, 0.18, 0.19, 0.49, 0.63, 0.22, 0.23, 0.5 , 0.35, 0.3 , 0.77,\n",
              "       0.88, 0.59, 0.21, 0.36, 0.85, 0.7 , 0.48, 0.6 , 0.1 , 0.27, 0.71,\n",
              "       0.86, 0.54, 0.73, 0.46, 0.31, 0.72, 0.51, 0.61, 0.81, 0.99, 0.15,\n",
              "       0.91, 0.68, 0.4 , 0.89, 0.67, 0.75, 0.98, 0.26, 0.45, 0.92, 0.82,\n",
              "       0.66, 0.55, 0.38, 0.53, 0.84, 0.52, 0.24, 0.62, 0.41, 0.28, 0.09,\n",
              "       0.97, 0.83, 0.25, 0.43, 0.04, 0.13, 0.29, 0.95, 0.93, 0.87, 0.08,\n",
              "       0.94, 0.07, 0.34, 0.9 , 0.12, 0.06, 0.96, 0.05, 1.  , 0.03])"
            ]
          },
          "metadata": {}
        }
      ],
      "source": [
        "_for =[ 'dept', 'level', 'workload', 'employment_years',\n",
        "       'last_year_promo', 'last_year_violations', 'supervisor_evaluation',\n",
        "       'salary', 'job_satisfaction_rate']\n",
        "for i in _for:\n",
        "  display(f'--------------{i}---------------')\n",
        "  display(df_train_job[i].unique())\n"
      ]
    },
    {
      "cell_type": "markdown",
      "id": "6bdc4c8c",
      "metadata": {
        "id": "6bdc4c8c"
      },
      "source": [
        "* всё ок кроме nan но это исправим"
      ]
    },
    {
      "cell_type": "code",
      "execution_count": 295,
      "id": "56f37ff4",
      "metadata": {
        "id": "56f37ff4",
        "colab": {
          "base_uri": "https://localhost:8080/",
          "height": 1000
        },
        "outputId": "95040987-eb74-4da5-aa23-b0dc25f2dfaa"
      },
      "outputs": [
        {
          "output_type": "display_data",
          "data": {
            "text/plain": [
              "dept\n",
              "sales         1512\n",
              "technology     866\n",
              "purchasing     610\n",
              "marketing      550\n",
              "hr             456\n",
              "Name: count, dtype: int64"
            ]
          },
          "metadata": {}
        },
        {
          "output_type": "display_data",
          "data": {
            "text/plain": [
              "'-----------------------------'"
            ]
          },
          "metadata": {}
        },
        {
          "output_type": "display_data",
          "data": {
            "text/plain": [
              "level\n",
              "junior    1894\n",
              "middle    1744\n",
              "sinior     358\n",
              "Name: count, dtype: int64"
            ]
          },
          "metadata": {}
        },
        {
          "output_type": "display_data",
          "data": {
            "text/plain": [
              "'-----------------------------'"
            ]
          },
          "metadata": {}
        },
        {
          "output_type": "display_data",
          "data": {
            "text/plain": [
              "workload\n",
              "medium    2066\n",
              "low       1200\n",
              "high       734\n",
              "Name: count, dtype: int64"
            ]
          },
          "metadata": {}
        },
        {
          "output_type": "display_data",
          "data": {
            "text/plain": [
              "'-----------------------------'"
            ]
          },
          "metadata": {}
        },
        {
          "output_type": "display_data",
          "data": {
            "text/plain": [
              "employment_years\n",
              "1     966\n",
              "2     785\n",
              "3     483\n",
              "4     384\n",
              "5     380\n",
              "7     301\n",
              "6     287\n",
              "8     193\n",
              "9     130\n",
              "10     91\n",
              "Name: count, dtype: int64"
            ]
          },
          "metadata": {}
        },
        {
          "output_type": "display_data",
          "data": {
            "text/plain": [
              "'-----------------------------'"
            ]
          },
          "metadata": {}
        },
        {
          "output_type": "display_data",
          "data": {
            "text/plain": [
              "last_year_promo\n",
              "no     3880\n",
              "yes     120\n",
              "Name: count, dtype: int64"
            ]
          },
          "metadata": {}
        },
        {
          "output_type": "display_data",
          "data": {
            "text/plain": [
              "'-----------------------------'"
            ]
          },
          "metadata": {}
        },
        {
          "output_type": "display_data",
          "data": {
            "text/plain": [
              "last_year_violations\n",
              "no     3441\n",
              "yes     559\n",
              "Name: count, dtype: int64"
            ]
          },
          "metadata": {}
        },
        {
          "output_type": "display_data",
          "data": {
            "text/plain": [
              "'-----------------------------'"
            ]
          },
          "metadata": {}
        },
        {
          "output_type": "display_data",
          "data": {
            "text/plain": [
              "supervisor_evaluation\n",
              "4    1603\n",
              "3    1263\n",
              "5     546\n",
              "2     387\n",
              "1     201\n",
              "Name: count, dtype: int64"
            ]
          },
          "metadata": {}
        },
        {
          "output_type": "display_data",
          "data": {
            "text/plain": [
              "'-----------------------------'"
            ]
          },
          "metadata": {}
        },
        {
          "output_type": "display_data",
          "data": {
            "text/plain": [
              "salary\n",
              "24000    187\n",
              "27600    184\n",
              "21600    167\n",
              "26400    167\n",
              "28800    164\n",
              "        ... \n",
              "74400      1\n",
              "85200      1\n",
              "91200      1\n",
              "98400      1\n",
              "97200      1\n",
              "Name: count, Length: 68, dtype: int64"
            ]
          },
          "metadata": {}
        },
        {
          "output_type": "display_data",
          "data": {
            "text/plain": [
              "'-----------------------------'"
            ]
          },
          "metadata": {}
        },
        {
          "output_type": "display_data",
          "data": {
            "text/plain": [
              "job_satisfaction_rate\n",
              "0.65    94\n",
              "0.67    90\n",
              "0.68    85\n",
              "0.69    84\n",
              "0.66    81\n",
              "        ..\n",
              "0.04     4\n",
              "0.99     4\n",
              "0.98     3\n",
              "0.03     3\n",
              "1.00     2\n",
              "Name: count, Length: 98, dtype: int64"
            ]
          },
          "metadata": {}
        },
        {
          "output_type": "display_data",
          "data": {
            "text/plain": [
              "'-----------------------------'"
            ]
          },
          "metadata": {}
        }
      ],
      "source": [
        "_for =[ 'dept', 'level', 'workload', 'employment_years',\n",
        "       'last_year_promo', 'last_year_violations', 'supervisor_evaluation',\n",
        "       'salary', 'job_satisfaction_rate']\n",
        "for i in _for:\n",
        "  display(df_train_job[i].value_counts())\n",
        "  display(f'-----------------------------')"
      ]
    },
    {
      "cell_type": "code",
      "execution_count": 296,
      "id": "dbba7ebf",
      "metadata": {
        "id": "dbba7ebf",
        "colab": {
          "base_uri": "https://localhost:8080/",
          "height": 300
        },
        "outputId": "71611604-1a08-4eee-b3ab-1751c324baa6"
      },
      "outputs": [
        {
          "output_type": "execute_result",
          "data": {
            "text/plain": [
              "       employment_years        salary\n",
              "count       4000.000000   4000.000000\n",
              "mean           3.718500  33926.700000\n",
              "std            2.542513  14900.703838\n",
              "min            1.000000  12000.000000\n",
              "25%            2.000000  22800.000000\n",
              "50%            3.000000  30000.000000\n",
              "75%            6.000000  43200.000000\n",
              "max           10.000000  98400.000000"
            ],
            "text/html": [
              "<div>\n",
              "<style scoped>\n",
              "    .dataframe tbody tr th:only-of-type {\n",
              "        vertical-align: middle;\n",
              "    }\n",
              "\n",
              "    .dataframe tbody tr th {\n",
              "        vertical-align: top;\n",
              "    }\n",
              "\n",
              "    .dataframe thead th {\n",
              "        text-align: right;\n",
              "    }\n",
              "</style>\n",
              "<table border=\"1\" class=\"dataframe\">\n",
              "  <thead>\n",
              "    <tr style=\"text-align: right;\">\n",
              "      <th></th>\n",
              "      <th>employment_years</th>\n",
              "      <th>salary</th>\n",
              "    </tr>\n",
              "  </thead>\n",
              "  <tbody>\n",
              "    <tr>\n",
              "      <th>count</th>\n",
              "      <td>4000.000000</td>\n",
              "      <td>4000.000000</td>\n",
              "    </tr>\n",
              "    <tr>\n",
              "      <th>mean</th>\n",
              "      <td>3.718500</td>\n",
              "      <td>33926.700000</td>\n",
              "    </tr>\n",
              "    <tr>\n",
              "      <th>std</th>\n",
              "      <td>2.542513</td>\n",
              "      <td>14900.703838</td>\n",
              "    </tr>\n",
              "    <tr>\n",
              "      <th>min</th>\n",
              "      <td>1.000000</td>\n",
              "      <td>12000.000000</td>\n",
              "    </tr>\n",
              "    <tr>\n",
              "      <th>25%</th>\n",
              "      <td>2.000000</td>\n",
              "      <td>22800.000000</td>\n",
              "    </tr>\n",
              "    <tr>\n",
              "      <th>50%</th>\n",
              "      <td>3.000000</td>\n",
              "      <td>30000.000000</td>\n",
              "    </tr>\n",
              "    <tr>\n",
              "      <th>75%</th>\n",
              "      <td>6.000000</td>\n",
              "      <td>43200.000000</td>\n",
              "    </tr>\n",
              "    <tr>\n",
              "      <th>max</th>\n",
              "      <td>10.000000</td>\n",
              "      <td>98400.000000</td>\n",
              "    </tr>\n",
              "  </tbody>\n",
              "</table>\n",
              "</div>"
            ]
          },
          "metadata": {},
          "execution_count": 296
        }
      ],
      "source": [
        "df_train_job[['employment_years','salary']].describe()"
      ]
    },
    {
      "cell_type": "markdown",
      "id": "1a40b452",
      "metadata": {
        "id": "1a40b452"
      },
      "source": [
        "* медиана и средняя с большим но всё таки нормальны разбросом\n",
        "*  выбросов больших нет"
      ]
    },
    {
      "cell_type": "code",
      "execution_count": 297,
      "id": "98a28634",
      "metadata": {
        "id": "98a28634",
        "colab": {
          "base_uri": "https://localhost:8080/",
          "height": 1000
        },
        "outputId": "3087513e-0d12-4291-bd66-7a9610197b8e"
      },
      "outputs": [
        {
          "output_type": "display_data",
          "data": {
            "text/plain": [
              "<Figure size 640x480 with 1 Axes>"
            ],
            "image/png": "[encoded data removed]"
          },
          "metadata": {}
        },
        {
          "output_type": "display_data",
          "data": {
            "text/plain": [
              "<Figure size 640x480 with 1 Axes>"
            ],
            "image/png": "[encoded data removed]"
          },
          "metadata": {}
        },
        {
          "output_type": "display_data",
          "data": {
            "text/plain": [
              "<Figure size 640x480 with 1 Axes>"
            ],
            "image/png": "[encoded data removed]"
          },
          "metadata": {}
        },
        {
          "output_type": "display_data",
          "data": {
            "text/plain": [
              "<Figure size 640x480 with 1 Axes>"
            ],
            "image/png": "[encoded data removed]"
          },
          "metadata": {}
        }
      ],
      "source": [
        "plt=reload(plt)\n",
        "_for = [ 'employment_years', 'supervisor_evaluation',\n",
        "       'salary', 'job_satisfaction_rate']\n",
        "for i in _for:\n",
        "  plt.boxplot(df_train_job[i])\n",
        "  plt.title(i)\n",
        "  plt.show()"
      ]
    },
    {
      "cell_type": "markdown",
      "id": "05b2870d",
      "metadata": {
        "id": "05b2870d"
      },
      "source": [
        "* данные соответствуют описанию, аномалий нет, есть идентичные выбросы (будем иметь в виду)"
      ]
    },
    {
      "cell_type": "code",
      "execution_count": 298,
      "id": "ff08e5db",
      "metadata": {
        "id": "ff08e5db",
        "scrolled": true,
        "colab": {
          "base_uri": "https://localhost:8080/"
        },
        "outputId": "b3543140-008c-452a-e64d-15c83871c7d9"
      },
      "outputs": [
        {
          "output_type": "execute_result",
          "data": {
            "text/plain": [
              "201"
            ]
          },
          "metadata": {},
          "execution_count": 298
        }
      ],
      "source": [
        "df_train_job.query('supervisor_evaluation == 1')['supervisor_evaluation'].count()"
      ]
    },
    {
      "cell_type": "code",
      "execution_count": 299,
      "id": "13af4886",
      "metadata": {
        "id": "13af4886",
        "colab": {
          "base_uri": "https://localhost:8080/"
        },
        "outputId": "d4f44a09-3f1e-4269-c473-4fe46d138949"
      },
      "outputs": [
        {
          "output_type": "execute_result",
          "data": {
            "text/plain": [
              "Index(['id', 'dept', 'level', 'workload', 'employment_years',\n",
              "       'last_year_promo', 'last_year_violations', 'supervisor_evaluation',\n",
              "       'salary', 'job_satisfaction_rate'],\n",
              "      dtype='object')"
            ]
          },
          "metadata": {},
          "execution_count": 299
        }
      ],
      "source": [
        "df_train_job.columns"
      ]
    },
    {
      "cell_type": "markdown",
      "id": "cf5cffd0",
      "metadata": {
        "id": "cf5cffd0"
      },
      "source": [
        "* довольно много плохих работников"
      ]
    },
    {
      "cell_type": "code",
      "execution_count": 300,
      "id": "de717fb6",
      "metadata": {
        "id": "de717fb6",
        "colab": {
          "base_uri": "https://localhost:8080/"
        },
        "outputId": "aaf56ca4-310b-492f-f676-56a3880cf4b0"
      },
      "outputs": [
        {
          "output_type": "execute_result",
          "data": {
            "text/plain": [
              "0       False\n",
              "1       False\n",
              "2       False\n",
              "3       False\n",
              "4       False\n",
              "        ...  \n",
              "3995    False\n",
              "3996    False\n",
              "3997    False\n",
              "3998    False\n",
              "3999    False\n",
              "Name: job_satisfaction_rate, Length: 4000, dtype: bool"
            ]
          },
          "metadata": {},
          "execution_count": 300
        }
      ],
      "source": [
        "df_train_job[i] == np.nan"
      ]
    },
    {
      "cell_type": "code",
      "execution_count": 301,
      "id": "1e391f83",
      "metadata": {
        "id": "1e391f83",
        "colab": {
          "base_uri": "https://localhost:8080/",
          "height": 1000
        },
        "outputId": "e569c250-0dbb-46b3-bcad-799240fe4c4e"
      },
      "outputs": [
        {
          "output_type": "display_data",
          "data": {
            "text/plain": [
              "<Figure size 640x480 with 1 Axes>"
            ],
            "image/png": "[encoded data removed]"
          },
          "metadata": {}
        },
        {
          "output_type": "display_data",
          "data": {
            "text/plain": [
              "<Figure size 640x480 with 1 Axes>"
            ],
            "image/png": "[encoded data removed]"
          },
          "metadata": {}
        },
        {
          "output_type": "display_data",
          "data": {
            "text/plain": [
              "<Figure size 640x480 with 1 Axes>"
            ],
            "image/png": "[encoded data removed]"
          },
          "metadata": {}
        },
        {
          "output_type": "display_data",
          "data": {
            "text/plain": [
              "<Figure size 640x480 with 1 Axes>"
            ],
            "image/png": "[encoded data removed]"
          },
          "metadata": {}
        },
        {
          "output_type": "display_data",
          "data": {
            "text/plain": [
              "<Figure size 640x480 with 1 Axes>"
            ],
            "image/png": "[encoded data removed]"
          },
          "metadata": {}
        },
        {
          "output_type": "display_data",
          "data": {
            "text/plain": [
              "<Figure size 640x480 with 1 Axes>"
            ],
            "image/png": "[encoded data removed]"
          },
          "metadata": {}
        },
        {
          "output_type": "display_data",
          "data": {
            "text/plain": [
              "<Figure size 640x480 with 1 Axes>"
            ],
            "image/png": "[encoded data removed]"
          },
          "metadata": {}
        }
      ],
      "source": [
        "_for =['workload', 'employment_years',\n",
        "       'last_year_promo', 'last_year_violations', 'supervisor_evaluation',\n",
        "       'salary', 'job_satisfaction_rate']\n",
        "for i in _for:\n",
        "  plt.hist(df_train_job[i])\n",
        "  plt.title(i)\n",
        "  plt.show()"
      ]
    },
    {
      "cell_type": "markdown",
      "id": "0d5cec5a",
      "metadata": {
        "id": "0d5cec5a"
      },
      "source": [
        "* некоторые данные похожи на порядковые категории `supervisor_evaluation`\n"
      ]
    },
    {
      "cell_type": "markdown",
      "id": "e8a670d6",
      "metadata": {
        "id": "e8a670d6"
      },
      "source": [
        "### `test_features.csv`"
      ]
    },
    {
      "cell_type": "code",
      "execution_count": 302,
      "id": "2807badf",
      "metadata": {
        "id": "2807badf",
        "colab": {
          "base_uri": "https://localhost:8080/",
          "height": 504
        },
        "outputId": "f61a2a26-6cd1-4a3f-f80f-3d9336c037d6"
      },
      "outputs": [
        {
          "output_type": "display_data",
          "data": {
            "text/plain": [
              "       id       dept   level workload  employment_years last_year_promo  \\\n",
              "0  485046  marketing  junior   medium                 2              no   \n",
              "1  686555         hr  junior   medium                 1              no   \n",
              "2  467458      sales  middle      low                 5              no   \n",
              "3  418655      sales  middle      low                 6              no   \n",
              "4  789145         hr  middle   medium                 5              no   \n",
              "\n",
              "  last_year_violations  supervisor_evaluation  salary  \n",
              "0                   no                      5   28800  \n",
              "1                   no                      4   30000  \n",
              "2                   no                      4   19200  \n",
              "3                   no                      4   19200  \n",
              "4                   no                      5   40800  "
            ],
            "text/html": [
              "<div>\n",
              "<style scoped>\n",
              "    .dataframe tbody tr th:only-of-type {\n",
              "        vertical-align: middle;\n",
              "    }\n",
              "\n",
              "    .dataframe tbody tr th {\n",
              "        vertical-align: top;\n",
              "    }\n",
              "\n",
              "    .dataframe thead th {\n",
              "        text-align: right;\n",
              "    }\n",
              "</style>\n",
              "<table border=\"1\" class=\"dataframe\">\n",
              "  <thead>\n",
              "    <tr style=\"text-align: right;\">\n",
              "      <th></th>\n",
              "      <th>id</th>\n",
              "      <th>dept</th>\n",
              "      <th>level</th>\n",
              "      <th>workload</th>\n",
              "      <th>employment_years</th>\n",
              "      <th>last_year_promo</th>\n",
              "      <th>last_year_violations</th>\n",
              "      <th>supervisor_evaluation</th>\n",
              "      <th>salary</th>\n",
              "    </tr>\n",
              "  </thead>\n",
              "  <tbody>\n",
              "    <tr>\n",
              "      <th>0</th>\n",
              "      <td>485046</td>\n",
              "      <td>marketing</td>\n",
              "      <td>junior</td>\n",
              "      <td>medium</td>\n",
              "      <td>2</td>\n",
              "      <td>no</td>\n",
              "      <td>no</td>\n",
              "      <td>5</td>\n",
              "      <td>28800</td>\n",
              "    </tr>\n",
              "    <tr>\n",
              "      <th>1</th>\n",
              "      <td>686555</td>\n",
              "      <td>hr</td>\n",
              "      <td>junior</td>\n",
              "      <td>medium</td>\n",
              "      <td>1</td>\n",
              "      <td>no</td>\n",
              "      <td>no</td>\n",
              "      <td>4</td>\n",
              "      <td>30000</td>\n",
              "    </tr>\n",
              "    <tr>\n",
              "      <th>2</th>\n",
              "      <td>467458</td>\n",
              "      <td>sales</td>\n",
              "      <td>middle</td>\n",
              "      <td>low</td>\n",
              "      <td>5</td>\n",
              "      <td>no</td>\n",
              "      <td>no</td>\n",
              "      <td>4</td>\n",
              "      <td>19200</td>\n",
              "    </tr>\n",
              "    <tr>\n",
              "      <th>3</th>\n",
              "      <td>418655</td>\n",
              "      <td>sales</td>\n",
              "      <td>middle</td>\n",
              "      <td>low</td>\n",
              "      <td>6</td>\n",
              "      <td>no</td>\n",
              "      <td>no</td>\n",
              "      <td>4</td>\n",
              "      <td>19200</td>\n",
              "    </tr>\n",
              "    <tr>\n",
              "      <th>4</th>\n",
              "      <td>789145</td>\n",
              "      <td>hr</td>\n",
              "      <td>middle</td>\n",
              "      <td>medium</td>\n",
              "      <td>5</td>\n",
              "      <td>no</td>\n",
              "      <td>no</td>\n",
              "      <td>5</td>\n",
              "      <td>40800</td>\n",
              "    </tr>\n",
              "  </tbody>\n",
              "</table>\n",
              "</div>"
            ]
          },
          "metadata": {}
        },
        {
          "output_type": "stream",
          "name": "stdout",
          "text": [
            "<class 'pandas.core.frame.DataFrame'>\n",
            "RangeIndex: 2000 entries, 0 to 1999\n",
            "Data columns (total 9 columns):\n",
            " #   Column                 Non-Null Count  Dtype \n",
            "---  ------                 --------------  ----- \n",
            " 0   id                     2000 non-null   int64 \n",
            " 1   dept                   1998 non-null   object\n",
            " 2   level                  1999 non-null   object\n",
            " 3   workload               2000 non-null   object\n",
            " 4   employment_years       2000 non-null   int64 \n",
            " 5   last_year_promo        2000 non-null   object\n",
            " 6   last_year_violations   2000 non-null   object\n",
            " 7   supervisor_evaluation  2000 non-null   int64 \n",
            " 8   salary                 2000 non-null   int64 \n",
            "dtypes: int64(4), object(5)\n",
            "memory usage: 140.8+ KB\n"
          ]
        }
      ],
      "source": [
        "df_test = pd.read_csv(pth + '/test_features.csv')#, sep=';',decimal=',')\n",
        "display(df_test.head(5))\n",
        "df_test.info()"
      ]
    },
    {
      "cell_type": "markdown",
      "id": "76c83061",
      "metadata": {
        "id": "76c83061"
      },
      "source": [
        "* пропусков нет\n",
        "* формат данных корректный"
      ]
    },
    {
      "cell_type": "code",
      "execution_count": 303,
      "id": "374f3fb5",
      "metadata": {
        "id": "374f3fb5",
        "colab": {
          "base_uri": "https://localhost:8080/",
          "height": 364
        },
        "outputId": "44616e50-98c9-45c5-f043-55c25f26f35f"
      },
      "outputs": [
        {
          "output_type": "display_data",
          "data": {
            "text/plain": [
              "\"dept : ['marketing' 'hr' 'sales' 'purchasing' 'technology' nan ' ']\""
            ]
          },
          "metadata": {}
        },
        {
          "output_type": "display_data",
          "data": {
            "text/plain": [
              "'-----------------------------'"
            ]
          },
          "metadata": {}
        },
        {
          "output_type": "display_data",
          "data": {
            "text/plain": [
              "\"level : ['junior' 'middle' 'sinior' nan]\""
            ]
          },
          "metadata": {}
        },
        {
          "output_type": "display_data",
          "data": {
            "text/plain": [
              "'-----------------------------'"
            ]
          },
          "metadata": {}
        },
        {
          "output_type": "display_data",
          "data": {
            "text/plain": [
              "\"workload : ['medium' 'low' 'high' ' ']\""
            ]
          },
          "metadata": {}
        },
        {
          "output_type": "display_data",
          "data": {
            "text/plain": [
              "'-----------------------------'"
            ]
          },
          "metadata": {}
        },
        {
          "output_type": "display_data",
          "data": {
            "text/plain": [
              "'employment_years : [ 2  1  5  6  3  9  7  4  8 10]'"
            ]
          },
          "metadata": {}
        },
        {
          "output_type": "display_data",
          "data": {
            "text/plain": [
              "'-----------------------------'"
            ]
          },
          "metadata": {}
        },
        {
          "output_type": "display_data",
          "data": {
            "text/plain": [
              "\"last_year_promo : ['no' 'yes']\""
            ]
          },
          "metadata": {}
        },
        {
          "output_type": "display_data",
          "data": {
            "text/plain": [
              "'-----------------------------'"
            ]
          },
          "metadata": {}
        },
        {
          "output_type": "display_data",
          "data": {
            "text/plain": [
              "\"last_year_violations : ['no' 'yes']\""
            ]
          },
          "metadata": {}
        },
        {
          "output_type": "display_data",
          "data": {
            "text/plain": [
              "'-----------------------------'"
            ]
          },
          "metadata": {}
        },
        {
          "output_type": "display_data",
          "data": {
            "text/plain": [
              "'supervisor_evaluation : [5 4 3 1 2]'"
            ]
          },
          "metadata": {}
        },
        {
          "output_type": "display_data",
          "data": {
            "text/plain": [
              "'-----------------------------'"
            ]
          },
          "metadata": {}
        },
        {
          "output_type": "display_data",
          "data": {
            "text/plain": [
              "'salary : [28800 30000 19200 40800 42000 26400 49200 62400 14400 36000 33600 44400\\n 27600 12000 64800 20400 34800 15600 18000 50400 31200 51600 16800 43200\\n 52800 32400 37200 58800 24000 21600 48000 45600 25200 63600 61200 56400\\n 38400 46800 55200 13200 39600 54000 57600 68400 22800 72000 81600 60000\\n 66000 67200 70800 76800 79200 69600 94800 82800 80400 87600 86400 96000\\n 78000 75600 73200 84000 88800 92400]'"
            ]
          },
          "metadata": {}
        },
        {
          "output_type": "display_data",
          "data": {
            "text/plain": [
              "'-----------------------------'"
            ]
          },
          "metadata": {}
        }
      ],
      "source": [
        "_for =[ 'dept', 'level', 'workload', 'employment_years',\n",
        "       'last_year_promo', 'last_year_violations', 'supervisor_evaluation',\n",
        "       'salary']\n",
        "for i in _for:\n",
        "  display(f'{i} : {df_test[i].unique()}')\n",
        "  display(f'-----------------------------')"
      ]
    },
    {
      "cell_type": "markdown",
      "id": "6df74c53",
      "metadata": {
        "id": "6df74c53"
      },
      "source": [
        "* заменим пробелы на nan"
      ]
    },
    {
      "cell_type": "code",
      "execution_count": 304,
      "id": "05c45c0b",
      "metadata": {
        "id": "05c45c0b",
        "colab": {
          "base_uri": "https://localhost:8080/",
          "height": 86
        },
        "outputId": "081424a3-de93-4661-ba37-40346dc5be58"
      },
      "outputs": [
        {
          "output_type": "display_data",
          "data": {
            "text/plain": [
              "\"workload : ['medium' 'low' 'high' nan]\""
            ]
          },
          "metadata": {}
        },
        {
          "output_type": "display_data",
          "data": {
            "text/plain": [
              "'-----------------------------'"
            ]
          },
          "metadata": {}
        },
        {
          "output_type": "display_data",
          "data": {
            "text/plain": [
              "\"dept : ['marketing' 'hr' 'sales' 'purchasing' 'technology' nan]\""
            ]
          },
          "metadata": {}
        },
        {
          "output_type": "display_data",
          "data": {
            "text/plain": [
              "'-----------------------------'"
            ]
          },
          "metadata": {}
        }
      ],
      "source": [
        "for i in ['workload','dept']:\n",
        "  df_test[i] = df_test[i].str.replace(' ','')\n",
        "  df_test[i] = df_test[i].apply(lambda x: np.nan if x == '' else x )\n",
        "  display(f'{i} : {df_test[i].unique()}')\n",
        "  display(f'-----------------------------')"
      ]
    },
    {
      "cell_type": "markdown",
      "id": "50edfb39",
      "metadata": {
        "id": "50edfb39"
      },
      "source": [
        "### `test_target_job_satisfaction_rate.csv`"
      ]
    },
    {
      "cell_type": "code",
      "execution_count": 305,
      "id": "0ecb4ce1",
      "metadata": {
        "id": "0ecb4ce1",
        "colab": {
          "base_uri": "https://localhost:8080/",
          "height": 362
        },
        "outputId": "f00ab13f-b0cd-4d7c-df56-fb47567d5fc6"
      },
      "outputs": [
        {
          "output_type": "display_data",
          "data": {
            "text/plain": [
              "       id  job_satisfaction_rate\n",
              "0  130604                   0.74\n",
              "1  825977                   0.75\n",
              "2  418490                   0.60\n",
              "3  555320                   0.72\n",
              "4  826430                   0.08"
            ],
            "text/html": [
              "<div>\n",
              "<style scoped>\n",
              "    .dataframe tbody tr th:only-of-type {\n",
              "        vertical-align: middle;\n",
              "    }\n",
              "\n",
              "    .dataframe tbody tr th {\n",
              "        vertical-align: top;\n",
              "    }\n",
              "\n",
              "    .dataframe thead th {\n",
              "        text-align: right;\n",
              "    }\n",
              "</style>\n",
              "<table border=\"1\" class=\"dataframe\">\n",
              "  <thead>\n",
              "    <tr style=\"text-align: right;\">\n",
              "      <th></th>\n",
              "      <th>id</th>\n",
              "      <th>job_satisfaction_rate</th>\n",
              "    </tr>\n",
              "  </thead>\n",
              "  <tbody>\n",
              "    <tr>\n",
              "      <th>0</th>\n",
              "      <td>130604</td>\n",
              "      <td>0.74</td>\n",
              "    </tr>\n",
              "    <tr>\n",
              "      <th>1</th>\n",
              "      <td>825977</td>\n",
              "      <td>0.75</td>\n",
              "    </tr>\n",
              "    <tr>\n",
              "      <th>2</th>\n",
              "      <td>418490</td>\n",
              "      <td>0.60</td>\n",
              "    </tr>\n",
              "    <tr>\n",
              "      <th>3</th>\n",
              "      <td>555320</td>\n",
              "      <td>0.72</td>\n",
              "    </tr>\n",
              "    <tr>\n",
              "      <th>4</th>\n",
              "      <td>826430</td>\n",
              "      <td>0.08</td>\n",
              "    </tr>\n",
              "  </tbody>\n",
              "</table>\n",
              "</div>"
            ]
          },
          "metadata": {}
        },
        {
          "output_type": "stream",
          "name": "stdout",
          "text": [
            "<class 'pandas.core.frame.DataFrame'>\n",
            "RangeIndex: 2000 entries, 0 to 1999\n",
            "Data columns (total 2 columns):\n",
            " #   Column                 Non-Null Count  Dtype  \n",
            "---  ------                 --------------  -----  \n",
            " 0   id                     2000 non-null   int64  \n",
            " 1   job_satisfaction_rate  2000 non-null   float64\n",
            "dtypes: float64(1), int64(1)\n",
            "memory usage: 31.4 KB\n"
          ]
        }
      ],
      "source": [
        "df_train_job_y = pd.read_csv(pth + '/test_target_job_satisfaction_rate.csv')#, sep=';',decimal=',')\n",
        "display(df_train_job_y.head(5))\n",
        "df_train_job_y.info()"
      ]
    },
    {
      "cell_type": "markdown",
      "id": "bcdc57eb",
      "metadata": {
        "id": "bcdc57eb"
      },
      "source": [
        "* пропусков нет\n",
        "* формат данных корректный"
      ]
    },
    {
      "cell_type": "code",
      "execution_count": 306,
      "id": "1fe48c4c",
      "metadata": {
        "id": "1fe48c4c",
        "colab": {
          "base_uri": "https://localhost:8080/",
          "height": 300
        },
        "outputId": "20c0e8ef-4f0a-40ce-ef6b-b71fd3ea70c3"
      },
      "outputs": [
        {
          "output_type": "execute_result",
          "data": {
            "text/plain": [
              "                  id  job_satisfaction_rate\n",
              "count    2000.000000             2000.00000\n",
              "mean   552765.213500                0.54878\n",
              "std    253851.326129                0.22011\n",
              "min    100298.000000                0.03000\n",
              "25%    339052.000000                0.38000\n",
              "50%    550793.000000                0.58000\n",
              "75%    765763.750000                0.72000\n",
              "max    999029.000000                1.00000"
            ],
            "text/html": [
              "<div>\n",
              "<style scoped>\n",
              "    .dataframe tbody tr th:only-of-type {\n",
              "        vertical-align: middle;\n",
              "    }\n",
              "\n",
              "    .dataframe tbody tr th {\n",
              "        vertical-align: top;\n",
              "    }\n",
              "\n",
              "    .dataframe thead th {\n",
              "        text-align: right;\n",
              "    }\n",
              "</style>\n",
              "<table border=\"1\" class=\"dataframe\">\n",
              "  <thead>\n",
              "    <tr style=\"text-align: right;\">\n",
              "      <th></th>\n",
              "      <th>id</th>\n",
              "      <th>job_satisfaction_rate</th>\n",
              "    </tr>\n",
              "  </thead>\n",
              "  <tbody>\n",
              "    <tr>\n",
              "      <th>count</th>\n",
              "      <td>2000.000000</td>\n",
              "      <td>2000.00000</td>\n",
              "    </tr>\n",
              "    <tr>\n",
              "      <th>mean</th>\n",
              "      <td>552765.213500</td>\n",
              "      <td>0.54878</td>\n",
              "    </tr>\n",
              "    <tr>\n",
              "      <th>std</th>\n",
              "      <td>253851.326129</td>\n",
              "      <td>0.22011</td>\n",
              "    </tr>\n",
              "    <tr>\n",
              "      <th>min</th>\n",
              "      <td>100298.000000</td>\n",
              "      <td>0.03000</td>\n",
              "    </tr>\n",
              "    <tr>\n",
              "      <th>25%</th>\n",
              "      <td>339052.000000</td>\n",
              "      <td>0.38000</td>\n",
              "    </tr>\n",
              "    <tr>\n",
              "      <th>50%</th>\n",
              "      <td>550793.000000</td>\n",
              "      <td>0.58000</td>\n",
              "    </tr>\n",
              "    <tr>\n",
              "      <th>75%</th>\n",
              "      <td>765763.750000</td>\n",
              "      <td>0.72000</td>\n",
              "    </tr>\n",
              "    <tr>\n",
              "      <th>max</th>\n",
              "      <td>999029.000000</td>\n",
              "      <td>1.00000</td>\n",
              "    </tr>\n",
              "  </tbody>\n",
              "</table>\n",
              "</div>"
            ]
          },
          "metadata": {},
          "execution_count": 306
        }
      ],
      "source": [
        "df_train_job_y.describe()"
      ]
    },
    {
      "cell_type": "code",
      "execution_count": 307,
      "id": "81651ed5",
      "metadata": {
        "id": "81651ed5",
        "colab": {
          "base_uri": "https://localhost:8080/",
          "height": 430
        },
        "outputId": "62a6fe7b-efed-4b13-e022-ab3e71eec869"
      },
      "outputs": [
        {
          "output_type": "display_data",
          "data": {
            "text/plain": [
              "<Figure size 640x480 with 1 Axes>"
            ],
            "image/png": "[encoded data removed]"
          },
          "metadata": {}
        }
      ],
      "source": [
        "plt.boxplot(df_train_job_y['job_satisfaction_rate']);"
      ]
    },
    {
      "cell_type": "markdown",
      "id": "b9cc303e",
      "metadata": {
        "id": "b9cc303e"
      },
      "source": [
        "* замечаний нет всё гуд"
      ]
    },
    {
      "cell_type": "markdown",
      "id": "6438ce82",
      "metadata": {
        "id": "6438ce82"
      },
      "source": [
        "### Итог:"
      ]
    },
    {
      "cell_type": "markdown",
      "id": "a6feb5ff",
      "metadata": {
        "id": "a6feb5ff"
      },
      "source": [
        "* заменили пробелы на nan, всего у нас 4000 рабочих будем на них тренировать модель"
      ]
    },
    {
      "cell_type": "markdown",
      "id": "aac4cd07",
      "metadata": {
        "id": "aac4cd07"
      },
      "source": [
        "## Корреляционный анализ"
      ]
    },
    {
      "cell_type": "code",
      "execution_count": 308,
      "id": "9805472a",
      "metadata": {
        "id": "9805472a",
        "scrolled": true,
        "colab": {
          "base_uri": "https://localhost:8080/",
          "height": 748
        },
        "outputId": "bb303178-b133-42eb-86eb-41e653fcf19e"
      },
      "outputs": [
        {
          "output_type": "display_data",
          "data": {
            "text/plain": [
              "<Figure size 1000x800 with 2 Axes>"
            ],
            "image/png": "[encoded data removed]"
          },
          "metadata": {}
        }
      ],
      "source": [
        "corr_matrix = df_train_job.drop('id',axis=1).\\\n",
        "phik_matrix(interval_cols=['employment_years',\n",
        "                           'supervisor_evaluation',\n",
        "                           'salary',\n",
        "                           'job_satisfaction_rate'],\\\n",
        "            bins={'employment_years':10,'supervisor_evaluation':5,\n",
        "                  'salary':10,'job_satisfaction_rate':100,})\n",
        "# Визуализация матрицы корреляции\n",
        "plt.figure(figsize=(10, 8))\n",
        "sns.heatmap(corr_matrix, annot=True, cmap='coolwarm')\n",
        "plt.title('Phi_K Correlation Matrix')\n",
        "plt.show()"
      ]
    },
    {
      "cell_type": "markdown",
      "id": "f00be4c8",
      "metadata": {
        "id": "f00be4c8"
      },
      "source": [
        "* очень высоких корреляций не видно, скорее всего мультиколлинеарности нет\n",
        "* нулевой корреляции нет все признаки коррелируют\n",
        "* довольно не плохо выглядит крайне высоких и крайне низких показателей нет\n"
      ]
    },
    {
      "cell_type": "markdown",
      "id": "1c263a06",
      "metadata": {
        "id": "1c263a06"
      },
      "source": [
        "## Шаг 4. Подготовка данных"
      ]
    },
    {
      "cell_type": "markdown",
      "id": "8c7493b8",
      "metadata": {
        "id": "8c7493b8"
      },
      "source": [
        "* чтоб все были связаны одним индексом\n"
      ]
    },
    {
      "cell_type": "code",
      "execution_count": 309,
      "id": "fe62fd15",
      "metadata": {
        "id": "fe62fd15",
        "colab": {
          "base_uri": "https://localhost:8080/"
        },
        "outputId": "5f90007c-6492-4ae6-e474-942a4912be15"
      },
      "outputs": [
        {
          "output_type": "execute_result",
          "data": {
            "text/plain": [
              "2000"
            ]
          },
          "metadata": {},
          "execution_count": 309
        }
      ],
      "source": [
        "df_test['id'].isin(df_train_job_y['id']).sum()"
      ]
    },
    {
      "cell_type": "markdown",
      "id": "28dabdc7",
      "metadata": {
        "id": "28dabdc7"
      },
      "source": [
        "* все тестовые работники присутствуют в тренировочных данных"
      ]
    },
    {
      "cell_type": "code",
      "execution_count": 310,
      "id": "8afdbcd2",
      "metadata": {
        "id": "8afdbcd2"
      },
      "outputs": [],
      "source": [
        "df_test = df_test.merge(df_train_job_y, on='id')"
      ]
    },
    {
      "cell_type": "markdown",
      "id": "ad39b0fe",
      "metadata": {
        "id": "ad39b0fe"
      },
      "source": [
        "* свяжим целевой признак с тестовыми данными"
      ]
    },
    {
      "cell_type": "code",
      "execution_count": 311,
      "id": "6dff089d",
      "metadata": {
        "id": "6dff089d"
      },
      "outputs": [],
      "source": [
        "y = (df_train_job['job_satisfaction_rate']*100).astype('int16')\n",
        "y_test = (df_test['job_satisfaction_rate']*100).astype('int16')"
      ]
    },
    {
      "cell_type": "markdown",
      "id": "59d75e0e",
      "metadata": {
        "id": "59d75e0e"
      },
      "source": [
        "* наши целевые признаки"
      ]
    },
    {
      "cell_type": "code",
      "execution_count": 312,
      "id": "8d85770a",
      "metadata": {
        "id": "8d85770a"
      },
      "outputs": [],
      "source": [
        "# загружаем данные\n",
        "X = df_train_job.copy()\n",
        "X_test = df_test.copy()\n",
        "\n",
        "# списки с названиями колонок\n",
        "col_drop = ['id','job_satisfaction_rate']\n",
        "ohe_columns = ['dept','last_year_promo', 'last_year_violations']\n",
        "ord_columns = ['level', 'workload','supervisor_evaluation']\n",
        "num_columns = ['salary','employment_years']\n",
        "\n",
        "X = X.drop(columns = col_drop,axis=1)\n",
        "X_test = X_test.drop(columns = col_drop,axis=1)\n",
        "# создаём пайплайн для подготовки признаков из списка ohe_columns: заполнение пропусков и OHE-кодирование\n",
        "# SimpleImputer + OHE\n",
        "ohe_pipe = Pipeline(\n",
        "    [('simpleImputer_ohe', SimpleImputer(missing_values=np.nan, strategy='most_frequent')),\n",
        "     ('ohe', OneHotEncoder(drop='first', handle_unknown='error', sparse=False))\n",
        "    ]\n",
        "    )\n",
        "\n",
        "# создаём пайплайн для подготовки признаков из списка ord_columns: заполнение пропусков и Ordinal-кодирование\n",
        "# SimpleImputer + OE\n",
        "ord_pipe = Pipeline(\n",
        "    [('simpleImputer_before_ord', SimpleImputer(missing_values=np.nan, strategy='most_frequent')),\n",
        "     ('ord',  OrdinalEncoder(categories = \\\n",
        "                             [['junior', 'middle', 'sinior'],\\\n",
        "                              ['low', 'medium', 'high'],[1,2,3,4,5]\n",
        "                ],\n",
        "                handle_unknown='use_encoded_value', unknown_value=np.nan\n",
        "            )\n",
        "        ),\n",
        "     ('simpleImputer_after_ord', SimpleImputer(missing_values=np.nan, strategy='most_frequent'))\n",
        "    ]\n",
        ")\n",
        "\n",
        "# создаём общий пайплайн для подготовки данных\n",
        "data_preprocessor = ColumnTransformer(\n",
        "    [('ohe', ohe_pipe, ohe_columns),\n",
        "     ('ord', ord_pipe, ord_columns),\n",
        "     ('num', MinMaxScaler(), num_columns)\n",
        "    ],\n",
        "    remainder='passthrough'\n",
        ")\n"
      ]
    },
    {
      "cell_type": "markdown",
      "id": "a046bc9e",
      "metadata": {
        "id": "a046bc9e"
      },
      "source": [
        "## Шаг 5. Обучение моделей"
      ]
    },
    {
      "cell_type": "markdown",
      "id": "78799de9",
      "metadata": {
        "id": "78799de9"
      },
      "source": [
        "##### Метрика SMAPE"
      ]
    },
    {
      "cell_type": "code",
      "execution_count": 313,
      "id": "0eef223d",
      "metadata": {
        "id": "0eef223d"
      },
      "outputs": [],
      "source": [
        "# функция расчёта метрики SMAPE\n",
        "def smape_metric(y_true, y_pred):\n",
        "  return 1 / len(y_true) * np.sum(2 * np.abs(y_pred-y_true) / (np.abs(y_true) + \\\n",
        "                                                               np.abs(y_pred))*100)\n",
        "# ссылка на свою метрику\n",
        "scorer = make_scorer(smape_metric,greater_is_better=False)"
      ]
    },
    {
      "cell_type": "code",
      "execution_count": 314,
      "id": "d0de2a72",
      "metadata": {
        "id": "d0de2a72",
        "scrolled": true
      },
      "outputs": [],
      "source": [
        "#pipe_final = Pipeline([\n",
        "#    ('preprocessor', data_preprocessor),\n",
        "#    ('models', LinearRegression())])\n",
        "#\n",
        "#param_grid = [\n",
        "#    # словарь для модели LinearRegression()\n",
        "#    {'models': [LinearRegression()],\n",
        "#     'preprocessor__num': [StandardScaler(), MinMaxScaler(), 'passthrough']\n",
        "#    }]\n",
        "#\n",
        "#randomized_search = RandomizedSearchCV(\n",
        "#    pipe_final,\n",
        "#    param_grid,\n",
        "#    cv=2,\n",
        "#    scoring=scorer, #'r2',\n",
        "#    n_jobs=-1,\n",
        "#    error_score='raise',\n",
        "#    random_state=RANDOM_STATE\n",
        "#)\n",
        "## игнорируем сообщения перед обучением\n",
        "#warnings.filterwarnings('ignore')\n",
        "#\n",
        "## обучим модель с учителем y\n",
        "#randomized_search.fit(X, y)\n",
        "#\n",
        "#best_model = randomized_search.best_estimator_.named_steps['models']\n",
        "#display(f'Лучшая модель : {best_model}')\n",
        "#\n",
        "## попробуем предсказать\n",
        "#pred = randomized_search.best_estimator_.predict(X_test)\n",
        "#\n",
        "## расчитаем свою метрику SMAPE\n",
        "#display(f'SMAPE : {smape_metric(y_test,pred)}')"
      ]
    },
    {
      "cell_type": "markdown",
      "id": "1a327b7f",
      "metadata": {
        "id": "1a327b7f"
      },
      "source": [
        "### Итоговый `Pipeline()`"
      ]
    },
    {
      "cell_type": "code",
      "execution_count": 315,
      "id": "7cade496",
      "metadata": {
        "id": "7cade496",
        "scrolled": false,
        "colab": {
          "base_uri": "https://localhost:8080/",
          "height": 69
        },
        "outputId": "8e7a5d6c-c85b-499b-dc88-313b90fad61d"
      },
      "outputs": [
        {
          "output_type": "display_data",
          "data": {
            "text/plain": [
              "'Лучшая модель : DecisionTreeRegressor(max_depth=27, min_samples_split=6, random_state=42)'"
            ]
          },
          "metadata": {}
        },
        {
          "output_type": "display_data",
          "data": {
            "text/plain": [
              "'SMAPE на тренеровочном: 7.550902976659988'"
            ]
          },
          "metadata": {}
        },
        {
          "output_type": "display_data",
          "data": {
            "text/plain": [
              "'SMAPE на тестовом : 13.852494525275922'"
            ]
          },
          "metadata": {}
        }
      ],
      "source": [
        "pipe_final = Pipeline([\n",
        "    ('preprocessor', data_preprocessor),\n",
        "    ('models', DecisionTreeRegressor(random_state=RANDOM_STATE))\n",
        "])\n",
        "\n",
        "param_grid = [\n",
        "     # словарь для модели LinearRegression()\n",
        "    {'models': [LinearRegression()],\n",
        "     'preprocessor__num': [StandardScaler(), MinMaxScaler(), 'passthrough']\n",
        "    },\n",
        "\n",
        "        # словарь для модели KNeighborsRegressor()\n",
        "    {\n",
        "        'models': [KNeighborsRegressor()],\n",
        "        'models__n_neighbors': range(2, 20),\n",
        "        'preprocessor__num': [StandardScaler(), MinMaxScaler(), 'passthrough']\n",
        "    },\n",
        "\n",
        "              # словарь для модели DecisionTreeRegressor()\n",
        "    {\n",
        "        'models': [DecisionTreeRegressor(random_state=RANDOM_STATE)],\n",
        "        'models__max_depth': range(2,150),\n",
        "        'models__min_samples_split': range(2,10),\n",
        "        'preprocessor__num': [ MinMaxScaler(), 'passthrough']\n",
        "    }\n",
        "]\n",
        "\n",
        "randomized_search = RandomizedSearchCV(\n",
        "    pipe_final,\n",
        "    param_grid,\n",
        "    cv=5,\n",
        "    scoring=scorer, #'r2',\n",
        "    n_jobs=-1,\n",
        "    error_score='raise',\n",
        "    random_state=RANDOM_STATE\n",
        ")\n",
        "# игнорируем сообщения перед обучением\n",
        "warnings.filterwarnings('ignore')\n",
        "\n",
        "# обучим модель с учителем y\n",
        "randomized_search.fit(X, y)\n",
        "\n",
        "best_model = randomized_search.best_estimator_.named_steps['models']\n",
        "display(f'Лучшая модель : {best_model}')\n",
        "\n",
        "# попробуем предсказать\n",
        "pred = randomized_search.best_estimator_.predict(X)\n",
        "\n",
        "# расчитаем свою метрику SMAPE\n",
        "display(f'SMAPE на тренеровочном: {smape_metric(y,pred)}')\n",
        "\n",
        "# попробуем предсказать\n",
        "pred = randomized_search.best_estimator_.predict(X_test)\n",
        "\n",
        "# расчитаем свою метрику SMAPE\n",
        "display(f'SMAPE на тестовом : {smape_metric(y_test,pred)}')\n",
        "\n"
      ]
    },
    {
      "cell_type": "markdown",
      "id": "bfbcc25f",
      "metadata": {
        "id": "bfbcc25f"
      },
      "source": [
        "#### подбор гипер параметров"
      ]
    },
    {
      "cell_type": "code",
      "execution_count": 316,
      "id": "f31f43ed",
      "metadata": {
        "id": "f31f43ed",
        "scrolled": false,
        "colab": {
          "base_uri": "https://localhost:8080/",
          "height": 173
        },
        "outputId": "85c8febb-1647-43fa-c841-d22625404787"
      },
      "outputs": [
        {
          "output_type": "display_data",
          "data": {
            "text/plain": [
              "'SMAPE на кросс-валидации :14.445335519548872'"
            ]
          },
          "metadata": {}
        },
        {
          "output_type": "display_data",
          "data": {
            "text/plain": [
              "'---------------------------------------------------------------------------'"
            ]
          },
          "metadata": {}
        },
        {
          "output_type": "display_data",
          "data": {
            "text/plain": [
              "'Лучшая модель : DecisionTreeRegressor(max_depth=19, max_features=11, min_samples_leaf=3,\\n                      random_state=42)'"
            ]
          },
          "metadata": {}
        },
        {
          "output_type": "display_data",
          "data": {
            "text/plain": [
              "'---------------------------------------------------------------------------'"
            ]
          },
          "metadata": {}
        },
        {
          "output_type": "display_data",
          "data": {
            "text/plain": [
              "\"Лучшие пораметры : {'models': DecisionTreeRegressor(max_depth=19, max_features=11, min_samples_leaf=3,\\n                      random_state=42), 'models__max_depth': 19, 'models__max_features': 11, 'preprocessor__num': MinMaxScaler()}\""
            ]
          },
          "metadata": {}
        },
        {
          "output_type": "display_data",
          "data": {
            "text/plain": [
              "'---------------------------------------------------------------------------'"
            ]
          },
          "metadata": {}
        }
      ],
      "source": [
        "param_grid ={'models': [DecisionTreeRegressor(random_state=RANDOM_STATE,\n",
        "                        min_samples_split = 2, min_samples_leaf = 3)],\n",
        "        'models__max_depth': range(18,20),\n",
        "        'models__max_features': range(9,12),\n",
        "        'preprocessor__num': [MinMaxScaler(), 'passthrough']\n",
        "             }\n",
        "grid = GridSearchCV(\n",
        "    pipe_final,\n",
        "    param_grid,\n",
        "    cv=5,\n",
        "    scoring = scorer,\n",
        "    n_jobs=-1,\n",
        "    error_score='raise',\n",
        ")\n",
        "# проверим качество модели на cross_val_score с метрикой SMAPE\n",
        "test_cv= cross_val_score(grid, X, y, cv=5,scoring = scorer).mean()*-1\n",
        "display(f'SMAPE на кросс-валидации :{test_cv}')\n",
        "\n",
        "\n",
        "# обучим модель с учителем y\n",
        "grid.fit(X, y)\n",
        "best_model = grid.best_estimator_.named_steps['models']\n",
        "display('---------------------------------------------------------------------------')\n",
        "display(f'Лучшая модель : {best_model}')\n",
        "display('---------------------------------------------------------------------------')\n",
        "display(f'Лучшие пораметры : {grid.best_params_}')\n",
        "display('---------------------------------------------------------------------------')"
      ]
    },
    {
      "cell_type": "markdown",
      "id": "2cc07c7f",
      "metadata": {
        "id": "2cc07c7f"
      },
      "source": [
        "#### обучим модель на лутчих параметрах"
      ]
    },
    {
      "cell_type": "code",
      "execution_count": 317,
      "id": "6d19deab",
      "metadata": {
        "id": "6d19deab",
        "colab": {
          "base_uri": "https://localhost:8080/",
          "height": 34
        },
        "outputId": "32e3936b-e737-4f88-f919-ff04c8eecfeb"
      },
      "outputs": [
        {
          "output_type": "display_data",
          "data": {
            "text/plain": [
              "'SMAPE на тестовом : 13.549710424512021'"
            ]
          },
          "metadata": {}
        }
      ],
      "source": [
        "pipe_final = Pipeline([\n",
        "    ('preprocessor', data_preprocessor),\n",
        "    ('models', DecisionTreeRegressor(max_depth=19, max_features=11, min_samples_leaf=3, random_state=42))\n",
        "])\n",
        "pipe_final.fit(X,y)\n",
        "\n",
        "# попробуем предсказать\n",
        "\n",
        "pred = pipe_final.predict(X_test)\n",
        "# расчитаем свою метрику SMAPE\n",
        "display(f'SMAPE на тестовом : {smape_metric(y_test,pred)}')"
      ]
    },
    {
      "cell_type": "markdown",
      "id": "61aa0e26",
      "metadata": {
        "id": "61aa0e26"
      },
      "source": [
        "* критерий успеха: SMAPE ≤15 на тестовой выборке преадалён УРА!"
      ]
    },
    {
      "cell_type": "markdown",
      "id": "3d12772d",
      "metadata": {
        "id": "3d12772d"
      },
      "source": [
        "### Шаг 6. Вывод"
      ]
    },
    {
      "cell_type": "markdown",
      "id": "8966665a",
      "metadata": {
        "id": "8966665a"
      },
      "source": [
        "* лутчая модель это дерево решений\n",
        "* содрудник ставит оценку удовлитварённости анологичным способом взвешивая все плюсы и минусы и в какой-то момент повышает или понижает оценку, хорошо или плохо из нескольких факторов.\n"
      ]
    },
    {
      "cell_type": "markdown",
      "id": "c64b4578",
      "metadata": {
        "id": "c64b4578"
      },
      "source": [
        "## Задача 2: предсказание увольнения сотрудника из компании"
      ]
    },
    {
      "cell_type": "markdown",
      "id": "9779436a",
      "metadata": {
        "id": "9779436a"
      },
      "source": [
        "### Шаг 1 - 3.1. Загрузка данных"
      ]
    },
    {
      "cell_type": "markdown",
      "id": "2b06f357",
      "metadata": {
        "id": "2b06f357"
      },
      "source": [
        "### `train_quit.csv`"
      ]
    },
    {
      "cell_type": "code",
      "execution_count": 318,
      "id": "1f1877e4",
      "metadata": {
        "id": "1f1877e4",
        "colab": {
          "base_uri": "https://localhost:8080/",
          "height": 226
        },
        "outputId": "a97d8fca-dad8-4161-ea02-3dffd173cd6c"
      },
      "outputs": [
        {
          "output_type": "display_data",
          "data": {
            "text/plain": [
              "       id        dept   level workload  employment_years last_year_promo  \\\n",
              "0  723290       sales  middle     high                 2              no   \n",
              "1  814010       sales  junior   medium                 2              no   \n",
              "2  155091  purchasing  middle   medium                 5              no   \n",
              "3  257132       sales  junior   medium                 2              no   \n",
              "4  910140   marketing  junior   medium                 2              no   \n",
              "\n",
              "  last_year_violations  supervisor_evaluation  salary quit  \n",
              "0                   no                      4   54000   no  \n",
              "1                   no                      4   27600   no  \n",
              "2                   no                      1   37200   no  \n",
              "3                  yes                      3   24000  yes  \n",
              "4                   no                      5   25200   no  "
            ],
            "text/html": [
              "<div>\n",
              "<style scoped>\n",
              "    .dataframe tbody tr th:only-of-type {\n",
              "        vertical-align: middle;\n",
              "    }\n",
              "\n",
              "    .dataframe tbody tr th {\n",
              "        vertical-align: top;\n",
              "    }\n",
              "\n",
              "    .dataframe thead th {\n",
              "        text-align: right;\n",
              "    }\n",
              "</style>\n",
              "<table border=\"1\" class=\"dataframe\">\n",
              "  <thead>\n",
              "    <tr style=\"text-align: right;\">\n",
              "      <th></th>\n",
              "      <th>id</th>\n",
              "      <th>dept</th>\n",
              "      <th>level</th>\n",
              "      <th>workload</th>\n",
              "      <th>employment_years</th>\n",
              "      <th>last_year_promo</th>\n",
              "      <th>last_year_violations</th>\n",
              "      <th>supervisor_evaluation</th>\n",
              "      <th>salary</th>\n",
              "      <th>quit</th>\n",
              "    </tr>\n",
              "  </thead>\n",
              "  <tbody>\n",
              "    <tr>\n",
              "      <th>0</th>\n",
              "      <td>723290</td>\n",
              "      <td>sales</td>\n",
              "      <td>middle</td>\n",
              "      <td>high</td>\n",
              "      <td>2</td>\n",
              "      <td>no</td>\n",
              "      <td>no</td>\n",
              "      <td>4</td>\n",
              "      <td>54000</td>\n",
              "      <td>no</td>\n",
              "    </tr>\n",
              "    <tr>\n",
              "      <th>1</th>\n",
              "      <td>814010</td>\n",
              "      <td>sales</td>\n",
              "      <td>junior</td>\n",
              "      <td>medium</td>\n",
              "      <td>2</td>\n",
              "      <td>no</td>\n",
              "      <td>no</td>\n",
              "      <td>4</td>\n",
              "      <td>27600</td>\n",
              "      <td>no</td>\n",
              "    </tr>\n",
              "    <tr>\n",
              "      <th>2</th>\n",
              "      <td>155091</td>\n",
              "      <td>purchasing</td>\n",
              "      <td>middle</td>\n",
              "      <td>medium</td>\n",
              "      <td>5</td>\n",
              "      <td>no</td>\n",
              "      <td>no</td>\n",
              "      <td>1</td>\n",
              "      <td>37200</td>\n",
              "      <td>no</td>\n",
              "    </tr>\n",
              "    <tr>\n",
              "      <th>3</th>\n",
              "      <td>257132</td>\n",
              "      <td>sales</td>\n",
              "      <td>junior</td>\n",
              "      <td>medium</td>\n",
              "      <td>2</td>\n",
              "      <td>no</td>\n",
              "      <td>yes</td>\n",
              "      <td>3</td>\n",
              "      <td>24000</td>\n",
              "      <td>yes</td>\n",
              "    </tr>\n",
              "    <tr>\n",
              "      <th>4</th>\n",
              "      <td>910140</td>\n",
              "      <td>marketing</td>\n",
              "      <td>junior</td>\n",
              "      <td>medium</td>\n",
              "      <td>2</td>\n",
              "      <td>no</td>\n",
              "      <td>no</td>\n",
              "      <td>5</td>\n",
              "      <td>25200</td>\n",
              "      <td>no</td>\n",
              "    </tr>\n",
              "  </tbody>\n",
              "</table>\n",
              "</div>"
            ]
          },
          "metadata": {}
        }
      ],
      "source": [
        "df_train_quit = pd.read_csv(pth + '/train_quit.csv')\n",
        "display(df_train_quit.head(5))"
      ]
    },
    {
      "cell_type": "code",
      "execution_count": 319,
      "id": "8b5c4c2c",
      "metadata": {
        "id": "8b5c4c2c",
        "colab": {
          "base_uri": "https://localhost:8080/"
        },
        "outputId": "96c4306f-6059-4f1b-d00c-fda01f5c3235"
      },
      "outputs": [
        {
          "output_type": "stream",
          "name": "stdout",
          "text": [
            "<class 'pandas.core.frame.DataFrame'>\n",
            "RangeIndex: 4000 entries, 0 to 3999\n",
            "Data columns (total 10 columns):\n",
            " #   Column                 Non-Null Count  Dtype \n",
            "---  ------                 --------------  ----- \n",
            " 0   id                     4000 non-null   int64 \n",
            " 1   dept                   4000 non-null   object\n",
            " 2   level                  4000 non-null   object\n",
            " 3   workload               4000 non-null   object\n",
            " 4   employment_years       4000 non-null   int64 \n",
            " 5   last_year_promo        4000 non-null   object\n",
            " 6   last_year_violations   4000 non-null   object\n",
            " 7   supervisor_evaluation  4000 non-null   int64 \n",
            " 8   salary                 4000 non-null   int64 \n",
            " 9   quit                   4000 non-null   object\n",
            "dtypes: int64(4), object(6)\n",
            "memory usage: 312.6+ KB\n"
          ]
        }
      ],
      "source": [
        "df_train_quit.info()"
      ]
    },
    {
      "cell_type": "markdown",
      "id": "5147607e",
      "metadata": {
        "id": "5147607e"
      },
      "source": [
        "* названия змеинные\n",
        "* пропусков нет\n",
        "* тип данных норм"
      ]
    },
    {
      "cell_type": "code",
      "execution_count": 320,
      "id": "9721aae6",
      "metadata": {
        "id": "9721aae6",
        "colab": {
          "base_uri": "https://localhost:8080/"
        },
        "outputId": "ba48fc09-37af-4fac-8f84-089ad1345d5e"
      },
      "outputs": [
        {
          "output_type": "execute_result",
          "data": {
            "text/plain": [
              "0"
            ]
          },
          "metadata": {},
          "execution_count": 320
        }
      ],
      "source": [
        "df_train_quit['id'].duplicated().sum()"
      ]
    },
    {
      "cell_type": "markdown",
      "id": "1897fc0b",
      "metadata": {
        "id": "1897fc0b"
      },
      "source": [
        "* все сотрудники уникальны"
      ]
    },
    {
      "cell_type": "code",
      "execution_count": 321,
      "id": "d508cab2",
      "metadata": {
        "id": "d508cab2",
        "colab": {
          "base_uri": "https://localhost:8080/"
        },
        "outputId": "907f8936-852d-4997-a8e3-3afb31d54fd2"
      },
      "outputs": [
        {
          "output_type": "execute_result",
          "data": {
            "text/plain": [
              "Index(['id', 'dept', 'level', 'workload', 'employment_years',\n",
              "       'last_year_promo', 'last_year_violations', 'supervisor_evaluation',\n",
              "       'salary', 'quit'],\n",
              "      dtype='object')"
            ]
          },
          "metadata": {},
          "execution_count": 321
        }
      ],
      "source": [
        "df_train_quit.columns"
      ]
    },
    {
      "cell_type": "code",
      "execution_count": 322,
      "id": "734d5134",
      "metadata": {
        "id": "734d5134",
        "colab": {
          "base_uri": "https://localhost:8080/",
          "height": 468
        },
        "outputId": "cc37258e-73ba-4f8a-b8d4-c72c43e2e9a9"
      },
      "outputs": [
        {
          "output_type": "display_data",
          "data": {
            "text/plain": [
              "array(['sales', 'purchasing', 'marketing', 'technology', 'hr'],\n",
              "      dtype=object)"
            ]
          },
          "metadata": {}
        },
        {
          "output_type": "display_data",
          "data": {
            "text/plain": [
              "'-----------------------------'"
            ]
          },
          "metadata": {}
        },
        {
          "output_type": "display_data",
          "data": {
            "text/plain": [
              "array(['middle', 'junior', 'sinior'], dtype=object)"
            ]
          },
          "metadata": {}
        },
        {
          "output_type": "display_data",
          "data": {
            "text/plain": [
              "'-----------------------------'"
            ]
          },
          "metadata": {}
        },
        {
          "output_type": "display_data",
          "data": {
            "text/plain": [
              "array(['high', 'medium', 'low'], dtype=object)"
            ]
          },
          "metadata": {}
        },
        {
          "output_type": "display_data",
          "data": {
            "text/plain": [
              "'-----------------------------'"
            ]
          },
          "metadata": {}
        },
        {
          "output_type": "display_data",
          "data": {
            "text/plain": [
              "array([ 2,  5,  1,  8,  4,  7,  3,  9,  6, 10], dtype=int64)"
            ]
          },
          "metadata": {}
        },
        {
          "output_type": "display_data",
          "data": {
            "text/plain": [
              "'-----------------------------'"
            ]
          },
          "metadata": {}
        },
        {
          "output_type": "display_data",
          "data": {
            "text/plain": [
              "array(['no', 'yes'], dtype=object)"
            ]
          },
          "metadata": {}
        },
        {
          "output_type": "display_data",
          "data": {
            "text/plain": [
              "'-----------------------------'"
            ]
          },
          "metadata": {}
        },
        {
          "output_type": "display_data",
          "data": {
            "text/plain": [
              "array(['no', 'yes'], dtype=object)"
            ]
          },
          "metadata": {}
        },
        {
          "output_type": "display_data",
          "data": {
            "text/plain": [
              "'-----------------------------'"
            ]
          },
          "metadata": {}
        },
        {
          "output_type": "display_data",
          "data": {
            "text/plain": [
              "array([4, 1, 3, 5, 2], dtype=int64)"
            ]
          },
          "metadata": {}
        },
        {
          "output_type": "display_data",
          "data": {
            "text/plain": [
              "'-----------------------------'"
            ]
          },
          "metadata": {}
        },
        {
          "output_type": "display_data",
          "data": {
            "text/plain": [
              "array([54000, 27600, 37200, 24000, 25200, 18000, 44400, 19200, 45600,\n",
              "       57600, 33600, 16800, 22800, 26400, 82800, 32400, 39600, 30000,\n",
              "       46800, 12000, 15600, 58800, 60000, 66000, 21600, 38400, 62400,\n",
              "       40800, 56400, 34800, 28800, 52800, 20400, 36000, 61200, 48000,\n",
              "       43200, 73200, 31200, 78000, 64800, 72000, 94800, 96000, 63600,\n",
              "       79200, 55200, 42000, 49200, 50400, 14400, 13200, 51600, 67200,\n",
              "       88800, 68400, 69600, 70800, 84000, 81600, 87600, 75600, 91200,\n",
              "       76800, 74400, 80400, 85200, 86400, 92400], dtype=int64)"
            ]
          },
          "metadata": {}
        },
        {
          "output_type": "display_data",
          "data": {
            "text/plain": [
              "'-----------------------------'"
            ]
          },
          "metadata": {}
        },
        {
          "output_type": "display_data",
          "data": {
            "text/plain": [
              "array(['no', 'yes'], dtype=object)"
            ]
          },
          "metadata": {}
        },
        {
          "output_type": "display_data",
          "data": {
            "text/plain": [
              "'-----------------------------'"
            ]
          },
          "metadata": {}
        }
      ],
      "source": [
        "_for =[ 'dept', 'level', 'workload', 'employment_years',\n",
        "       'last_year_promo', 'last_year_violations', 'supervisor_evaluation',\n",
        "       'salary', 'quit']\n",
        "for i in _for:\n",
        "  display(df_train_quit[i].unique())\n",
        "  display(f'-----------------------------')"
      ]
    },
    {
      "cell_type": "markdown",
      "id": "a127b09d",
      "metadata": {
        "id": "a127b09d"
      },
      "source": [
        "* никаких пустых данных нет\n",
        "* признаки теже"
      ]
    },
    {
      "cell_type": "code",
      "execution_count": 323,
      "id": "0bedf225",
      "metadata": {
        "id": "0bedf225",
        "colab": {
          "base_uri": "https://localhost:8080/",
          "height": 1000
        },
        "outputId": "6a2997ca-9b3f-46e0-afce-8a0b1ffda91e"
      },
      "outputs": [
        {
          "output_type": "display_data",
          "data": {
            "text/plain": [
              "dept\n",
              "sales         1438\n",
              "technology     928\n",
              "purchasing     588\n",
              "marketing      582\n",
              "hr             464\n",
              "Name: count, dtype: int64"
            ]
          },
          "metadata": {}
        },
        {
          "output_type": "display_data",
          "data": {
            "text/plain": [
              "'-----------------------------'"
            ]
          },
          "metadata": {}
        },
        {
          "output_type": "display_data",
          "data": {
            "text/plain": [
              "level\n",
              "junior    1949\n",
              "middle    1694\n",
              "sinior     357\n",
              "Name: count, dtype: int64"
            ]
          },
          "metadata": {}
        },
        {
          "output_type": "display_data",
          "data": {
            "text/plain": [
              "'-----------------------------'"
            ]
          },
          "metadata": {}
        },
        {
          "output_type": "display_data",
          "data": {
            "text/plain": [
              "workload\n",
              "medium    2118\n",
              "low       1208\n",
              "high       674\n",
              "Name: count, dtype: int64"
            ]
          },
          "metadata": {}
        },
        {
          "output_type": "display_data",
          "data": {
            "text/plain": [
              "'-----------------------------'"
            ]
          },
          "metadata": {}
        },
        {
          "output_type": "display_data",
          "data": {
            "text/plain": [
              "employment_years\n",
              "1     985\n",
              "2     777\n",
              "3     479\n",
              "4     393\n",
              "5     362\n",
              "7     308\n",
              "6     296\n",
              "8     174\n",
              "9     136\n",
              "10     90\n",
              "Name: count, dtype: int64"
            ]
          },
          "metadata": {}
        },
        {
          "output_type": "display_data",
          "data": {
            "text/plain": [
              "'-----------------------------'"
            ]
          },
          "metadata": {}
        },
        {
          "output_type": "display_data",
          "data": {
            "text/plain": [
              "last_year_promo\n",
              "no     3887\n",
              "yes     113\n",
              "Name: count, dtype: int64"
            ]
          },
          "metadata": {}
        },
        {
          "output_type": "display_data",
          "data": {
            "text/plain": [
              "'-----------------------------'"
            ]
          },
          "metadata": {}
        },
        {
          "output_type": "display_data",
          "data": {
            "text/plain": [
              "last_year_violations\n",
              "no     3455\n",
              "yes     545\n",
              "Name: count, dtype: int64"
            ]
          },
          "metadata": {}
        },
        {
          "output_type": "display_data",
          "data": {
            "text/plain": [
              "'-----------------------------'"
            ]
          },
          "metadata": {}
        },
        {
          "output_type": "display_data",
          "data": {
            "text/plain": [
              "supervisor_evaluation\n",
              "4    1654\n",
              "3    1233\n",
              "5     520\n",
              "2     391\n",
              "1     202\n",
              "Name: count, dtype: int64"
            ]
          },
          "metadata": {}
        },
        {
          "output_type": "display_data",
          "data": {
            "text/plain": [
              "'-----------------------------'"
            ]
          },
          "metadata": {}
        },
        {
          "output_type": "display_data",
          "data": {
            "text/plain": [
              "salary\n",
              "24000    200\n",
              "27600    185\n",
              "19200    182\n",
              "26400    180\n",
              "33600    164\n",
              "        ... \n",
              "88800      2\n",
              "91200      1\n",
              "85200      1\n",
              "86400      1\n",
              "92400      1\n",
              "Name: count, Length: 69, dtype: int64"
            ]
          },
          "metadata": {}
        },
        {
          "output_type": "display_data",
          "data": {
            "text/plain": [
              "'-----------------------------'"
            ]
          },
          "metadata": {}
        },
        {
          "output_type": "display_data",
          "data": {
            "text/plain": [
              "quit\n",
              "no     2872\n",
              "yes    1128\n",
              "Name: count, dtype: int64"
            ]
          },
          "metadata": {}
        },
        {
          "output_type": "display_data",
          "data": {
            "text/plain": [
              "'-----------------------------'"
            ]
          },
          "metadata": {}
        },
        {
          "output_type": "execute_result",
          "data": {
            "text/plain": [
              "       employment_years        salary\n",
              "count       4000.000000   4000.000000\n",
              "mean           3.701500  33805.800000\n",
              "std            2.541852  15152.415163\n",
              "min            1.000000  12000.000000\n",
              "25%            2.000000  22800.000000\n",
              "50%            3.000000  30000.000000\n",
              "75%            6.000000  43200.000000\n",
              "max           10.000000  96000.000000"
            ],
            "text/html": [
              "<div>\n",
              "<style scoped>\n",
              "    .dataframe tbody tr th:only-of-type {\n",
              "        vertical-align: middle;\n",
              "    }\n",
              "\n",
              "    .dataframe tbody tr th {\n",
              "        vertical-align: top;\n",
              "    }\n",
              "\n",
              "    .dataframe thead th {\n",
              "        text-align: right;\n",
              "    }\n",
              "</style>\n",
              "<table border=\"1\" class=\"dataframe\">\n",
              "  <thead>\n",
              "    <tr style=\"text-align: right;\">\n",
              "      <th></th>\n",
              "      <th>employment_years</th>\n",
              "      <th>salary</th>\n",
              "    </tr>\n",
              "  </thead>\n",
              "  <tbody>\n",
              "    <tr>\n",
              "      <th>count</th>\n",
              "      <td>4000.000000</td>\n",
              "      <td>4000.000000</td>\n",
              "    </tr>\n",
              "    <tr>\n",
              "      <th>mean</th>\n",
              "      <td>3.701500</td>\n",
              "      <td>33805.800000</td>\n",
              "    </tr>\n",
              "    <tr>\n",
              "      <th>std</th>\n",
              "      <td>2.541852</td>\n",
              "      <td>15152.415163</td>\n",
              "    </tr>\n",
              "    <tr>\n",
              "      <th>min</th>\n",
              "      <td>1.000000</td>\n",
              "      <td>12000.000000</td>\n",
              "    </tr>\n",
              "    <tr>\n",
              "      <th>25%</th>\n",
              "      <td>2.000000</td>\n",
              "      <td>22800.000000</td>\n",
              "    </tr>\n",
              "    <tr>\n",
              "      <th>50%</th>\n",
              "      <td>3.000000</td>\n",
              "      <td>30000.000000</td>\n",
              "    </tr>\n",
              "    <tr>\n",
              "      <th>75%</th>\n",
              "      <td>6.000000</td>\n",
              "      <td>43200.000000</td>\n",
              "    </tr>\n",
              "    <tr>\n",
              "      <th>max</th>\n",
              "      <td>10.000000</td>\n",
              "      <td>96000.000000</td>\n",
              "    </tr>\n",
              "  </tbody>\n",
              "</table>\n",
              "</div>"
            ]
          },
          "metadata": {},
          "execution_count": 323
        }
      ],
      "source": [
        "_for =[ 'dept', 'level', 'workload', 'employment_years',\n",
        "       'last_year_promo', 'last_year_violations', 'supervisor_evaluation',\n",
        "       'salary', 'quit']\n",
        "for i in _for:\n",
        "  display(df_train_quit[i].value_counts())\n",
        "  display(f'-----------------------------')\n",
        "df_train_quit[['employment_years','salary']].describe()"
      ]
    },
    {
      "cell_type": "code",
      "execution_count": 324,
      "id": "4c140d51",
      "metadata": {
        "id": "4c140d51",
        "colab": {
          "base_uri": "https://localhost:8080/",
          "height": 487
        },
        "outputId": "6c63ee18-36e3-4bc1-e8a5-ef0bb8bc7b46"
      },
      "outputs": [
        {
          "output_type": "display_data",
          "data": {
            "text/plain": [
              "<Figure size 640x480 with 3 Axes>"
            ],
            "image/png": "[encoded data removed]"
          },
          "metadata": {}
        }
      ],
      "source": [
        "_for = [ 'employment_years', 'supervisor_evaluation',\n",
        "       'salary']\n",
        "\n",
        "j=0\n",
        "for i in _for:\n",
        "\n",
        "    # Set up the plot\n",
        "   ax = plt.subplot(2, 2, j + 1)\n",
        "   j = j+1\n",
        "\n",
        "    # Draw the plot\n",
        "   ax.boxplot(df_train_quit[i])\n",
        "\n",
        "    # Title and labels\n",
        "   ax.set_title(i)\n",
        "plt.tight_layout()\n",
        "plt.show()"
      ]
    },
    {
      "cell_type": "code",
      "execution_count": 325,
      "id": "80103d76",
      "metadata": {
        "id": "80103d76",
        "colab": {
          "base_uri": "https://localhost:8080/"
        },
        "outputId": "d3c2259f-cd3f-45b0-97ba-52c560d4d61b"
      },
      "outputs": [
        {
          "output_type": "execute_result",
          "data": {
            "text/plain": [
              "202"
            ]
          },
          "metadata": {},
          "execution_count": 325
        }
      ],
      "source": [
        "df_train_quit.query('supervisor_evaluation == 1')['supervisor_evaluation'].count()"
      ]
    },
    {
      "cell_type": "markdown",
      "id": "ec09abfa",
      "metadata": {
        "id": "ec09abfa"
      },
      "source": [
        "* плюс ещё один туниядец"
      ]
    },
    {
      "cell_type": "code",
      "execution_count": 326,
      "id": "5a7e7b5b",
      "metadata": {
        "id": "5a7e7b5b",
        "colab": {
          "base_uri": "https://localhost:8080/",
          "height": 487
        },
        "outputId": "69e022c8-8f6d-41e9-d52e-abe1c97a158b"
      },
      "outputs": [
        {
          "output_type": "display_data",
          "data": {
            "text/plain": [
              "<Figure size 640x480 with 7 Axes>"
            ],
            "image/png": "[encoded data removed]"
          },
          "metadata": {}
        }
      ],
      "source": [
        "_for =['workload', 'employment_years',\n",
        "       'last_year_promo', 'last_year_violations', 'supervisor_evaluation',\n",
        "       'salary', 'quit']\n",
        "j=0\n",
        "for i in _for:\n",
        "\n",
        "    # Set up the plot\n",
        "   ax = plt.subplot(3, 3, j + 1)\n",
        "   j = j+1\n",
        "\n",
        "    # Draw the plot\n",
        "   ax.hist(df_train_quit[i], bins = 50,\n",
        "             color = 'blue', edgecolor = 'black')\n",
        "\n",
        "    # Title and labels\n",
        "   ax.set_title(i)\n",
        "plt.tight_layout()\n",
        "plt.show()"
      ]
    },
    {
      "cell_type": "markdown",
      "id": "8b3f7d12",
      "metadata": {
        "id": "8b3f7d12"
      },
      "source": [
        "### `test_target_quit.csv`"
      ]
    },
    {
      "cell_type": "code",
      "execution_count": 327,
      "id": "6082837f",
      "metadata": {
        "id": "6082837f",
        "colab": {
          "base_uri": "https://localhost:8080/",
          "height": 206
        },
        "outputId": "604af44a-0761-49fd-a381-50c590c5823a"
      },
      "outputs": [
        {
          "output_type": "display_data",
          "data": {
            "text/plain": [
              "       id quit\n",
              "0  999029  yes\n",
              "1  372846   no\n",
              "2  726767   no\n",
              "3  490105   no\n",
              "4  416898  yes"
            ],
            "text/html": [
              "<div>\n",
              "<style scoped>\n",
              "    .dataframe tbody tr th:only-of-type {\n",
              "        vertical-align: middle;\n",
              "    }\n",
              "\n",
              "    .dataframe tbody tr th {\n",
              "        vertical-align: top;\n",
              "    }\n",
              "\n",
              "    .dataframe thead th {\n",
              "        text-align: right;\n",
              "    }\n",
              "</style>\n",
              "<table border=\"1\" class=\"dataframe\">\n",
              "  <thead>\n",
              "    <tr style=\"text-align: right;\">\n",
              "      <th></th>\n",
              "      <th>id</th>\n",
              "      <th>quit</th>\n",
              "    </tr>\n",
              "  </thead>\n",
              "  <tbody>\n",
              "    <tr>\n",
              "      <th>0</th>\n",
              "      <td>999029</td>\n",
              "      <td>yes</td>\n",
              "    </tr>\n",
              "    <tr>\n",
              "      <th>1</th>\n",
              "      <td>372846</td>\n",
              "      <td>no</td>\n",
              "    </tr>\n",
              "    <tr>\n",
              "      <th>2</th>\n",
              "      <td>726767</td>\n",
              "      <td>no</td>\n",
              "    </tr>\n",
              "    <tr>\n",
              "      <th>3</th>\n",
              "      <td>490105</td>\n",
              "      <td>no</td>\n",
              "    </tr>\n",
              "    <tr>\n",
              "      <th>4</th>\n",
              "      <td>416898</td>\n",
              "      <td>yes</td>\n",
              "    </tr>\n",
              "  </tbody>\n",
              "</table>\n",
              "</div>"
            ]
          },
          "metadata": {}
        }
      ],
      "source": [
        "df_test_target_quit = pd.read_csv(pth + '/test_target_quit.csv')#, sep=';',decimal=',')\n",
        "display(df_test_target_quit.head(5))"
      ]
    },
    {
      "cell_type": "code",
      "execution_count": 328,
      "id": "631ceb3b",
      "metadata": {
        "id": "631ceb3b",
        "colab": {
          "base_uri": "https://localhost:8080/"
        },
        "outputId": "ab3eed83-8b4c-4f35-e99c-ffe41b148e88"
      },
      "outputs": [
        {
          "output_type": "stream",
          "name": "stdout",
          "text": [
            "<class 'pandas.core.frame.DataFrame'>\n",
            "RangeIndex: 2000 entries, 0 to 1999\n",
            "Data columns (total 2 columns):\n",
            " #   Column  Non-Null Count  Dtype \n",
            "---  ------  --------------  ----- \n",
            " 0   id      2000 non-null   int64 \n",
            " 1   quit    2000 non-null   object\n",
            "dtypes: int64(1), object(1)\n",
            "memory usage: 31.4+ KB\n"
          ]
        }
      ],
      "source": [
        "df_test_target_quit.info()"
      ]
    },
    {
      "cell_type": "markdown",
      "id": "44a80433",
      "metadata": {
        "id": "44a80433"
      },
      "source": [
        "* пропусков нет\n",
        "* формат данных корректный"
      ]
    },
    {
      "cell_type": "code",
      "execution_count": 329,
      "id": "93348fc6",
      "metadata": {
        "id": "93348fc6",
        "colab": {
          "base_uri": "https://localhost:8080/"
        },
        "outputId": "b2e03a1b-3824-41cc-f879-a498e45fc5f5"
      },
      "outputs": [
        {
          "output_type": "execute_result",
          "data": {
            "text/plain": [
              "array(['yes', 'no'], dtype=object)"
            ]
          },
          "metadata": {},
          "execution_count": 329
        }
      ],
      "source": [
        "df_test_target_quit['quit'].unique()"
      ]
    },
    {
      "cell_type": "markdown",
      "id": "fdfb135d",
      "metadata": {
        "id": "fdfb135d"
      },
      "source": [
        "* замечаний нет всё гуд"
      ]
    },
    {
      "cell_type": "markdown",
      "id": "05359340",
      "metadata": {
        "id": "05359340"
      },
      "source": [
        "#### Итог:"
      ]
    },
    {
      "cell_type": "markdown",
      "id": "006c6c57",
      "metadata": {
        "id": "006c6c57"
      },
      "source": [
        "* nan в дальнейшем обработаем в конвеером пайпланом\n"
      ]
    },
    {
      "cell_type": "markdown",
      "id": "67077afc",
      "metadata": {
        "id": "67077afc"
      },
      "source": [
        "### Шаг. 3.2. портрет «уволившегося сотрудника»\n",
        "\n",
        "* Например, можно узнать, в каком отделе с большей вероятностью работает уволившийся сотрудник и какой у него уровень загруженности. Также можно сравнить среднее значение зарплаты ушедших сотрудников с теми, кто остался в компании.\n"
      ]
    },
    {
      "cell_type": "code",
      "execution_count": 330,
      "id": "f09be768",
      "metadata": {
        "id": "f09be768",
        "colab": {
          "base_uri": "https://localhost:8080/"
        },
        "outputId": "8643edba-6e9f-4693-d42e-1a5e538c937f"
      },
      "outputs": [
        {
          "output_type": "execute_result",
          "data": {
            "text/plain": [
              "Index(['id', 'dept', 'level', 'workload', 'employment_years',\n",
              "       'last_year_promo', 'last_year_violations', 'supervisor_evaluation',\n",
              "       'salary', 'quit'],\n",
              "      dtype='object')"
            ]
          },
          "metadata": {},
          "execution_count": 330
        }
      ],
      "source": [
        "df_train_quit.columns"
      ]
    },
    {
      "cell_type": "code",
      "execution_count": 331,
      "id": "b5b27699",
      "metadata": {
        "id": "b5b27699",
        "colab": {
          "base_uri": "https://localhost:8080/",
          "height": 487
        },
        "outputId": "e42b1ea3-a7d9-4060-cfd0-48679eab8bb6"
      },
      "outputs": [
        {
          "output_type": "display_data",
          "data": {
            "text/plain": [
              "<Figure size 640x480 with 2 Axes>"
            ],
            "image/png": "[encoded data removed]"
          },
          "metadata": {}
        }
      ],
      "source": [
        "_for =['dept', 'workload']\n",
        "j=0\n",
        "for i in _for:\n",
        "\n",
        "    # Set up the plot\n",
        "   ax = plt.subplot(2, 1, j + 1)\n",
        "   j = j+1\n",
        "\n",
        "    # Draw the plot\n",
        "   ax.hist(df_train_quit.query('quit == \"yes\"')[i], bins = 50,\n",
        "             color = 'blue', edgecolor = 'black')\n",
        "\n",
        "    # Title and labels\n",
        "   ax.set_title(i)\n",
        "plt.tight_layout()\n",
        "plt.show()"
      ]
    },
    {
      "cell_type": "code",
      "execution_count": 332,
      "id": "7a307d83",
      "metadata": {
        "id": "7a307d83",
        "colab": {
          "base_uri": "https://localhost:8080/"
        },
        "outputId": "4d4d637f-15a3-4bf4-8c10-a7b30934b25d"
      },
      "outputs": [
        {
          "output_type": "execute_result",
          "data": {
            "text/plain": [
              "quit\n",
              "no     37702.228412\n",
              "yes    23885.106383\n",
              "Name: salary, dtype: float64"
            ]
          },
          "metadata": {},
          "execution_count": 332
        }
      ],
      "source": [
        "df_train_quit.groupby(['quit'])['salary'].mean()"
      ]
    },
    {
      "cell_type": "code",
      "execution_count": 333,
      "id": "3eb27897",
      "metadata": {
        "id": "3eb27897",
        "scrolled": true,
        "colab": {
          "base_uri": "https://localhost:8080/",
          "height": 428
        },
        "outputId": "6146d033-b514-4dc2-a19e-f69bffff207c"
      },
      "outputs": [
        {
          "output_type": "display_data",
          "data": {
            "text/plain": [
              "<Figure size 640x480 with 1 Axes>"
            ],
            "image/png": "[encoded data removed]"
          },
          "metadata": {}
        }
      ],
      "source": [
        "def pct(values):\n",
        "        def my_format(pct):\n",
        "            total = sum(values)\n",
        "            val = int(round(pct*total/100.0))\n",
        "            return '{:.2f}%'.format(pct, v=val)\n",
        "        return my_format\n",
        "\n",
        "s = df_train_quit.groupby(['quit'])['salary'].mean()\n",
        "plt.pie(s,labels = ['те кто работают', 'те кто уволились'], autopct=pct(s))\n",
        "plt.title('Распределения среднего зароботка')\n",
        "plt.show()"
      ]
    },
    {
      "cell_type": "markdown",
      "id": "cb2831d0",
      "metadata": {
        "id": "cb2831d0"
      },
      "source": [
        "* Больше всего увольняются из отдел продаж, кто особо не загружен работай и меньше среднего зарабатывает"
      ]
    },
    {
      "cell_type": "markdown",
      "id": "f951a2e7",
      "metadata": {
        "id": "f951a2e7"
      },
      "source": [
        "### Шаг 3.3. визуализация ушедших и оставшихся"
      ]
    },
    {
      "cell_type": "code",
      "execution_count": 334,
      "id": "2f1a1108",
      "metadata": {
        "id": "2f1a1108",
        "colab": {
          "base_uri": "https://localhost:8080/"
        },
        "outputId": "4c3490fc-a2aa-4a78-868e-475b879d6d08"
      },
      "outputs": [
        {
          "output_type": "execute_result",
          "data": {
            "text/plain": [
              "2000"
            ]
          },
          "metadata": {},
          "execution_count": 334
        }
      ],
      "source": [
        "df_test['id'].isin(df_test_target_quit['id']).sum()"
      ]
    },
    {
      "cell_type": "markdown",
      "id": "86e2a1f7",
      "metadata": {
        "id": "86e2a1f7"
      },
      "source": [
        "* все сотрудники индефицированы с целевым признаком"
      ]
    },
    {
      "cell_type": "code",
      "execution_count": 335,
      "id": "8f6e3684",
      "metadata": {
        "id": "8f6e3684"
      },
      "outputs": [],
      "source": [
        "df_test = df_test.merge(df_test_target_quit, on='id')"
      ]
    },
    {
      "cell_type": "markdown",
      "id": "3019bd64",
      "metadata": {
        "id": "3019bd64"
      },
      "source": [
        "* свяжим целевой признак с тестовыми данными"
      ]
    },
    {
      "cell_type": "code",
      "execution_count": 336,
      "id": "90d8744e",
      "metadata": {
        "id": "90d8744e",
        "colab": {
          "base_uri": "https://localhost:8080/"
        },
        "outputId": "d3361be0-1c0d-4440-c9e0-e5580cb09900"
      },
      "outputs": [
        {
          "output_type": "execute_result",
          "data": {
            "text/plain": [
              "Index(['id', 'dept', 'level', 'workload', 'employment_years',\n",
              "       'last_year_promo', 'last_year_violations', 'supervisor_evaluation',\n",
              "       'salary', 'job_satisfaction_rate', 'quit'],\n",
              "      dtype='object')"
            ]
          },
          "metadata": {},
          "execution_count": 336
        }
      ],
      "source": [
        "df_test.columns"
      ]
    },
    {
      "cell_type": "code",
      "execution_count": 337,
      "id": "514be696",
      "metadata": {
        "id": "514be696",
        "colab": {
          "base_uri": "https://localhost:8080/",
          "height": 470
        },
        "outputId": "12e1d87d-a8d4-49b4-f086-766f94196010"
      },
      "outputs": [
        {
          "output_type": "display_data",
          "data": {
            "text/plain": [
              "<Figure size 640x480 with 1 Axes>"
            ],
            "image/png": "[encoded data removed]"
          },
          "metadata": {}
        }
      ],
      "source": [
        "plt.hist(df_test.query('quit == \"yes\"')['job_satisfaction_rate'],\n",
        "         alpha=0.5, # the transaparency parameter\n",
        "         label='уволились', color = 'red',bins=50)\n",
        "\n",
        "plt.hist(df_test.query('quit == \"no\"')['job_satisfaction_rate'],\n",
        "         alpha=0.5,\n",
        "         label='работают',bins=50)\n",
        "\n",
        "plt.legend(['уволились','работают'])\n",
        "plt.title('распределения')\n",
        "plt.xlabel('оценка удовлетворённости')\n",
        "plt.ylabel('количество сотрудников')\n",
        "plt.show()"
      ]
    },
    {
      "cell_type": "markdown",
      "id": "6c99040d",
      "metadata": {
        "id": "6c99040d"
      },
      "source": [
        "* всё верно похоже и правда сотрудники поставившие низкий уровень удовлетворённости чаще увольняются"
      ]
    },
    {
      "cell_type": "markdown",
      "id": "f206ffb3",
      "metadata": {
        "id": "f206ffb3"
      },
      "source": [
        "## Шаг 4. Добавление нового входного признака"
      ]
    },
    {
      "cell_type": "code",
      "execution_count": 338,
      "id": "89486868",
      "metadata": {
        "id": "89486868",
        "colab": {
          "base_uri": "https://localhost:8080/",
          "height": 444
        },
        "outputId": "ac7d5184-c51d-485b-9061-229b0c420dbc"
      },
      "outputs": [
        {
          "output_type": "execute_result",
          "data": {
            "text/plain": [
              "          id        dept   level workload  employment_years last_year_promo  \\\n",
              "0     723290       sales  middle     high                 2              no   \n",
              "1     814010       sales  junior   medium                 2              no   \n",
              "2     155091  purchasing  middle   medium                 5              no   \n",
              "3     257132       sales  junior   medium                 2              no   \n",
              "4     910140   marketing  junior   medium                 2              no   \n",
              "...      ...         ...     ...      ...               ...             ...   \n",
              "3995  588809       sales  junior   medium                 4              no   \n",
              "3996  672059       sales  middle     high                 9              no   \n",
              "3997  536432  purchasing  junior      low                 2              no   \n",
              "3998  692133  purchasing  middle   medium                 2              no   \n",
              "3999  853842       sales  junior   medium                 2              no   \n",
              "\n",
              "     last_year_violations  supervisor_evaluation  salary quit  \n",
              "0                      no                      4   54000   no  \n",
              "1                      no                      4   27600   no  \n",
              "2                      no                      1   37200   no  \n",
              "3                     yes                      3   24000  yes  \n",
              "4                      no                      5   25200   no  \n",
              "...                   ...                    ...     ...  ...  \n",
              "3995                   no                      3   26400   no  \n",
              "3996                   no                      4   52800   no  \n",
              "3997                  yes                      4   12000  yes  \n",
              "3998                   no                      4   33600   no  \n",
              "3999                   no                      3   27600  yes  \n",
              "\n",
              "[4000 rows x 10 columns]"
            ],
            "text/html": [
              "<div>\n",
              "<style scoped>\n",
              "    .dataframe tbody tr th:only-of-type {\n",
              "        vertical-align: middle;\n",
              "    }\n",
              "\n",
              "    .dataframe tbody tr th {\n",
              "        vertical-align: top;\n",
              "    }\n",
              "\n",
              "    .dataframe thead th {\n",
              "        text-align: right;\n",
              "    }\n",
              "</style>\n",
              "<table border=\"1\" class=\"dataframe\">\n",
              "  <thead>\n",
              "    <tr style=\"text-align: right;\">\n",
              "      <th></th>\n",
              "      <th>id</th>\n",
              "      <th>dept</th>\n",
              "      <th>level</th>\n",
              "      <th>workload</th>\n",
              "      <th>employment_years</th>\n",
              "      <th>last_year_promo</th>\n",
              "      <th>last_year_violations</th>\n",
              "      <th>supervisor_evaluation</th>\n",
              "      <th>salary</th>\n",
              "      <th>quit</th>\n",
              "    </tr>\n",
              "  </thead>\n",
              "  <tbody>\n",
              "    <tr>\n",
              "      <th>0</th>\n",
              "      <td>723290</td>\n",
              "      <td>sales</td>\n",
              "      <td>middle</td>\n",
              "      <td>high</td>\n",
              "      <td>2</td>\n",
              "      <td>no</td>\n",
              "      <td>no</td>\n",
              "      <td>4</td>\n",
              "      <td>54000</td>\n",
              "      <td>no</td>\n",
              "    </tr>\n",
              "    <tr>\n",
              "      <th>1</th>\n",
              "      <td>814010</td>\n",
              "      <td>sales</td>\n",
              "      <td>junior</td>\n",
              "      <td>medium</td>\n",
              "      <td>2</td>\n",
              "      <td>no</td>\n",
              "      <td>no</td>\n",
              "      <td>4</td>\n",
              "      <td>27600</td>\n",
              "      <td>no</td>\n",
              "    </tr>\n",
              "    <tr>\n",
              "      <th>2</th>\n",
              "      <td>155091</td>\n",
              "      <td>purchasing</td>\n",
              "      <td>middle</td>\n",
              "      <td>medium</td>\n",
              "      <td>5</td>\n",
              "      <td>no</td>\n",
              "      <td>no</td>\n",
              "      <td>1</td>\n",
              "      <td>37200</td>\n",
              "      <td>no</td>\n",
              "    </tr>\n",
              "    <tr>\n",
              "      <th>3</th>\n",
              "      <td>257132</td>\n",
              "      <td>sales</td>\n",
              "      <td>junior</td>\n",
              "      <td>medium</td>\n",
              "      <td>2</td>\n",
              "      <td>no</td>\n",
              "      <td>yes</td>\n",
              "      <td>3</td>\n",
              "      <td>24000</td>\n",
              "      <td>yes</td>\n",
              "    </tr>\n",
              "    <tr>\n",
              "      <th>4</th>\n",
              "      <td>910140</td>\n",
              "      <td>marketing</td>\n",
              "      <td>junior</td>\n",
              "      <td>medium</td>\n",
              "      <td>2</td>\n",
              "      <td>no</td>\n",
              "      <td>no</td>\n",
              "      <td>5</td>\n",
              "      <td>25200</td>\n",
              "      <td>no</td>\n",
              "    </tr>\n",
              "    <tr>\n",
              "      <th>...</th>\n",
              "      <td>...</td>\n",
              "      <td>...</td>\n",
              "      <td>...</td>\n",
              "      <td>...</td>\n",
              "      <td>...</td>\n",
              "      <td>...</td>\n",
              "      <td>...</td>\n",
              "      <td>...</td>\n",
              "      <td>...</td>\n",
              "      <td>...</td>\n",
              "    </tr>\n",
              "    <tr>\n",
              "      <th>3995</th>\n",
              "      <td>588809</td>\n",
              "      <td>sales</td>\n",
              "      <td>junior</td>\n",
              "      <td>medium</td>\n",
              "      <td>4</td>\n",
              "      <td>no</td>\n",
              "      <td>no</td>\n",
              "      <td>3</td>\n",
              "      <td>26400</td>\n",
              "      <td>no</td>\n",
              "    </tr>\n",
              "    <tr>\n",
              "      <th>3996</th>\n",
              "      <td>672059</td>\n",
              "      <td>sales</td>\n",
              "      <td>middle</td>\n",
              "      <td>high</td>\n",
              "      <td>9</td>\n",
              "      <td>no</td>\n",
              "      <td>no</td>\n",
              "      <td>4</td>\n",
              "      <td>52800</td>\n",
              "      <td>no</td>\n",
              "    </tr>\n",
              "    <tr>\n",
              "      <th>3997</th>\n",
              "      <td>536432</td>\n",
              "      <td>purchasing</td>\n",
              "      <td>junior</td>\n",
              "      <td>low</td>\n",
              "      <td>2</td>\n",
              "      <td>no</td>\n",
              "      <td>yes</td>\n",
              "      <td>4</td>\n",
              "      <td>12000</td>\n",
              "      <td>yes</td>\n",
              "    </tr>\n",
              "    <tr>\n",
              "      <th>3998</th>\n",
              "      <td>692133</td>\n",
              "      <td>purchasing</td>\n",
              "      <td>middle</td>\n",
              "      <td>medium</td>\n",
              "      <td>2</td>\n",
              "      <td>no</td>\n",
              "      <td>no</td>\n",
              "      <td>4</td>\n",
              "      <td>33600</td>\n",
              "      <td>no</td>\n",
              "    </tr>\n",
              "    <tr>\n",
              "      <th>3999</th>\n",
              "      <td>853842</td>\n",
              "      <td>sales</td>\n",
              "      <td>junior</td>\n",
              "      <td>medium</td>\n",
              "      <td>2</td>\n",
              "      <td>no</td>\n",
              "      <td>no</td>\n",
              "      <td>3</td>\n",
              "      <td>27600</td>\n",
              "      <td>yes</td>\n",
              "    </tr>\n",
              "  </tbody>\n",
              "</table>\n",
              "<p>4000 rows × 10 columns</p>\n",
              "</div>"
            ]
          },
          "metadata": {},
          "execution_count": 338
        }
      ],
      "source": [
        "df_train_quit"
      ]
    },
    {
      "cell_type": "code",
      "execution_count": 339,
      "id": "457cc364",
      "metadata": {
        "id": "457cc364",
        "colab": {
          "base_uri": "https://localhost:8080/",
          "height": 226
        },
        "outputId": "8ff67ae6-75ed-4332-dac5-8f84c8a77684"
      },
      "outputs": [
        {
          "output_type": "execute_result",
          "data": {
            "text/plain": [
              "       id        dept   level workload  employment_years last_year_promo  \\\n",
              "0  723290       sales  middle     high                 2              no   \n",
              "1  814010       sales  junior   medium                 2              no   \n",
              "2  155091  purchasing  middle   medium                 5              no   \n",
              "3  257132       sales  junior   medium                 2              no   \n",
              "4  910140   marketing  junior   medium                 2              no   \n",
              "\n",
              "  last_year_violations  supervisor_evaluation  salary quit  \\\n",
              "0                   no                      4   54000   no   \n",
              "1                   no                      4   27600   no   \n",
              "2                   no                      1   37200   no   \n",
              "3                  yes                      3   24000  yes   \n",
              "4                   no                      5   25200   no   \n",
              "\n",
              "   job_satisfaction_rate  \n",
              "0                     60  \n",
              "1                     82  \n",
              "2                     33  \n",
              "3                     35  \n",
              "4                     81  "
            ],
            "text/html": [
              "<div>\n",
              "<style scoped>\n",
              "    .dataframe tbody tr th:only-of-type {\n",
              "        vertical-align: middle;\n",
              "    }\n",
              "\n",
              "    .dataframe tbody tr th {\n",
              "        vertical-align: top;\n",
              "    }\n",
              "\n",
              "    .dataframe thead th {\n",
              "        text-align: right;\n",
              "    }\n",
              "</style>\n",
              "<table border=\"1\" class=\"dataframe\">\n",
              "  <thead>\n",
              "    <tr style=\"text-align: right;\">\n",
              "      <th></th>\n",
              "      <th>id</th>\n",
              "      <th>dept</th>\n",
              "      <th>level</th>\n",
              "      <th>workload</th>\n",
              "      <th>employment_years</th>\n",
              "      <th>last_year_promo</th>\n",
              "      <th>last_year_violations</th>\n",
              "      <th>supervisor_evaluation</th>\n",
              "      <th>salary</th>\n",
              "      <th>quit</th>\n",
              "      <th>job_satisfaction_rate</th>\n",
              "    </tr>\n",
              "  </thead>\n",
              "  <tbody>\n",
              "    <tr>\n",
              "      <th>0</th>\n",
              "      <td>723290</td>\n",
              "      <td>sales</td>\n",
              "      <td>middle</td>\n",
              "      <td>high</td>\n",
              "      <td>2</td>\n",
              "      <td>no</td>\n",
              "      <td>no</td>\n",
              "      <td>4</td>\n",
              "      <td>54000</td>\n",
              "      <td>no</td>\n",
              "      <td>60</td>\n",
              "    </tr>\n",
              "    <tr>\n",
              "      <th>1</th>\n",
              "      <td>814010</td>\n",
              "      <td>sales</td>\n",
              "      <td>junior</td>\n",
              "      <td>medium</td>\n",
              "      <td>2</td>\n",
              "      <td>no</td>\n",
              "      <td>no</td>\n",
              "      <td>4</td>\n",
              "      <td>27600</td>\n",
              "      <td>no</td>\n",
              "      <td>82</td>\n",
              "    </tr>\n",
              "    <tr>\n",
              "      <th>2</th>\n",
              "      <td>155091</td>\n",
              "      <td>purchasing</td>\n",
              "      <td>middle</td>\n",
              "      <td>medium</td>\n",
              "      <td>5</td>\n",
              "      <td>no</td>\n",
              "      <td>no</td>\n",
              "      <td>1</td>\n",
              "      <td>37200</td>\n",
              "      <td>no</td>\n",
              "      <td>33</td>\n",
              "    </tr>\n",
              "    <tr>\n",
              "      <th>3</th>\n",
              "      <td>257132</td>\n",
              "      <td>sales</td>\n",
              "      <td>junior</td>\n",
              "      <td>medium</td>\n",
              "      <td>2</td>\n",
              "      <td>no</td>\n",
              "      <td>yes</td>\n",
              "      <td>3</td>\n",
              "      <td>24000</td>\n",
              "      <td>yes</td>\n",
              "      <td>35</td>\n",
              "    </tr>\n",
              "    <tr>\n",
              "      <th>4</th>\n",
              "      <td>910140</td>\n",
              "      <td>marketing</td>\n",
              "      <td>junior</td>\n",
              "      <td>medium</td>\n",
              "      <td>2</td>\n",
              "      <td>no</td>\n",
              "      <td>no</td>\n",
              "      <td>5</td>\n",
              "      <td>25200</td>\n",
              "      <td>no</td>\n",
              "      <td>81</td>\n",
              "    </tr>\n",
              "  </tbody>\n",
              "</table>\n",
              "</div>"
            ]
          },
          "metadata": {},
          "execution_count": 339
        }
      ],
      "source": [
        "df_train_quit['job_satisfaction_rate'] = \\\n",
        "pipe_final.predict(df_train_quit.drop(['quit','id'],axis=1))\n",
        "df_train_quit['job_satisfaction_rate'] = df_train_quit['job_satisfaction_rate'].astype('int16')\n",
        "df_train_quit.head(5)"
      ]
    },
    {
      "cell_type": "code",
      "execution_count": 340,
      "id": "f32a34ea",
      "metadata": {
        "id": "f32a34ea",
        "colab": {
          "base_uri": "https://localhost:8080/",
          "height": 470
        },
        "outputId": "22b4c428-916d-4260-c06b-7bebc91697f1"
      },
      "outputs": [
        {
          "output_type": "display_data",
          "data": {
            "text/plain": [
              "<Figure size 640x480 with 1 Axes>"
            ],
            "image/png": "[encoded data removed]"
          },
          "metadata": {}
        }
      ],
      "source": [
        "plt.hist(df_train_quit.query('quit == \"yes\"')['job_satisfaction_rate'],\n",
        "         alpha=0.5, # the transaparency parameter\n",
        "         label='уволились', color = 'red',bins=50)\n",
        "\n",
        "plt.hist(df_train_quit.query('quit == \"no\"')['job_satisfaction_rate'],\n",
        "         alpha=0.5,\n",
        "         label='работают',bins=50)\n",
        "\n",
        "plt.legend(['уволились','работают'])\n",
        "plt.title('распределения')\n",
        "plt.xlabel('оценка удовлетворённости')\n",
        "plt.ylabel('количество сотрудников')\n",
        "plt.show()"
      ]
    },
    {
      "cell_type": "markdown",
      "id": "6d8a9b61",
      "metadata": {
        "id": "6d8a9b61"
      },
      "source": [
        "* модель предсказывала по пять основных групп"
      ]
    },
    {
      "cell_type": "markdown",
      "id": "363ebbbd",
      "metadata": {
        "id": "363ebbbd"
      },
      "source": [
        "## Корреляционный анализ"
      ]
    },
    {
      "cell_type": "markdown",
      "id": "fb67d69c",
      "metadata": {
        "id": "fb67d69c"
      },
      "source": [
        "* посмотрим на `quit` как он будет коррелировать"
      ]
    },
    {
      "cell_type": "code",
      "execution_count": 341,
      "id": "867c454a",
      "metadata": {
        "id": "867c454a",
        "scrolled": false,
        "colab": {
          "base_uri": "https://localhost:8080/",
          "height": 748
        },
        "outputId": "de1d9f06-5007-4216-c9cb-ba399f1fb081"
      },
      "outputs": [
        {
          "output_type": "display_data",
          "data": {
            "text/plain": [
              "<Figure size 1000x800 with 2 Axes>"
            ],
            "image/png": "[encoded data removed]"
          },
          "metadata": {}
        }
      ],
      "source": [
        "corr_matrix = df_train_quit.drop('id',axis=1).\\\n",
        "phik_matrix(interval_cols=['employment_years',\n",
        "                           'supervisor_evaluation',\n",
        "                           'salary',\n",
        "                           'job_satisfaction_rate'],\\\n",
        "            bins={'employment_years':10,'supervisor_evaluation':5,\n",
        "                  'salary':10,'job_satisfaction_rate':100,})\n",
        "# Визуализация матрицы корреляции\n",
        "plt.figure(figsize=(10, 8))\n",
        "sns.heatmap(corr_matrix, annot=True, cmap='coolwarm')\n",
        "plt.title('Phi_K Correlation Matrix')\n",
        "plt.show()"
      ]
    },
    {
      "cell_type": "markdown",
      "id": "1ff290d2",
      "metadata": {
        "id": "1ff290d2"
      },
      "source": [
        "* очень высоких корреляций не видно и предсказанный `job_satisfaction_rate` ведёт себя хорошо, мультиколлинеарности нет\n",
        "* есть нулевая корреляция с `dept` , значит можно этот признак исключить\n",
        "* довольно не плохо выглядит крайне высоких и крайне низких показателей нет"
      ]
    },
    {
      "cell_type": "markdown",
      "id": "6feed642",
      "metadata": {
        "id": "6feed642"
      },
      "source": [
        "## Шаг 5. Подготовка данных"
      ]
    },
    {
      "cell_type": "markdown",
      "id": "8f4ea673",
      "metadata": {
        "id": "8f4ea673"
      },
      "source": [
        "#### кодирование целевого признака"
      ]
    },
    {
      "cell_type": "markdown",
      "id": "38ef7a4d",
      "metadata": {
        "id": "38ef7a4d"
      },
      "source": [
        "#### подготовка и кодирования признаков"
      ]
    },
    {
      "cell_type": "markdown",
      "id": "9e43ef09",
      "metadata": {
        "id": "9e43ef09"
      },
      "source": [
        "#### подготовка параметров"
      ]
    },
    {
      "cell_type": "markdown",
      "id": "88a0c0d8",
      "metadata": {
        "id": "88a0c0d8"
      },
      "source": [
        "#### пайплайн"
      ]
    },
    {
      "cell_type": "markdown",
      "id": "f871e9a3",
      "metadata": {
        "id": "f871e9a3"
      },
      "source": [
        "* собрал всё вместе внизу так легче настраивать и тестировать"
      ]
    },
    {
      "cell_type": "markdown",
      "id": "269deb8c",
      "metadata": {
        "id": "269deb8c"
      },
      "source": [
        "## Шаг 6. Обучение модели"
      ]
    },
    {
      "cell_type": "code",
      "execution_count": 342,
      "id": "4eb396f0",
      "metadata": {
        "id": "4eb396f0",
        "scrolled": true,
        "colab": {
          "base_uri": "https://localhost:8080/",
          "height": 144
        },
        "outputId": "05987846-91ea-4d6c-e086-f9ec8d703248"
      },
      "outputs": [
        {
          "output_type": "display_data",
          "data": {
            "text/plain": [
              "'Лучшая модель и её параметры:'"
            ]
          },
          "metadata": {}
        },
        {
          "output_type": "display_data",
          "data": {
            "text/plain": [
              "DecisionTreeClassifier(max_depth=20, max_features=9, min_samples_leaf=17,\n",
              "                       random_state=42)"
            ],
            "text/html": [
              "<style>#sk-container-id-6 {color: black;background-color: white;}#sk-container-id-6 pre{padding: 0;}#sk-container-id-6 div.sk-toggleable {background-color: white;}#sk-container-id-6 label.sk-toggleable__label {cursor: pointer;display: block;width: 100%;margin-bottom: 0;padding: 0.3em;box-sizing: border-box;text-align: center;}#sk-container-id-6 label.sk-toggleable__label-arrow:before {content: \"▸\";float: left;margin-right: 0.25em;color: #696969;}#sk-container-id-6 label.sk-toggleable__label-arrow:hover:before {color: black;}#sk-container-id-6 div.sk-estimator:hover label.sk-toggleable__label-arrow:before {color: black;}#sk-container-id-6 div.sk-toggleable__content {max-height: 0;max-width: 0;overflow: hidden;text-align: left;background-color: #f0f8ff;}#sk-container-id-6 div.sk-toggleable__content pre {margin: 0.2em;color: black;border-radius: 0.25em;background-color: #f0f8ff;}#sk-container-id-6 input.sk-toggleable__control:checked~div.sk-toggleable__content {max-height: 200px;max-width: 100%;overflow: auto;}#sk-container-id-6 input.sk-toggleable__control:checked~label.sk-toggleable__label-arrow:before {content: \"▾\";}#sk-container-id-6 div.sk-estimator input.sk-toggleable__control:checked~label.sk-toggleable__label {background-color: #d4ebff;}#sk-container-id-6 div.sk-label input.sk-toggleable__control:checked~label.sk-toggleable__label {background-color: #d4ebff;}#sk-container-id-6 input.sk-hidden--visually {border: 0;clip: rect(1px 1px 1px 1px);clip: rect(1px, 1px, 1px, 1px);height: 1px;margin: -1px;overflow: hidden;padding: 0;position: absolute;width: 1px;}#sk-container-id-6 div.sk-estimator {font-family: monospace;background-color: #f0f8ff;border: 1px dotted black;border-radius: 0.25em;box-sizing: border-box;margin-bottom: 0.5em;}#sk-container-id-6 div.sk-estimator:hover {background-color: #d4ebff;}#sk-container-id-6 div.sk-parallel-item::after {content: \"\";width: 100%;border-bottom: 1px solid gray;flex-grow: 1;}#sk-container-id-6 div.sk-label:hover label.sk-toggleable__label {background-color: #d4ebff;}#sk-container-id-6 div.sk-serial::before {content: \"\";position: absolute;border-left: 1px solid gray;box-sizing: border-box;top: 0;bottom: 0;left: 50%;z-index: 0;}#sk-container-id-6 div.sk-serial {display: flex;flex-direction: column;align-items: center;background-color: white;padding-right: 0.2em;padding-left: 0.2em;position: relative;}#sk-container-id-6 div.sk-item {position: relative;z-index: 1;}#sk-container-id-6 div.sk-parallel {display: flex;align-items: stretch;justify-content: center;background-color: white;position: relative;}#sk-container-id-6 div.sk-item::before, #sk-container-id-6 div.sk-parallel-item::before {content: \"\";position: absolute;border-left: 1px solid gray;box-sizing: border-box;top: 0;bottom: 0;left: 50%;z-index: -1;}#sk-container-id-6 div.sk-parallel-item {display: flex;flex-direction: column;z-index: 1;position: relative;background-color: white;}#sk-container-id-6 div.sk-parallel-item:first-child::after {align-self: flex-end;width: 50%;}#sk-container-id-6 div.sk-parallel-item:last-child::after {align-self: flex-start;width: 50%;}#sk-container-id-6 div.sk-parallel-item:only-child::after {width: 0;}#sk-container-id-6 div.sk-dashed-wrapped {border: 1px dashed gray;margin: 0 0.4em 0.5em 0.4em;box-sizing: border-box;padding-bottom: 0.4em;background-color: white;}#sk-container-id-6 div.sk-label label {font-family: monospace;font-weight: bold;display: inline-block;line-height: 1.2em;}#sk-container-id-6 div.sk-label-container {text-align: center;}#sk-container-id-6 div.sk-container {/* jupyter's `normalize.less` sets `[hidden] { display: none; }` but bootstrap.min.css set `[hidden] { display: none !important; }` so we also need the `!important` here to be able to override the default hidden behavior on the sphinx rendered scikit-learn.org. See: https://github.com/scikit-learn/scikit-learn/issues/21755 */display: inline-block !important;position: relative;}#sk-container-id-6 div.sk-text-repr-fallback {display: none;}</style><div id=\"sk-container-id-6\" class=\"sk-top-container\"><div class=\"sk-text-repr-fallback\"><pre>DecisionTreeClassifier(max_depth=20, max_features=9, min_samples_leaf=17,\n",
              "                       random_state=42)</pre><b>In a Jupyter environment, please rerun this cell to show the HTML representation or trust the notebook. <br />On GitHub, the HTML representation is unable to render, please try loading this page with nbviewer.org.</b></div><div class=\"sk-container\" hidden><div class=\"sk-item\"><div class=\"sk-estimator sk-toggleable\"><input class=\"sk-toggleable__control sk-hidden--visually\" id=\"sk-estimator-id-6\" type=\"checkbox\" checked><label for=\"sk-estimator-id-6\" class=\"sk-toggleable__label sk-toggleable__label-arrow\">DecisionTreeClassifier</label><div class=\"sk-toggleable__content\"><pre>DecisionTreeClassifier(max_depth=20, max_features=9, min_samples_leaf=17,\n",
              "                       random_state=42)</pre></div></div></div></div></div>"
            ]
          },
          "metadata": {}
        },
        {
          "output_type": "display_data",
          "data": {
            "text/plain": [
              "'Метрика лучшей модели на тренировочной выборке: 0.93'"
            ]
          },
          "metadata": {}
        },
        {
          "output_type": "display_data",
          "data": {
            "text/plain": [
              "'Метрика ROC-AUC на тестовой выборке: 0.92'"
            ]
          },
          "metadata": {}
        }
      ],
      "source": [
        "# используем кодировщик для целевого признака\n",
        "label_encoder = LabelEncoder()\n",
        "label_encoder.fit(df_train_quit['quit'])\n",
        "y_train = label_encoder.transform(df_train_quit['quit'])\n",
        "y_test = label_encoder.transform(df_test['quit'])\n",
        "\n",
        "# загружаем данные\n",
        "X = df_train_quit.copy()\n",
        "X_test = df_test.copy()\n",
        "X_test['job_satisfaction_rate'] = (df_test['job_satisfaction_rate'] * 100).astype('int16')\n",
        "\n",
        "# списки с названиями колонок\n",
        "col_drop = ['id','quit']\n",
        "ohe_columns = ['dept','last_year_promo','last_year_violations']\n",
        "ord_columns = ['level','workload','supervisor_evaluation']\n",
        "num_columns =['salary','employment_years','job_satisfaction_rate']\n",
        "\n",
        "# набор для обучения\n",
        "X = X.drop(columns = col_drop,axis=1)\n",
        "\n",
        "# тестовый набор для оценки качества\n",
        "X_test = X_test.drop(columns = col_drop,axis=1)\n",
        "\n",
        "# пайплайн для подготовки значений из ohe_columns: заполнение пропусков и OHE-кодирование\n",
        "# SimpleImputer + OHE\n",
        "ohe_pipe = Pipeline([('simpleImputer_ohe',\\\n",
        "                      SimpleImputer(missing_values=np.nan, strategy='most_frequent')),\n",
        "                     ('ohe',\\\n",
        "                      OneHotEncoder(drop='first', handle_unknown='error', sparse=False))]\n",
        "                    )\n",
        "\n",
        "# пайплайн для подготовки значений из ohe_columns: заполнение пропусков и OHE-кодирование\n",
        "# SimpleImputer + OHE\n",
        "ohe_pipe = Pipeline([('simpleImputer_ohe',\\\n",
        "                      SimpleImputer(missing_values=np.nan, strategy='most_frequent')),\n",
        "                     ('ohe',\\\n",
        "                      OneHotEncoder(drop='first', handle_unknown='error', sparse=False))]\n",
        "                    )\n",
        "\n",
        "# создаём пайплайн для подготовки признаков из списка ord_columns: заполнение пропусков и Ordinal-кодирование\n",
        "# SimpleImputer + OE\n",
        "ord_pipe = Pipeline(\n",
        "    [('simpleImputer_before_ord', SimpleImputer(missing_values=np.nan, strategy='most_frequent')),\n",
        "     ('ord',  OrdinalEncoder(\n",
        "                categories=[['junior', 'middle', 'sinior'],\\\n",
        "                 ['low', 'medium', 'high'],[1,2,3,4,5]],\\\n",
        "                handle_unknown='use_encoded_value', unknown_value=np.nan)\n",
        "     ),\\\n",
        "      ('simpleImputer_after_ord',\\\n",
        "       SimpleImputer(missing_values=np.nan, strategy='most_frequent'))\n",
        "    ]\n",
        ")\n",
        "\n",
        "# создаём общий пайплайн для подготовки данных\n",
        "data_preprocessor = ColumnTransformer(transformers = \\\n",
        "                                      [('ohe', ohe_pipe, ohe_columns),\n",
        "                                       ('ord', ord_pipe, ord_columns),\n",
        "                                       ('num', MinMaxScaler(), num_columns)\n",
        "                                      ], remainder='passthrough')\n",
        "\n",
        "param_grid = [\n",
        "    # словарь для модели DecisionTreeClassifier()\n",
        "    {\n",
        "        'models': [DecisionTreeClassifier(random_state=RANDOM_STATE,\\\n",
        "                                          min_samples_split=2, max_features=9)],\n",
        "        'models__max_depth': range(2,22),\n",
        "        'models__min_samples_leaf': range(2,22),\n",
        "        'preprocessor__num': [StandardScaler(), MinMaxScaler(), 'passthrough']\n",
        "    },\n",
        "\n",
        "    # словарь для модели KNeighborsClassifier()\n",
        "    {\n",
        "        'models': [KNeighborsClassifier()],\n",
        "        'models__n_neighbors': range(2, 11),\n",
        "        'preprocessor__num': [StandardScaler(), MinMaxScaler(), 'passthrough']\n",
        "    },\n",
        "\n",
        "    # словарь для модели LogisticRegression()\n",
        "    {\n",
        "        'models': [LogisticRegression(\n",
        "            random_state=RANDOM_STATE,\n",
        "            solver='liblinear',\n",
        "            penalty='l1'\n",
        "        )],\n",
        "        'models__C': range(1, 10),\n",
        "        'preprocessor__num': [StandardScaler(), MinMaxScaler(), 'passthrough']\n",
        "    },\n",
        "\n",
        "]\n",
        "# пайплайн\n",
        "pipe_final = Pipeline([\n",
        "    ('preprocessor', data_preprocessor),\n",
        "    ('models', DecisionTreeClassifier(random_state=RANDOM_STATE))\n",
        "])\n",
        "\n",
        "randomized_search = RandomizedSearchCV(\n",
        "    pipe_final,\n",
        "    param_grid,\n",
        "    cv=5,\n",
        "    scoring='roc_auc',\n",
        "    random_state=RANDOM_STATE,\n",
        "    n_jobs=-1,\n",
        "    error_score='raise',\n",
        ")\n",
        "randomized_search.fit(X, y_train)\n",
        "\n",
        "display('Лучшая модель и её параметры:', randomized_search.best_estimator_.named_steps['models'])\n",
        "display(f'Метрика лучшей модели на тренировочной выборке: {randomized_search.best_score_:.2f}')\n",
        "# попробуем предсказать\n",
        "pred = randomized_search.best_estimator_.predict_proba(X_test)[:,1]\n",
        "\n",
        "# расчитаем свою метрику SMAPE\n",
        "display(f'Метрика ROC-AUC на тестовой выборке: {roc_auc_score(y_test, pred):.2f}')"
      ]
    },
    {
      "cell_type": "code",
      "execution_count": 343,
      "id": "f2901a58",
      "metadata": {
        "id": "f2901a58",
        "scrolled": true,
        "colab": {
          "base_uri": "https://localhost:8080/",
          "height": 121
        },
        "outputId": "6f6a5425-f22b-4c0e-8349-39235328c370"
      },
      "outputs": [
        {
          "output_type": "display_data",
          "data": {
            "text/plain": [
              "0.929164504034355"
            ]
          },
          "metadata": {}
        },
        {
          "output_type": "display_data",
          "data": {
            "text/plain": [
              "'Лучшая модель : DecisionTreeClassifier(max_depth=5, max_features=9, min_samples_leaf=21,\\n                       random_state=42)'"
            ]
          },
          "metadata": {}
        },
        {
          "output_type": "display_data",
          "data": {
            "text/plain": [
              "\"Лучшие пораметры : {'models__max_depth': 5, 'models__min_samples_leaf': 21, 'preprocessor__num': MinMaxScaler()}\""
            ]
          },
          "metadata": {}
        },
        {
          "output_type": "display_data",
          "data": {
            "text/plain": [
              "'Метрика ROC-AUC на тестовой выборке: 0.94'"
            ]
          },
          "metadata": {}
        }
      ],
      "source": [
        "pipe_final = Pipeline([\n",
        "    ('preprocessor', data_preprocessor),\n",
        "    ('models', DecisionTreeClassifier(random_state=RANDOM_STATE,\n",
        "                                      min_samples_split=2, max_features=9))\n",
        "])\n",
        "param_grid ={'models__max_depth': range(5,7),\n",
        "             'models__min_samples_leaf': range(20,22),\n",
        "             'preprocessor__num': [MinMaxScaler(), 'passthrough']\n",
        "             }\n",
        "grid = GridSearchCV(\n",
        "    pipe_final,\n",
        "    param_grid,\n",
        "    cv=5,\n",
        "    scoring='roc_auc',\n",
        "    n_jobs=-1,\n",
        "    error_score='raise',\n",
        ")\n",
        "\n",
        "display(cross_val_score(grid, X, y_train, cv=5, scoring = \"roc_auc\").mean())\n",
        "\n",
        "# обучим модель с учителем y\n",
        "grid.fit(X, y_train)\n",
        "\n",
        "best_model = grid.best_estimator_.named_steps['models']\n",
        "display(f'Лучшая модель : {best_model}')\n",
        "display(f'Лучшие пораметры : {grid.best_params_}')\n",
        "\n",
        "# попробуем предсказать\n",
        "pred = grid.best_estimator_.predict_proba(X_test)[:,1]\n",
        "\n",
        "# расчитаем свою метрику SMAPE\n",
        "display(f'Метрика ROC-AUC на тестовой выборке: {roc_auc_score(y_test, pred):.2f}')"
      ]
    },
    {
      "cell_type": "code",
      "execution_count": 344,
      "id": "82b41f11",
      "metadata": {
        "id": "82b41f11",
        "colab": {
          "base_uri": "https://localhost:8080/",
          "height": 34
        },
        "outputId": "543d99e9-af4d-484a-efef-baf513147d45"
      },
      "outputs": [
        {
          "output_type": "display_data",
          "data": {
            "text/plain": [
              "'Метрика ROC-AUC на тестовой выборке: 0.94'"
            ]
          },
          "metadata": {}
        }
      ],
      "source": [
        "pipe_final = Pipeline([\n",
        "    ('preprocessor', data_preprocessor),\n",
        "    ('models', best_model)\n",
        "])\n",
        "pipe_final.fit(X,y_train)\n",
        "\n",
        "# попробуем предсказать\n",
        "pred = pipe_final.predict_proba(X_test)[:,1]\n",
        "\n",
        "# расчитаем свою метрику SMAPE\n",
        "display(f'Метрика ROC-AUC на тестовой выборке: {roc_auc_score(y_test, pred):.2f}')"
      ]
    },
    {
      "cell_type": "markdown",
      "id": "774090fc",
      "metadata": {
        "id": "774090fc"
      },
      "source": [
        "* критерий успеха: ROC-AUC ≥0.91 пройден :-)"
      ]
    },
    {
      "cell_type": "markdown",
      "id": "9246d4a8",
      "metadata": {
        "id": "9246d4a8"
      },
      "source": [
        "## Общий вывод"
      ]
    },
    {
      "cell_type": "markdown",
      "id": "10ab2aba",
      "metadata": {
        "id": "10ab2aba"
      },
      "source": [
        "**Задача:**\n",
        "* построить модель, которая сможет и без проведения опроса работников предсказать что сотрудник может уволится из компании.\n",
        "\n",
        "**Этапы:**\n",
        "* построили модель предсказания уровня удовлетворённости\n",
        "* с помощью этой модели предсказали уровень удовлетворённости сотрудников не участвующих в опросе\n",
        "* далее полученный уровень удовлетворённости использовали в окончательной модели\n",
        "* на выходе имеем возможность предсказывать кто уволится и без опроса работников, хотя проведения опроса будет не лишним\n",
        "\n",
        "**Вывод**\n",
        "* модель помогла в том что определила что большинство работников честно ставят оценку удовлетворённости\n",
        "* руководству необходимо обратить внимание на статистику и более глубже изучить портрет уволившихся сотрудников\n",
        "* проанализировать показатель удовлетворённости по разным категориям\n",
        "\n",
        "\n"
      ]
    },
    {
      "cell_type": "code",
      "execution_count": 345,
      "id": "1714b462",
      "metadata": {
        "id": "1714b462",
        "colab": {
          "base_uri": "https://localhost:8080/"
        },
        "outputId": "0f2bfcd7-11af-4f9f-963d-fe1ae53df4c5"
      },
      "outputs": [
        {
          "output_type": "execute_result",
          "data": {
            "text/plain": [
              "'end'"
            ]
          },
          "metadata": {},
          "execution_count": 345
        }
      ],
      "source": [
        "'end'"
      ]
    }
  ],
  "metadata": {
    "ExecuteTimeLog": [
      {
        "duration": 11,
        "start_time": "2024-03-01T03:12:32.764Z"
      },
      {
        "duration": 109,
        "start_time": "2024-03-01T03:13:07.175Z"
      },
      {
        "duration": 11344,
        "start_time": "2024-03-01T03:14:44.184Z"
      },
      {
        "duration": 17,
        "start_time": "2024-03-01T03:14:56.290Z"
      },
      {
        "duration": 3,
        "start_time": "2024-03-01T03:15:34.210Z"
      },
      {
        "duration": 82,
        "start_time": "2024-03-01T03:16:01.334Z"
      },
      {
        "duration": 14,
        "start_time": "2024-03-01T03:16:16.748Z"
      },
      {
        "duration": 5,
        "start_time": "2024-03-01T03:17:03.106Z"
      },
      {
        "duration": 27,
        "start_time": "2024-03-01T03:17:58.563Z"
      },
      {
        "duration": 42,
        "start_time": "2024-03-01T03:19:12.870Z"
      },
      {
        "duration": 17,
        "start_time": "2024-03-01T03:19:45.530Z"
      },
      {
        "duration": 392,
        "start_time": "2024-03-01T03:22:07.907Z"
      },
      {
        "duration": 8,
        "start_time": "2024-03-01T03:23:52.991Z"
      },
      {
        "duration": 842,
        "start_time": "2024-03-01T03:24:17.623Z"
      },
      {
        "duration": 121,
        "start_time": "2024-03-01T03:29:37.350Z"
      },
      {
        "duration": 5,
        "start_time": "2024-03-01T03:30:30.511Z"
      },
      {
        "duration": 299,
        "start_time": "2024-03-01T03:31:02.703Z"
      },
      {
        "duration": 1024,
        "start_time": "2024-03-01T03:31:21.090Z"
      },
      {
        "duration": 119,
        "start_time": "2024-03-01T03:33:29.590Z"
      },
      {
        "duration": 5,
        "start_time": "2024-03-01T03:33:59.863Z"
      },
      {
        "duration": 6,
        "start_time": "2024-03-01T03:34:09.159Z"
      },
      {
        "duration": 982,
        "start_time": "2024-03-01T03:34:38.867Z"
      },
      {
        "duration": 119,
        "start_time": "2024-03-01T03:35:01.114Z"
      },
      {
        "duration": 839,
        "start_time": "2024-03-01T03:35:34.132Z"
      },
      {
        "duration": 77,
        "start_time": "2024-03-01T03:36:18.616Z"
      },
      {
        "duration": 25,
        "start_time": "2024-03-01T03:36:45.110Z"
      },
      {
        "duration": 15,
        "start_time": "2024-03-01T03:37:50.654Z"
      },
      {
        "duration": 93,
        "start_time": "2024-03-01T03:38:53.220Z"
      },
      {
        "duration": 16,
        "start_time": "2024-03-01T03:39:38.119Z"
      },
      {
        "duration": 93,
        "start_time": "2024-03-01T03:39:49.347Z"
      },
      {
        "duration": 2,
        "start_time": "2024-03-01T03:40:38.876Z"
      },
      {
        "duration": 108,
        "start_time": "2024-03-01T03:42:42.253Z"
      },
      {
        "duration": 6,
        "start_time": "2024-03-01T03:43:23.802Z"
      },
      {
        "duration": 5,
        "start_time": "2024-03-01T03:44:41.758Z"
      },
      {
        "duration": 112,
        "start_time": "2024-03-01T03:45:32.953Z"
      },
      {
        "duration": 25,
        "start_time": "2024-03-01T03:46:22.905Z"
      },
      {
        "duration": 5,
        "start_time": "2024-03-01T03:47:24.516Z"
      },
      {
        "duration": 20,
        "start_time": "2024-03-01T03:48:03.577Z"
      },
      {
        "duration": 5,
        "start_time": "2024-03-01T03:48:27.650Z"
      },
      {
        "duration": 11,
        "start_time": "2024-03-01T03:49:39.060Z"
      },
      {
        "duration": 2,
        "start_time": "2024-03-01T03:50:45.847Z"
      },
      {
        "duration": 3,
        "start_time": "2024-03-01T03:51:30.214Z"
      },
      {
        "duration": 15,
        "start_time": "2024-03-01T03:52:02.229Z"
      },
      {
        "duration": 1765,
        "start_time": "2024-03-01T03:52:47.846Z"
      },
      {
        "duration": 6,
        "start_time": "2024-03-01T03:54:03.088Z"
      },
      {
        "duration": 3,
        "start_time": "2024-03-01T03:54:57.249Z"
      },
      {
        "duration": 11,
        "start_time": "2024-03-01T03:55:59.026Z"
      },
      {
        "duration": 4,
        "start_time": "2024-03-01T03:56:03.407Z"
      },
      {
        "duration": 19,
        "start_time": "2024-03-01T03:56:08.728Z"
      },
      {
        "duration": 18,
        "start_time": "2024-03-01T03:56:48.886Z"
      },
      {
        "duration": 12,
        "start_time": "2024-03-01T03:58:44.384Z"
      },
      {
        "duration": 20,
        "start_time": "2024-03-01T03:58:51.694Z"
      },
      {
        "duration": 4,
        "start_time": "2024-03-01T03:59:16.537Z"
      },
      {
        "duration": 4,
        "start_time": "2024-03-01T03:59:55.782Z"
      },
      {
        "duration": 14,
        "start_time": "2024-03-01T04:00:34.859Z"
      },
      {
        "duration": 3,
        "start_time": "2024-03-01T04:00:38.796Z"
      },
      {
        "duration": 4,
        "start_time": "2024-03-01T04:00:43.865Z"
      },
      {
        "duration": 4,
        "start_time": "2024-03-01T04:00:49.066Z"
      },
      {
        "duration": 38,
        "start_time": "2024-03-01T04:00:56.116Z"
      },
      {
        "duration": 12,
        "start_time": "2024-03-01T04:02:35.846Z"
      },
      {
        "duration": 38,
        "start_time": "2024-03-01T04:02:38.534Z"
      },
      {
        "duration": 5204,
        "start_time": "2024-03-01T04:06:08.103Z"
      },
      {
        "duration": 15,
        "start_time": "2024-03-01T04:06:13.310Z"
      },
      {
        "duration": 54,
        "start_time": "2024-03-01T04:06:13.327Z"
      },
      {
        "duration": 20,
        "start_time": "2024-03-01T04:06:13.382Z"
      },
      {
        "duration": 16,
        "start_time": "2024-03-01T04:06:13.404Z"
      },
      {
        "duration": 51,
        "start_time": "2024-03-01T04:06:13.421Z"
      },
      {
        "duration": 37,
        "start_time": "2024-03-01T04:06:13.473Z"
      },
      {
        "duration": 24,
        "start_time": "2024-03-01T04:06:13.513Z"
      },
      {
        "duration": 402,
        "start_time": "2024-03-01T04:06:13.539Z"
      },
      {
        "duration": 7,
        "start_time": "2024-03-01T04:06:13.942Z"
      },
      {
        "duration": 16,
        "start_time": "2024-03-01T04:06:13.951Z"
      },
      {
        "duration": 22,
        "start_time": "2024-03-01T04:06:13.968Z"
      },
      {
        "duration": 856,
        "start_time": "2024-03-01T04:06:13.991Z"
      },
      {
        "duration": 43,
        "start_time": "2024-03-01T04:06:14.849Z"
      },
      {
        "duration": 19,
        "start_time": "2024-03-01T04:06:14.894Z"
      },
      {
        "duration": 11,
        "start_time": "2024-03-01T04:06:14.915Z"
      },
      {
        "duration": 60,
        "start_time": "2024-03-01T04:06:14.928Z"
      },
      {
        "duration": 15,
        "start_time": "2024-03-01T04:06:14.990Z"
      },
      {
        "duration": 130,
        "start_time": "2024-03-01T04:06:15.007Z"
      },
      {
        "duration": 2,
        "start_time": "2024-03-01T04:06:15.139Z"
      },
      {
        "duration": 1664,
        "start_time": "2024-03-01T04:06:15.142Z"
      },
      {
        "duration": 6,
        "start_time": "2024-03-01T04:06:42.484Z"
      },
      {
        "duration": 1685,
        "start_time": "2024-03-01T04:06:56.464Z"
      },
      {
        "duration": 6,
        "start_time": "2024-03-01T04:07:07.257Z"
      },
      {
        "duration": 6,
        "start_time": "2024-03-01T04:07:20.107Z"
      },
      {
        "duration": 3,
        "start_time": "2024-03-01T04:07:22.754Z"
      },
      {
        "duration": 13,
        "start_time": "2024-03-01T04:07:25.340Z"
      },
      {
        "duration": 4,
        "start_time": "2024-03-01T04:07:28.923Z"
      },
      {
        "duration": 40,
        "start_time": "2024-03-01T04:07:30.455Z"
      },
      {
        "duration": 13,
        "start_time": "2024-03-01T04:08:53.778Z"
      },
      {
        "duration": 35,
        "start_time": "2024-03-01T04:08:57.671Z"
      },
      {
        "duration": 3,
        "start_time": "2024-03-01T04:10:39.233Z"
      },
      {
        "duration": 7,
        "start_time": "2024-03-01T04:19:41.306Z"
      },
      {
        "duration": 6,
        "start_time": "2024-03-01T04:19:52.984Z"
      },
      {
        "duration": 39,
        "start_time": "2024-03-01T04:21:18.016Z"
      },
      {
        "duration": 12,
        "start_time": "2024-03-01T04:24:20.205Z"
      },
      {
        "duration": 8,
        "start_time": "2024-03-01T04:25:21.374Z"
      },
      {
        "duration": 13,
        "start_time": "2024-03-01T04:25:39.084Z"
      },
      {
        "duration": 36,
        "start_time": "2024-03-01T04:25:41.830Z"
      },
      {
        "duration": 5,
        "start_time": "2024-03-01T04:25:59.030Z"
      },
      {
        "duration": 13,
        "start_time": "2024-03-01T04:26:43.051Z"
      },
      {
        "duration": 37,
        "start_time": "2024-03-01T04:26:45.893Z"
      },
      {
        "duration": 5,
        "start_time": "2024-03-01T04:27:05.363Z"
      },
      {
        "duration": 12,
        "start_time": "2024-03-01T04:27:26.299Z"
      },
      {
        "duration": 35,
        "start_time": "2024-03-01T04:27:28.461Z"
      },
      {
        "duration": 9,
        "start_time": "2024-03-01T04:28:34.360Z"
      },
      {
        "duration": 369,
        "start_time": "2024-03-01T04:28:37.113Z"
      },
      {
        "duration": 62,
        "start_time": "2024-03-01T04:29:13.854Z"
      },
      {
        "duration": 12,
        "start_time": "2024-03-01T04:33:25.596Z"
      },
      {
        "duration": 55,
        "start_time": "2024-03-01T04:33:29.128Z"
      },
      {
        "duration": 10,
        "start_time": "2024-03-01T04:33:53.813Z"
      },
      {
        "duration": 53,
        "start_time": "2024-03-01T04:33:55.639Z"
      },
      {
        "duration": 11,
        "start_time": "2024-03-01T04:34:56.167Z"
      },
      {
        "duration": 53,
        "start_time": "2024-03-01T04:34:58.177Z"
      },
      {
        "duration": 9,
        "start_time": "2024-03-01T04:35:45.894Z"
      },
      {
        "duration": 54,
        "start_time": "2024-03-01T04:35:47.931Z"
      },
      {
        "duration": 5,
        "start_time": "2024-03-01T04:37:31.927Z"
      },
      {
        "duration": 10,
        "start_time": "2024-03-01T04:37:35.684Z"
      },
      {
        "duration": 21642,
        "start_time": "2024-03-01T04:37:47.440Z"
      },
      {
        "duration": 11,
        "start_time": "2024-03-01T04:39:08.925Z"
      },
      {
        "duration": 66,
        "start_time": "2024-03-01T04:39:11.449Z"
      },
      {
        "duration": 10,
        "start_time": "2024-03-01T04:39:57.314Z"
      },
      {
        "duration": 75,
        "start_time": "2024-03-01T04:39:59.139Z"
      },
      {
        "duration": 11,
        "start_time": "2024-03-01T04:40:39.790Z"
      },
      {
        "duration": 22221,
        "start_time": "2024-03-01T04:40:41.263Z"
      },
      {
        "duration": 2180,
        "start_time": "2024-03-01T04:42:56.560Z"
      },
      {
        "duration": 2106,
        "start_time": "2024-03-01T04:45:12.875Z"
      },
      {
        "duration": 113,
        "start_time": "2024-03-01T04:48:17.428Z"
      },
      {
        "duration": 13,
        "start_time": "2024-03-01T04:48:29.230Z"
      },
      {
        "duration": 5,
        "start_time": "2024-03-01T04:48:54.634Z"
      },
      {
        "duration": 5,
        "start_time": "2024-03-01T04:49:16.691Z"
      },
      {
        "duration": 24,
        "start_time": "2024-03-01T04:49:25.008Z"
      },
      {
        "duration": 56,
        "start_time": "2024-03-01T04:49:59.913Z"
      },
      {
        "duration": 328,
        "start_time": "2024-03-01T04:50:15.552Z"
      },
      {
        "duration": 7,
        "start_time": "2024-03-01T04:50:24.878Z"
      },
      {
        "duration": 104,
        "start_time": "2024-03-01T04:50:37.327Z"
      },
      {
        "duration": 1077,
        "start_time": "2024-03-01T04:50:49.987Z"
      },
      {
        "duration": 3,
        "start_time": "2024-03-01T04:51:10.119Z"
      },
      {
        "duration": 82,
        "start_time": "2024-03-01T04:51:21.736Z"
      },
      {
        "duration": 11,
        "start_time": "2024-03-01T04:51:29.475Z"
      },
      {
        "duration": 5,
        "start_time": "2024-03-01T04:51:52.044Z"
      },
      {
        "duration": 102,
        "start_time": "2024-03-01T04:52:01.146Z"
      },
      {
        "duration": 107,
        "start_time": "2024-03-01T04:52:29.818Z"
      },
      {
        "duration": 106,
        "start_time": "2024-03-01T04:53:34.435Z"
      },
      {
        "duration": 4,
        "start_time": "2024-03-01T04:53:49.460Z"
      },
      {
        "duration": 453,
        "start_time": "2024-03-01T04:53:58.769Z"
      },
      {
        "duration": 7,
        "start_time": "2024-03-01T04:54:07.171Z"
      },
      {
        "duration": 91,
        "start_time": "2024-03-01T04:54:14.970Z"
      },
      {
        "duration": 5,
        "start_time": "2024-03-01T04:58:06.679Z"
      },
      {
        "duration": 124,
        "start_time": "2024-03-01T04:58:16.110Z"
      },
      {
        "duration": 7,
        "start_time": "2024-03-01T04:58:41.634Z"
      },
      {
        "duration": 4,
        "start_time": "2024-03-01T04:59:16.618Z"
      },
      {
        "duration": 37,
        "start_time": "2024-03-01T04:59:25.817Z"
      },
      {
        "duration": 7,
        "start_time": "2024-03-01T04:59:45.122Z"
      },
      {
        "duration": 4,
        "start_time": "2024-03-01T04:59:48.605Z"
      },
      {
        "duration": 6,
        "start_time": "2024-03-01T05:01:00.049Z"
      },
      {
        "duration": 8,
        "start_time": "2024-03-01T05:01:16.815Z"
      },
      {
        "duration": 4,
        "start_time": "2024-03-01T05:01:19.352Z"
      },
      {
        "duration": 5336,
        "start_time": "2024-03-01T05:02:51.090Z"
      },
      {
        "duration": 16,
        "start_time": "2024-03-01T05:02:56.429Z"
      },
      {
        "duration": 37,
        "start_time": "2024-03-01T05:02:56.446Z"
      },
      {
        "duration": 15,
        "start_time": "2024-03-01T05:02:56.485Z"
      },
      {
        "duration": 12,
        "start_time": "2024-03-01T05:02:56.502Z"
      },
      {
        "duration": 69,
        "start_time": "2024-03-01T05:02:56.517Z"
      },
      {
        "duration": 39,
        "start_time": "2024-03-01T05:02:56.589Z"
      },
      {
        "duration": 63,
        "start_time": "2024-03-01T05:02:56.630Z"
      },
      {
        "duration": 867,
        "start_time": "2024-03-01T05:02:56.695Z"
      },
      {
        "duration": 16,
        "start_time": "2024-03-01T05:02:57.565Z"
      },
      {
        "duration": 5,
        "start_time": "2024-03-01T05:02:57.582Z"
      },
      {
        "duration": 7,
        "start_time": "2024-03-01T05:02:57.589Z"
      },
      {
        "duration": 915,
        "start_time": "2024-03-01T05:02:57.597Z"
      },
      {
        "duration": 46,
        "start_time": "2024-03-01T05:02:58.513Z"
      },
      {
        "duration": 27,
        "start_time": "2024-03-01T05:02:58.560Z"
      },
      {
        "duration": 12,
        "start_time": "2024-03-01T05:02:58.589Z"
      },
      {
        "duration": 60,
        "start_time": "2024-03-01T05:02:58.602Z"
      },
      {
        "duration": 19,
        "start_time": "2024-03-01T05:02:58.664Z"
      },
      {
        "duration": 100,
        "start_time": "2024-03-01T05:02:58.684Z"
      },
      {
        "duration": 2,
        "start_time": "2024-03-01T05:02:58.785Z"
      },
      {
        "duration": 6,
        "start_time": "2024-03-01T05:02:58.789Z"
      },
      {
        "duration": 30,
        "start_time": "2024-03-01T05:02:58.797Z"
      },
      {
        "duration": 5,
        "start_time": "2024-03-01T05:02:58.829Z"
      },
      {
        "duration": 6,
        "start_time": "2024-03-01T05:02:58.835Z"
      },
      {
        "duration": 12,
        "start_time": "2024-03-01T05:02:58.842Z"
      },
      {
        "duration": 14,
        "start_time": "2024-03-01T05:02:58.856Z"
      },
      {
        "duration": 9,
        "start_time": "2024-03-01T05:02:58.872Z"
      },
      {
        "duration": 12,
        "start_time": "2024-03-01T05:02:58.884Z"
      },
      {
        "duration": 22085,
        "start_time": "2024-03-01T05:02:58.898Z"
      },
      {
        "duration": 2233,
        "start_time": "2024-03-01T05:03:20.986Z"
      },
      {
        "duration": 38,
        "start_time": "2024-03-01T05:03:23.220Z"
      },
      {
        "duration": 12,
        "start_time": "2024-03-01T05:03:23.259Z"
      },
      {
        "duration": 9,
        "start_time": "2024-03-01T05:03:23.272Z"
      },
      {
        "duration": 4,
        "start_time": "2024-03-01T05:03:23.283Z"
      },
      {
        "duration": 23,
        "start_time": "2024-03-01T05:03:23.288Z"
      },
      {
        "duration": 93,
        "start_time": "2024-03-01T05:03:23.312Z"
      },
      {
        "duration": 373,
        "start_time": "2024-03-01T05:03:23.407Z"
      },
      {
        "duration": 6,
        "start_time": "2024-03-01T05:03:23.782Z"
      },
      {
        "duration": 1072,
        "start_time": "2024-03-01T05:03:23.790Z"
      },
      {
        "duration": 40,
        "start_time": "2024-03-01T05:03:24.864Z"
      },
      {
        "duration": 9,
        "start_time": "2024-03-01T05:03:24.906Z"
      },
      {
        "duration": 6,
        "start_time": "2024-03-01T05:03:24.917Z"
      },
      {
        "duration": 5,
        "start_time": "2024-03-01T05:03:24.924Z"
      },
      {
        "duration": 393,
        "start_time": "2024-03-01T05:03:24.930Z"
      },
      {
        "duration": 9,
        "start_time": "2024-03-01T05:03:25.325Z"
      },
      {
        "duration": 92,
        "start_time": "2024-03-01T05:03:25.336Z"
      },
      {
        "duration": 6,
        "start_time": "2024-03-01T05:03:25.430Z"
      },
      {
        "duration": 9,
        "start_time": "2024-03-01T05:03:25.437Z"
      },
      {
        "duration": 9,
        "start_time": "2024-03-01T05:03:32.735Z"
      },
      {
        "duration": 5,
        "start_time": "2024-03-01T05:03:34.471Z"
      },
      {
        "duration": 5315,
        "start_time": "2024-03-01T05:04:37.076Z"
      },
      {
        "duration": 16,
        "start_time": "2024-03-01T05:04:42.394Z"
      },
      {
        "duration": 31,
        "start_time": "2024-03-01T05:04:42.411Z"
      },
      {
        "duration": 13,
        "start_time": "2024-03-01T05:04:42.443Z"
      },
      {
        "duration": 16,
        "start_time": "2024-03-01T05:04:42.458Z"
      },
      {
        "duration": 42,
        "start_time": "2024-03-01T05:04:42.476Z"
      },
      {
        "duration": 81,
        "start_time": "2024-03-01T05:04:42.520Z"
      },
      {
        "duration": 23,
        "start_time": "2024-03-01T05:04:42.603Z"
      },
      {
        "duration": 429,
        "start_time": "2024-03-01T05:04:42.628Z"
      },
      {
        "duration": 8,
        "start_time": "2024-03-01T05:04:43.058Z"
      },
      {
        "duration": 22,
        "start_time": "2024-03-01T05:04:43.067Z"
      },
      {
        "duration": 7,
        "start_time": "2024-03-01T05:04:43.091Z"
      },
      {
        "duration": 871,
        "start_time": "2024-03-01T05:04:43.099Z"
      },
      {
        "duration": 44,
        "start_time": "2024-03-01T05:04:43.973Z"
      },
      {
        "duration": 20,
        "start_time": "2024-03-01T05:04:44.019Z"
      },
      {
        "duration": 43,
        "start_time": "2024-03-01T05:04:44.040Z"
      },
      {
        "duration": 39,
        "start_time": "2024-03-01T05:04:44.084Z"
      },
      {
        "duration": 15,
        "start_time": "2024-03-01T05:04:44.125Z"
      },
      {
        "duration": 115,
        "start_time": "2024-03-01T05:04:44.142Z"
      },
      {
        "duration": 2,
        "start_time": "2024-03-01T05:04:44.259Z"
      },
      {
        "duration": 17,
        "start_time": "2024-03-01T05:04:44.262Z"
      },
      {
        "duration": 8,
        "start_time": "2024-03-01T05:04:44.280Z"
      },
      {
        "duration": 18,
        "start_time": "2024-03-01T05:04:50.023Z"
      },
      {
        "duration": 4,
        "start_time": "2024-03-01T05:05:03.597Z"
      },
      {
        "duration": 4,
        "start_time": "2024-03-01T05:05:11.811Z"
      },
      {
        "duration": 5,
        "start_time": "2024-03-01T05:05:13.063Z"
      },
      {
        "duration": 13,
        "start_time": "2024-03-01T05:05:38.750Z"
      },
      {
        "duration": 16,
        "start_time": "2024-03-01T05:06:02.527Z"
      },
      {
        "duration": 5,
        "start_time": "2024-03-01T05:06:13.016Z"
      },
      {
        "duration": 13,
        "start_time": "2024-03-01T05:06:35.234Z"
      },
      {
        "duration": 4,
        "start_time": "2024-03-01T05:06:37.612Z"
      },
      {
        "duration": 10,
        "start_time": "2024-03-01T05:06:39.849Z"
      },
      {
        "duration": 22131,
        "start_time": "2024-03-01T05:06:45.779Z"
      },
      {
        "duration": 5,
        "start_time": "2024-03-01T05:07:13.611Z"
      },
      {
        "duration": 2090,
        "start_time": "2024-03-01T05:07:19.879Z"
      },
      {
        "duration": 4,
        "start_time": "2024-03-01T05:07:29.004Z"
      },
      {
        "duration": 38,
        "start_time": "2024-03-01T05:07:37.768Z"
      },
      {
        "duration": 14,
        "start_time": "2024-03-01T05:07:40.225Z"
      },
      {
        "duration": 5,
        "start_time": "2024-03-01T05:07:43.377Z"
      },
      {
        "duration": 5,
        "start_time": "2024-03-01T05:07:45.120Z"
      },
      {
        "duration": 6,
        "start_time": "2024-03-01T05:07:49.392Z"
      },
      {
        "duration": 29,
        "start_time": "2024-03-01T05:07:55.399Z"
      },
      {
        "duration": 48,
        "start_time": "2024-03-01T05:08:03.749Z"
      },
      {
        "duration": 335,
        "start_time": "2024-03-01T05:08:11.154Z"
      },
      {
        "duration": 7,
        "start_time": "2024-03-01T05:08:15.366Z"
      },
      {
        "duration": 1588,
        "start_time": "2024-03-01T05:08:17.078Z"
      },
      {
        "duration": 5,
        "start_time": "2024-03-01T05:08:29.589Z"
      },
      {
        "duration": 41,
        "start_time": "2024-03-01T05:08:35.481Z"
      },
      {
        "duration": 10,
        "start_time": "2024-03-01T05:08:37.517Z"
      },
      {
        "duration": 5,
        "start_time": "2024-03-01T05:08:39.607Z"
      },
      {
        "duration": 4,
        "start_time": "2024-03-01T05:08:42.683Z"
      },
      {
        "duration": 429,
        "start_time": "2024-03-01T05:08:45.386Z"
      },
      {
        "duration": 8,
        "start_time": "2024-03-01T05:08:50.619Z"
      },
      {
        "duration": 78,
        "start_time": "2024-03-01T05:08:52.785Z"
      },
      {
        "duration": 4,
        "start_time": "2024-03-01T05:09:08.662Z"
      },
      {
        "duration": 5,
        "start_time": "2024-03-01T05:09:12.563Z"
      },
      {
        "duration": 5,
        "start_time": "2024-03-01T05:10:44.978Z"
      },
      {
        "duration": 8,
        "start_time": "2024-03-01T05:10:57.581Z"
      },
      {
        "duration": 4,
        "start_time": "2024-03-01T05:10:59.744Z"
      },
      {
        "duration": 329,
        "start_time": "2024-03-01T05:11:06.895Z"
      },
      {
        "duration": 3,
        "start_time": "2024-03-01T05:13:19.441Z"
      },
      {
        "duration": 21,
        "start_time": "2024-03-01T05:13:32.148Z"
      },
      {
        "duration": 16,
        "start_time": "2024-03-01T05:14:47.929Z"
      },
      {
        "duration": 14,
        "start_time": "2024-03-01T05:17:22.504Z"
      },
      {
        "duration": 40,
        "start_time": "2024-03-01T05:19:13.813Z"
      },
      {
        "duration": 13,
        "start_time": "2024-03-01T05:19:18.079Z"
      },
      {
        "duration": 6,
        "start_time": "2024-03-01T05:19:22.542Z"
      },
      {
        "duration": 5,
        "start_time": "2024-03-01T05:19:24.929Z"
      },
      {
        "duration": 23,
        "start_time": "2024-03-01T05:19:29.614Z"
      },
      {
        "duration": 45,
        "start_time": "2024-03-01T05:19:34.827Z"
      },
      {
        "duration": 342,
        "start_time": "2024-03-01T05:19:41.963Z"
      },
      {
        "duration": 12,
        "start_time": "2024-03-01T05:19:55.817Z"
      },
      {
        "duration": 5,
        "start_time": "2024-03-01T05:19:59.154Z"
      },
      {
        "duration": 1088,
        "start_time": "2024-03-01T05:20:08.382Z"
      },
      {
        "duration": 4,
        "start_time": "2024-03-01T05:20:26.627Z"
      },
      {
        "duration": 41,
        "start_time": "2024-03-01T05:20:32.611Z"
      },
      {
        "duration": 11,
        "start_time": "2024-03-01T05:20:35.510Z"
      },
      {
        "duration": 4,
        "start_time": "2024-03-01T05:20:38.560Z"
      },
      {
        "duration": 4,
        "start_time": "2024-03-01T05:20:46.215Z"
      },
      {
        "duration": 410,
        "start_time": "2024-03-01T05:20:50.614Z"
      },
      {
        "duration": 7,
        "start_time": "2024-03-01T05:20:54.021Z"
      },
      {
        "duration": 79,
        "start_time": "2024-03-01T05:20:59.789Z"
      },
      {
        "duration": 5,
        "start_time": "2024-03-01T05:21:05.357Z"
      },
      {
        "duration": 5,
        "start_time": "2024-03-01T05:21:13.542Z"
      },
      {
        "duration": 5,
        "start_time": "2024-03-01T05:21:25.459Z"
      },
      {
        "duration": 9,
        "start_time": "2024-03-01T05:21:29.662Z"
      },
      {
        "duration": 4,
        "start_time": "2024-03-01T05:21:31.768Z"
      },
      {
        "duration": 4,
        "start_time": "2024-03-01T05:21:37.505Z"
      },
      {
        "duration": 40,
        "start_time": "2024-03-01T05:21:45.832Z"
      },
      {
        "duration": 5344,
        "start_time": "2024-03-01T05:22:16.704Z"
      },
      {
        "duration": 17,
        "start_time": "2024-03-01T05:22:22.050Z"
      },
      {
        "duration": 46,
        "start_time": "2024-03-01T05:22:22.069Z"
      },
      {
        "duration": 14,
        "start_time": "2024-03-01T05:22:22.118Z"
      },
      {
        "duration": 12,
        "start_time": "2024-03-01T05:22:22.134Z"
      },
      {
        "duration": 45,
        "start_time": "2024-03-01T05:22:22.148Z"
      },
      {
        "duration": 35,
        "start_time": "2024-03-01T05:22:22.195Z"
      },
      {
        "duration": 60,
        "start_time": "2024-03-01T05:22:22.232Z"
      },
      {
        "duration": 932,
        "start_time": "2024-03-01T05:22:22.294Z"
      },
      {
        "duration": 6,
        "start_time": "2024-03-01T05:22:23.229Z"
      },
      {
        "duration": 10,
        "start_time": "2024-03-01T05:22:23.236Z"
      },
      {
        "duration": 17,
        "start_time": "2024-03-01T05:22:23.248Z"
      },
      {
        "duration": 865,
        "start_time": "2024-03-01T05:22:23.266Z"
      },
      {
        "duration": 46,
        "start_time": "2024-03-01T05:22:24.133Z"
      },
      {
        "duration": 23,
        "start_time": "2024-03-01T05:22:24.181Z"
      },
      {
        "duration": 13,
        "start_time": "2024-03-01T05:22:24.205Z"
      },
      {
        "duration": 61,
        "start_time": "2024-03-01T05:22:24.219Z"
      },
      {
        "duration": 24,
        "start_time": "2024-03-01T05:22:24.282Z"
      },
      {
        "duration": 112,
        "start_time": "2024-03-01T05:22:24.307Z"
      },
      {
        "duration": 2,
        "start_time": "2024-03-01T05:22:24.421Z"
      },
      {
        "duration": 24,
        "start_time": "2024-03-01T05:22:24.425Z"
      },
      {
        "duration": 24,
        "start_time": "2024-03-01T05:22:24.451Z"
      },
      {
        "duration": 5,
        "start_time": "2024-03-01T05:22:24.477Z"
      },
      {
        "duration": 17,
        "start_time": "2024-03-01T05:22:24.484Z"
      },
      {
        "duration": 4,
        "start_time": "2024-03-01T05:22:24.503Z"
      },
      {
        "duration": 13,
        "start_time": "2024-03-01T05:22:24.509Z"
      },
      {
        "duration": 22658,
        "start_time": "2024-03-01T05:22:24.524Z"
      },
      {
        "duration": 2419,
        "start_time": "2024-03-01T05:22:47.188Z"
      },
      {
        "duration": 39,
        "start_time": "2024-03-01T05:22:49.609Z"
      },
      {
        "duration": 11,
        "start_time": "2024-03-01T05:22:49.649Z"
      },
      {
        "duration": 19,
        "start_time": "2024-03-01T05:22:49.662Z"
      },
      {
        "duration": 6,
        "start_time": "2024-03-01T05:22:49.683Z"
      },
      {
        "duration": 37,
        "start_time": "2024-03-01T05:22:49.690Z"
      },
      {
        "duration": 81,
        "start_time": "2024-03-01T05:22:49.728Z"
      },
      {
        "duration": 385,
        "start_time": "2024-03-01T05:22:49.811Z"
      },
      {
        "duration": 7,
        "start_time": "2024-03-01T05:22:50.198Z"
      },
      {
        "duration": 1088,
        "start_time": "2024-03-01T05:22:50.206Z"
      },
      {
        "duration": 41,
        "start_time": "2024-03-01T05:22:51.295Z"
      },
      {
        "duration": 9,
        "start_time": "2024-03-01T05:22:51.338Z"
      },
      {
        "duration": 34,
        "start_time": "2024-03-01T05:22:51.349Z"
      },
      {
        "duration": 9,
        "start_time": "2024-03-01T05:22:51.385Z"
      },
      {
        "duration": 415,
        "start_time": "2024-03-01T05:22:51.395Z"
      },
      {
        "duration": 8,
        "start_time": "2024-03-01T05:22:51.812Z"
      },
      {
        "duration": 101,
        "start_time": "2024-03-01T05:22:51.821Z"
      },
      {
        "duration": 6,
        "start_time": "2024-03-01T05:22:51.924Z"
      },
      {
        "duration": 9,
        "start_time": "2024-03-01T05:22:51.931Z"
      },
      {
        "duration": 4,
        "start_time": "2024-03-01T05:22:59.353Z"
      },
      {
        "duration": 320,
        "start_time": "2024-03-01T05:23:05.599Z"
      },
      {
        "duration": 4,
        "start_time": "2024-03-01T05:23:13.221Z"
      },
      {
        "duration": 19,
        "start_time": "2024-03-01T05:23:28.373Z"
      },
      {
        "duration": 19,
        "start_time": "2024-03-01T05:23:58.356Z"
      },
      {
        "duration": 18,
        "start_time": "2024-03-01T05:24:08.519Z"
      },
      {
        "duration": 17,
        "start_time": "2024-03-01T05:24:19.625Z"
      },
      {
        "duration": 4,
        "start_time": "2024-03-01T05:24:36.357Z"
      },
      {
        "duration": 18,
        "start_time": "2024-03-01T05:24:47.534Z"
      },
      {
        "duration": 4,
        "start_time": "2024-03-01T05:25:42.122Z"
      },
      {
        "duration": 16,
        "start_time": "2024-03-01T05:25:53.389Z"
      },
      {
        "duration": 16,
        "start_time": "2024-03-01T05:26:12.607Z"
      },
      {
        "duration": 16,
        "start_time": "2024-03-01T05:26:30.273Z"
      },
      {
        "duration": 16,
        "start_time": "2024-03-01T05:26:54.110Z"
      },
      {
        "duration": 31,
        "start_time": "2024-03-01T05:27:47.921Z"
      },
      {
        "duration": 17,
        "start_time": "2024-03-01T05:28:18.313Z"
      },
      {
        "duration": 17,
        "start_time": "2024-03-01T05:28:40.630Z"
      },
      {
        "duration": 19,
        "start_time": "2024-03-01T05:28:56.344Z"
      },
      {
        "duration": 30,
        "start_time": "2024-03-01T05:29:58.192Z"
      },
      {
        "duration": 34,
        "start_time": "2024-03-01T05:32:12.678Z"
      },
      {
        "duration": 31,
        "start_time": "2024-03-01T05:33:54.256Z"
      },
      {
        "duration": 313,
        "start_time": "2024-03-01T05:34:31.478Z"
      },
      {
        "duration": 16,
        "start_time": "2024-03-01T05:58:00.985Z"
      },
      {
        "duration": 19,
        "start_time": "2024-03-01T05:59:47.881Z"
      },
      {
        "duration": 3,
        "start_time": "2024-03-01T06:02:45.987Z"
      },
      {
        "duration": 19,
        "start_time": "2024-03-01T06:03:00.286Z"
      },
      {
        "duration": 5,
        "start_time": "2024-03-01T06:03:11.437Z"
      },
      {
        "duration": 20,
        "start_time": "2024-03-01T06:03:14.749Z"
      },
      {
        "duration": 4,
        "start_time": "2024-03-01T06:03:47.860Z"
      },
      {
        "duration": 18,
        "start_time": "2024-03-01T06:03:50.795Z"
      },
      {
        "duration": 5318,
        "start_time": "2024-03-01T06:05:02.484Z"
      },
      {
        "duration": 16,
        "start_time": "2024-03-01T06:05:07.805Z"
      },
      {
        "duration": 35,
        "start_time": "2024-03-01T06:05:07.822Z"
      },
      {
        "duration": 14,
        "start_time": "2024-03-01T06:05:07.859Z"
      },
      {
        "duration": 5,
        "start_time": "2024-03-01T06:05:07.875Z"
      },
      {
        "duration": 27,
        "start_time": "2024-03-01T06:05:07.882Z"
      },
      {
        "duration": 76,
        "start_time": "2024-03-01T06:05:07.910Z"
      },
      {
        "duration": 16,
        "start_time": "2024-03-01T06:05:07.988Z"
      },
      {
        "duration": 398,
        "start_time": "2024-03-01T06:05:08.005Z"
      },
      {
        "duration": 8,
        "start_time": "2024-03-01T06:05:08.404Z"
      },
      {
        "duration": 36,
        "start_time": "2024-03-01T06:05:08.414Z"
      },
      {
        "duration": 11,
        "start_time": "2024-03-01T06:05:08.451Z"
      },
      {
        "duration": 902,
        "start_time": "2024-03-01T06:05:08.464Z"
      },
      {
        "duration": 44,
        "start_time": "2024-03-01T06:05:09.369Z"
      },
      {
        "duration": 20,
        "start_time": "2024-03-01T06:05:09.414Z"
      },
      {
        "duration": 13,
        "start_time": "2024-03-01T06:05:09.435Z"
      },
      {
        "duration": 43,
        "start_time": "2024-03-01T06:05:09.449Z"
      },
      {
        "duration": 15,
        "start_time": "2024-03-01T06:05:09.493Z"
      },
      {
        "duration": 110,
        "start_time": "2024-03-01T06:05:09.510Z"
      },
      {
        "duration": 3,
        "start_time": "2024-03-01T06:05:09.622Z"
      },
      {
        "duration": 11,
        "start_time": "2024-03-01T06:05:09.627Z"
      },
      {
        "duration": 20,
        "start_time": "2024-03-01T06:05:09.645Z"
      },
      {
        "duration": 10,
        "start_time": "2024-03-01T06:05:09.666Z"
      },
      {
        "duration": 528,
        "start_time": "2024-03-01T06:05:09.678Z"
      },
      {
        "duration": 12,
        "start_time": "2024-03-01T06:05:10.207Z"
      },
      {
        "duration": 52,
        "start_time": "2024-03-01T06:05:10.221Z"
      },
      {
        "duration": 22109,
        "start_time": "2024-03-01T06:05:10.275Z"
      },
      {
        "duration": 2191,
        "start_time": "2024-03-01T06:05:32.387Z"
      },
      {
        "duration": 38,
        "start_time": "2024-03-01T06:05:34.580Z"
      },
      {
        "duration": 11,
        "start_time": "2024-03-01T06:05:34.620Z"
      },
      {
        "duration": 15,
        "start_time": "2024-03-01T06:05:34.633Z"
      },
      {
        "duration": 8,
        "start_time": "2024-03-01T06:05:34.649Z"
      },
      {
        "duration": 50,
        "start_time": "2024-03-01T06:05:34.658Z"
      },
      {
        "duration": 95,
        "start_time": "2024-03-01T06:05:34.710Z"
      },
      {
        "duration": 390,
        "start_time": "2024-03-01T06:05:34.807Z"
      },
      {
        "duration": 7,
        "start_time": "2024-03-01T06:05:35.199Z"
      },
      {
        "duration": 1062,
        "start_time": "2024-03-01T06:05:35.207Z"
      },
      {
        "duration": 40,
        "start_time": "2024-03-01T06:05:36.271Z"
      },
      {
        "duration": 11,
        "start_time": "2024-03-01T06:05:36.313Z"
      },
      {
        "duration": 25,
        "start_time": "2024-03-01T06:05:36.325Z"
      },
      {
        "duration": 35,
        "start_time": "2024-03-01T06:05:36.354Z"
      },
      {
        "duration": 454,
        "start_time": "2024-03-01T06:05:36.390Z"
      },
      {
        "duration": 7,
        "start_time": "2024-03-01T06:05:36.846Z"
      },
      {
        "duration": 82,
        "start_time": "2024-03-01T06:05:36.854Z"
      },
      {
        "duration": 6,
        "start_time": "2024-03-01T06:05:36.938Z"
      },
      {
        "duration": 9,
        "start_time": "2024-03-01T06:05:36.946Z"
      },
      {
        "duration": 8,
        "start_time": "2024-03-01T06:05:36.957Z"
      },
      {
        "duration": 338,
        "start_time": "2024-03-01T06:05:36.981Z"
      },
      {
        "duration": 18,
        "start_time": "2024-03-01T06:05:37.320Z"
      },
      {
        "duration": 43,
        "start_time": "2024-03-01T06:05:37.340Z"
      },
      {
        "duration": 311,
        "start_time": "2024-03-01T06:05:37.385Z"
      },
      {
        "duration": 5,
        "start_time": "2024-03-01T06:05:37.697Z"
      },
      {
        "duration": 9,
        "start_time": "2024-03-01T06:05:37.704Z"
      },
      {
        "duration": 17,
        "start_time": "2024-03-01T06:05:53.005Z"
      },
      {
        "duration": 17,
        "start_time": "2024-03-01T06:06:04.031Z"
      },
      {
        "duration": 4,
        "start_time": "2024-03-01T06:06:29.643Z"
      },
      {
        "duration": 17,
        "start_time": "2024-03-01T06:06:33.552Z"
      },
      {
        "duration": 18,
        "start_time": "2024-03-01T06:06:53.045Z"
      },
      {
        "duration": 28,
        "start_time": "2024-03-01T06:11:29.954Z"
      },
      {
        "duration": 101,
        "start_time": "2024-03-01T06:11:57.287Z"
      },
      {
        "duration": 22,
        "start_time": "2024-03-01T06:12:23.196Z"
      },
      {
        "duration": 16,
        "start_time": "2024-03-01T06:12:53.205Z"
      },
      {
        "duration": 14,
        "start_time": "2024-03-01T06:13:30.546Z"
      },
      {
        "duration": 21,
        "start_time": "2024-03-01T06:14:08.544Z"
      },
      {
        "duration": 15,
        "start_time": "2024-03-01T06:14:19.087Z"
      },
      {
        "duration": 16,
        "start_time": "2024-03-01T06:14:29.420Z"
      },
      {
        "duration": 5,
        "start_time": "2024-03-01T06:16:14.157Z"
      },
      {
        "duration": 4,
        "start_time": "2024-03-01T06:16:58.657Z"
      },
      {
        "duration": 3,
        "start_time": "2024-03-01T06:18:22.917Z"
      },
      {
        "duration": 16,
        "start_time": "2024-03-01T06:18:42.168Z"
      },
      {
        "duration": 5,
        "start_time": "2024-03-01T06:18:57.615Z"
      },
      {
        "duration": 3,
        "start_time": "2024-03-01T06:19:00.916Z"
      },
      {
        "duration": 36,
        "start_time": "2024-03-01T06:19:01.958Z"
      },
      {
        "duration": 51,
        "start_time": "2024-03-01T06:24:23.875Z"
      },
      {
        "duration": 15,
        "start_time": "2024-03-01T06:24:40.629Z"
      },
      {
        "duration": 4,
        "start_time": "2024-03-01T06:25:39.268Z"
      },
      {
        "duration": 3828,
        "start_time": "2024-03-01T08:50:54.979Z"
      },
      {
        "duration": 3717,
        "start_time": "2024-03-01T08:51:15.842Z"
      },
      {
        "duration": 79,
        "start_time": "2024-03-01T08:52:41.165Z"
      },
      {
        "duration": 2948,
        "start_time": "2024-03-01T08:53:22.060Z"
      },
      {
        "duration": 2814,
        "start_time": "2024-03-01T08:53:34.720Z"
      },
      {
        "duration": 2886,
        "start_time": "2024-03-01T08:55:04.342Z"
      },
      {
        "duration": 2945,
        "start_time": "2024-03-01T08:57:03.483Z"
      },
      {
        "duration": 5333,
        "start_time": "2024-03-01T08:58:06.874Z"
      },
      {
        "duration": 17,
        "start_time": "2024-03-01T08:58:12.210Z"
      },
      {
        "duration": 41,
        "start_time": "2024-03-01T08:58:12.230Z"
      },
      {
        "duration": 15,
        "start_time": "2024-03-01T08:58:12.274Z"
      },
      {
        "duration": 5,
        "start_time": "2024-03-01T08:58:12.290Z"
      },
      {
        "duration": 31,
        "start_time": "2024-03-01T08:58:12.296Z"
      },
      {
        "duration": 76,
        "start_time": "2024-03-01T08:58:12.328Z"
      },
      {
        "duration": 16,
        "start_time": "2024-03-01T08:58:12.406Z"
      },
      {
        "duration": 428,
        "start_time": "2024-03-01T08:58:12.424Z"
      },
      {
        "duration": 9,
        "start_time": "2024-03-01T08:58:12.854Z"
      },
      {
        "duration": 17,
        "start_time": "2024-03-01T08:58:12.864Z"
      },
      {
        "duration": 22,
        "start_time": "2024-03-01T08:58:12.883Z"
      },
      {
        "duration": 867,
        "start_time": "2024-03-01T08:58:12.907Z"
      },
      {
        "duration": 43,
        "start_time": "2024-03-01T08:58:13.775Z"
      },
      {
        "duration": 20,
        "start_time": "2024-03-01T08:58:13.820Z"
      },
      {
        "duration": 12,
        "start_time": "2024-03-01T08:58:13.841Z"
      },
      {
        "duration": 41,
        "start_time": "2024-03-01T08:58:13.854Z"
      },
      {
        "duration": 14,
        "start_time": "2024-03-01T08:58:13.896Z"
      },
      {
        "duration": 107,
        "start_time": "2024-03-01T08:58:13.912Z"
      },
      {
        "duration": 3,
        "start_time": "2024-03-01T08:58:14.020Z"
      },
      {
        "duration": 10,
        "start_time": "2024-03-01T08:58:14.024Z"
      },
      {
        "duration": 10,
        "start_time": "2024-03-01T08:58:14.036Z"
      },
      {
        "duration": 5,
        "start_time": "2024-03-01T08:58:14.047Z"
      },
      {
        "duration": 28,
        "start_time": "2024-03-01T08:58:14.053Z"
      },
      {
        "duration": 3,
        "start_time": "2024-03-01T08:58:14.083Z"
      },
      {
        "duration": 14,
        "start_time": "2024-03-01T08:58:14.088Z"
      },
      {
        "duration": 22098,
        "start_time": "2024-03-01T08:58:14.104Z"
      },
      {
        "duration": 2202,
        "start_time": "2024-03-01T08:58:36.281Z"
      },
      {
        "duration": 38,
        "start_time": "2024-03-01T08:58:38.485Z"
      },
      {
        "duration": 12,
        "start_time": "2024-03-01T08:58:38.525Z"
      },
      {
        "duration": 9,
        "start_time": "2024-03-01T08:58:38.538Z"
      },
      {
        "duration": 6,
        "start_time": "2024-03-01T08:58:38.549Z"
      },
      {
        "duration": 59,
        "start_time": "2024-03-01T08:58:38.556Z"
      },
      {
        "duration": 96,
        "start_time": "2024-03-01T08:58:38.616Z"
      },
      {
        "duration": 368,
        "start_time": "2024-03-01T08:58:38.713Z"
      },
      {
        "duration": 7,
        "start_time": "2024-03-01T08:58:39.083Z"
      },
      {
        "duration": 1667,
        "start_time": "2024-03-01T08:58:39.092Z"
      },
      {
        "duration": 40,
        "start_time": "2024-03-01T08:58:40.761Z"
      },
      {
        "duration": 10,
        "start_time": "2024-03-01T08:58:40.803Z"
      },
      {
        "duration": 57,
        "start_time": "2024-03-01T08:58:40.815Z"
      },
      {
        "duration": 15,
        "start_time": "2024-03-01T08:58:40.873Z"
      },
      {
        "duration": 429,
        "start_time": "2024-03-01T08:58:40.890Z"
      },
      {
        "duration": 7,
        "start_time": "2024-03-01T08:58:41.321Z"
      },
      {
        "duration": 96,
        "start_time": "2024-03-01T08:58:41.329Z"
      },
      {
        "duration": 5,
        "start_time": "2024-03-01T08:58:41.427Z"
      },
      {
        "duration": 26,
        "start_time": "2024-03-01T08:58:41.433Z"
      },
      {
        "duration": 20,
        "start_time": "2024-03-01T08:58:41.461Z"
      },
      {
        "duration": 346,
        "start_time": "2024-03-01T08:58:41.483Z"
      },
      {
        "duration": 17,
        "start_time": "2024-03-01T08:58:41.830Z"
      },
      {
        "duration": 45,
        "start_time": "2024-03-01T08:58:41.850Z"
      },
      {
        "duration": 345,
        "start_time": "2024-03-01T08:58:41.897Z"
      },
      {
        "duration": 2867,
        "start_time": "2024-03-01T08:58:42.244Z"
      },
      {
        "duration": 4,
        "start_time": "2024-03-01T08:58:45.113Z"
      },
      {
        "duration": 2,
        "start_time": "2024-03-01T09:01:20.329Z"
      },
      {
        "duration": 129,
        "start_time": "2024-03-01T09:02:26.657Z"
      },
      {
        "duration": 149,
        "start_time": "2024-03-01T09:36:57.180Z"
      },
      {
        "duration": 99,
        "start_time": "2024-03-01T09:39:38.472Z"
      },
      {
        "duration": 4,
        "start_time": "2024-03-01T09:42:50.834Z"
      },
      {
        "duration": 5403,
        "start_time": "2024-03-01T09:43:53.534Z"
      },
      {
        "duration": 16,
        "start_time": "2024-03-01T09:43:58.940Z"
      },
      {
        "duration": 37,
        "start_time": "2024-03-01T09:43:58.958Z"
      },
      {
        "duration": 13,
        "start_time": "2024-03-01T09:43:58.997Z"
      },
      {
        "duration": 14,
        "start_time": "2024-03-01T09:43:59.013Z"
      },
      {
        "duration": 57,
        "start_time": "2024-03-01T09:43:59.029Z"
      },
      {
        "duration": 38,
        "start_time": "2024-03-01T09:43:59.088Z"
      },
      {
        "duration": 62,
        "start_time": "2024-03-01T09:43:59.127Z"
      },
      {
        "duration": 413,
        "start_time": "2024-03-01T09:43:59.191Z"
      },
      {
        "duration": 10,
        "start_time": "2024-03-01T09:43:59.606Z"
      },
      {
        "duration": 5,
        "start_time": "2024-03-01T09:43:59.618Z"
      },
      {
        "duration": 7,
        "start_time": "2024-03-01T09:43:59.625Z"
      },
      {
        "duration": 947,
        "start_time": "2024-03-01T09:43:59.634Z"
      },
      {
        "duration": 46,
        "start_time": "2024-03-01T09:44:00.584Z"
      },
      {
        "duration": 311,
        "start_time": "2024-03-01T09:44:00.632Z"
      },
      {
        "duration": 169,
        "start_time": "2024-03-01T09:44:00.945Z"
      },
      {
        "duration": 162,
        "start_time": "2024-03-01T09:44:01.116Z"
      },
      {
        "duration": 105,
        "start_time": "2024-03-01T09:44:01.280Z"
      },
      {
        "duration": 162,
        "start_time": "2024-03-01T09:44:01.387Z"
      },
      {
        "duration": 13,
        "start_time": "2024-03-01T09:44:01.550Z"
      },
      {
        "duration": 201,
        "start_time": "2024-03-01T09:44:01.565Z"
      },
      {
        "duration": 128,
        "start_time": "2024-03-01T09:44:01.768Z"
      },
      {
        "duration": 323,
        "start_time": "2024-03-01T09:44:01.898Z"
      },
      {
        "duration": 246,
        "start_time": "2024-03-01T09:44:02.223Z"
      },
      {
        "duration": 63,
        "start_time": "2024-03-01T09:44:02.471Z"
      },
      {
        "duration": 112,
        "start_time": "2024-03-01T09:44:02.536Z"
      },
      {
        "duration": 22533,
        "start_time": "2024-03-01T09:44:02.650Z"
      },
      {
        "duration": 2410,
        "start_time": "2024-03-01T09:44:25.185Z"
      },
      {
        "duration": 41,
        "start_time": "2024-03-01T09:44:27.597Z"
      },
      {
        "duration": 13,
        "start_time": "2024-03-01T09:44:27.639Z"
      },
      {
        "duration": 11,
        "start_time": "2024-03-01T09:44:27.654Z"
      },
      {
        "duration": 7,
        "start_time": "2024-03-01T09:44:27.667Z"
      },
      {
        "duration": 42,
        "start_time": "2024-03-01T09:44:27.679Z"
      },
      {
        "duration": 87,
        "start_time": "2024-03-01T09:44:27.722Z"
      },
      {
        "duration": 398,
        "start_time": "2024-03-01T09:44:27.811Z"
      },
      {
        "duration": 8,
        "start_time": "2024-03-01T09:44:28.211Z"
      },
      {
        "duration": 1127,
        "start_time": "2024-03-01T09:44:28.221Z"
      },
      {
        "duration": 42,
        "start_time": "2024-03-01T09:44:29.350Z"
      },
      {
        "duration": 11,
        "start_time": "2024-03-01T09:44:29.393Z"
      },
      {
        "duration": 25,
        "start_time": "2024-03-01T09:44:29.405Z"
      },
      {
        "duration": 35,
        "start_time": "2024-03-01T09:44:29.434Z"
      },
      {
        "duration": 1063,
        "start_time": "2024-03-01T09:44:29.471Z"
      },
      {
        "duration": 9,
        "start_time": "2024-03-01T09:44:30.536Z"
      },
      {
        "duration": 266,
        "start_time": "2024-03-01T09:44:30.547Z"
      },
      {
        "duration": 50,
        "start_time": "2024-03-01T09:44:30.815Z"
      },
      {
        "duration": 39,
        "start_time": "2024-03-01T09:44:30.867Z"
      },
      {
        "duration": 71,
        "start_time": "2024-03-01T09:44:30.907Z"
      },
      {
        "duration": 411,
        "start_time": "2024-03-01T09:44:30.980Z"
      },
      {
        "duration": 17,
        "start_time": "2024-03-01T09:44:31.394Z"
      },
      {
        "duration": 101,
        "start_time": "2024-03-01T09:44:31.413Z"
      },
      {
        "duration": 449,
        "start_time": "2024-03-01T09:44:31.516Z"
      },
      {
        "duration": 2985,
        "start_time": "2024-03-01T09:44:31.967Z"
      },
      {
        "duration": 3,
        "start_time": "2024-03-01T09:44:34.954Z"
      },
      {
        "duration": 10919,
        "start_time": "2024-03-01T12:17:42.183Z"
      },
      {
        "duration": 17,
        "start_time": "2024-03-01T12:17:53.104Z"
      },
      {
        "duration": 73,
        "start_time": "2024-03-01T12:17:53.123Z"
      },
      {
        "duration": 15,
        "start_time": "2024-03-01T12:17:53.198Z"
      },
      {
        "duration": 6,
        "start_time": "2024-03-01T12:17:53.216Z"
      },
      {
        "duration": 71,
        "start_time": "2024-03-01T12:17:53.224Z"
      },
      {
        "duration": 91,
        "start_time": "2024-03-01T12:17:53.297Z"
      },
      {
        "duration": 21,
        "start_time": "2024-03-01T12:17:53.390Z"
      },
      {
        "duration": 414,
        "start_time": "2024-03-01T12:17:53.413Z"
      },
      {
        "duration": 9,
        "start_time": "2024-03-01T12:17:53.831Z"
      },
      {
        "duration": 5,
        "start_time": "2024-03-01T12:17:53.842Z"
      },
      {
        "duration": 8,
        "start_time": "2024-03-01T12:17:53.849Z"
      },
      {
        "duration": 928,
        "start_time": "2024-03-01T12:17:53.887Z"
      },
      {
        "duration": 78,
        "start_time": "2024-03-01T12:17:54.817Z"
      },
      {
        "duration": 24,
        "start_time": "2024-03-01T12:17:54.896Z"
      },
      {
        "duration": 14,
        "start_time": "2024-03-01T12:17:54.922Z"
      },
      {
        "duration": 79,
        "start_time": "2024-03-01T12:17:54.938Z"
      },
      {
        "duration": 14,
        "start_time": "2024-03-01T12:17:55.019Z"
      },
      {
        "duration": 94,
        "start_time": "2024-03-01T12:17:55.035Z"
      },
      {
        "duration": 3,
        "start_time": "2024-03-01T12:17:55.131Z"
      },
      {
        "duration": 11,
        "start_time": "2024-03-01T12:17:55.135Z"
      },
      {
        "duration": 9,
        "start_time": "2024-03-01T12:17:55.148Z"
      },
      {
        "duration": 7,
        "start_time": "2024-03-01T12:17:55.159Z"
      },
      {
        "duration": 154,
        "start_time": "2024-03-01T12:17:55.168Z"
      },
      {
        "duration": 21,
        "start_time": "2024-03-01T12:17:55.324Z"
      },
      {
        "duration": 15,
        "start_time": "2024-03-01T12:17:55.347Z"
      },
      {
        "duration": 22528,
        "start_time": "2024-03-01T12:17:55.364Z"
      },
      {
        "duration": 2249,
        "start_time": "2024-03-01T12:18:17.900Z"
      },
      {
        "duration": 114,
        "start_time": "2024-03-01T12:18:20.151Z"
      },
      {
        "duration": 20,
        "start_time": "2024-03-01T12:18:20.267Z"
      },
      {
        "duration": 93,
        "start_time": "2024-03-01T12:18:20.289Z"
      },
      {
        "duration": 83,
        "start_time": "2024-03-01T12:18:20.383Z"
      },
      {
        "duration": 83,
        "start_time": "2024-03-01T12:18:20.468Z"
      },
      {
        "duration": 50,
        "start_time": "2024-03-01T12:18:20.552Z"
      },
      {
        "duration": 394,
        "start_time": "2024-03-01T12:18:20.603Z"
      },
      {
        "duration": 6,
        "start_time": "2024-03-01T12:18:20.999Z"
      },
      {
        "duration": 1084,
        "start_time": "2024-03-01T12:18:21.006Z"
      },
      {
        "duration": 83,
        "start_time": "2024-03-01T12:18:22.091Z"
      },
      {
        "duration": 12,
        "start_time": "2024-03-01T12:18:22.176Z"
      },
      {
        "duration": 34,
        "start_time": "2024-03-01T12:18:22.190Z"
      },
      {
        "duration": 41,
        "start_time": "2024-03-01T12:18:22.226Z"
      },
      {
        "duration": 471,
        "start_time": "2024-03-01T12:18:22.269Z"
      },
      {
        "duration": 8,
        "start_time": "2024-03-01T12:18:22.742Z"
      },
      {
        "duration": 225,
        "start_time": "2024-03-01T12:18:22.752Z"
      },
      {
        "duration": 11,
        "start_time": "2024-03-01T12:18:22.979Z"
      },
      {
        "duration": 35,
        "start_time": "2024-03-01T12:18:22.992Z"
      },
      {
        "duration": 25,
        "start_time": "2024-03-01T12:18:23.029Z"
      },
      {
        "duration": 373,
        "start_time": "2024-03-01T12:18:23.056Z"
      },
      {
        "duration": 19,
        "start_time": "2024-03-01T12:18:23.431Z"
      },
      {
        "duration": 57,
        "start_time": "2024-03-01T12:18:23.451Z"
      },
      {
        "duration": 313,
        "start_time": "2024-03-01T12:18:23.510Z"
      },
      {
        "duration": 2891,
        "start_time": "2024-03-01T12:18:23.825Z"
      },
      {
        "duration": 3,
        "start_time": "2024-03-01T12:18:26.718Z"
      },
      {
        "duration": 8334,
        "start_time": "2024-03-01T12:20:14.444Z"
      },
      {
        "duration": 20,
        "start_time": "2024-03-01T12:20:22.781Z"
      },
      {
        "duration": 34,
        "start_time": "2024-03-01T12:20:22.803Z"
      },
      {
        "duration": 13,
        "start_time": "2024-03-01T12:20:22.838Z"
      },
      {
        "duration": 5,
        "start_time": "2024-03-01T12:20:22.853Z"
      },
      {
        "duration": 48,
        "start_time": "2024-03-01T12:20:22.859Z"
      },
      {
        "duration": 35,
        "start_time": "2024-03-01T12:20:22.908Z"
      },
      {
        "duration": 22,
        "start_time": "2024-03-01T12:20:22.989Z"
      },
      {
        "duration": 425,
        "start_time": "2024-03-01T12:20:23.013Z"
      },
      {
        "duration": 8,
        "start_time": "2024-03-01T12:20:23.439Z"
      },
      {
        "duration": 4,
        "start_time": "2024-03-01T12:20:23.449Z"
      },
      {
        "duration": 7,
        "start_time": "2024-03-01T12:20:23.454Z"
      },
      {
        "duration": 976,
        "start_time": "2024-03-01T12:20:23.462Z"
      },
      {
        "duration": 53,
        "start_time": "2024-03-01T12:20:24.442Z"
      },
      {
        "duration": 26,
        "start_time": "2024-03-01T12:20:24.497Z"
      },
      {
        "duration": 13,
        "start_time": "2024-03-01T12:20:24.524Z"
      },
      {
        "duration": 52,
        "start_time": "2024-03-01T12:20:24.539Z"
      },
      {
        "duration": 17,
        "start_time": "2024-03-01T12:20:24.593Z"
      },
      {
        "duration": 110,
        "start_time": "2024-03-01T12:20:24.612Z"
      },
      {
        "duration": 2,
        "start_time": "2024-03-01T12:20:24.724Z"
      },
      {
        "duration": 7,
        "start_time": "2024-03-01T12:20:24.727Z"
      },
      {
        "duration": 8,
        "start_time": "2024-03-01T12:20:24.736Z"
      },
      {
        "duration": 4,
        "start_time": "2024-03-01T12:20:24.745Z"
      },
      {
        "duration": 167,
        "start_time": "2024-03-01T12:20:24.751Z"
      },
      {
        "duration": 4,
        "start_time": "2024-03-01T12:20:24.919Z"
      },
      {
        "duration": 10,
        "start_time": "2024-03-01T12:20:24.925Z"
      },
      {
        "duration": 23052,
        "start_time": "2024-03-01T12:20:24.937Z"
      },
      {
        "duration": 2279,
        "start_time": "2024-03-01T12:20:47.991Z"
      },
      {
        "duration": 41,
        "start_time": "2024-03-01T12:20:50.271Z"
      },
      {
        "duration": 12,
        "start_time": "2024-03-01T12:20:50.314Z"
      },
      {
        "duration": 11,
        "start_time": "2024-03-01T12:20:50.328Z"
      },
      {
        "duration": 33,
        "start_time": "2024-03-01T12:20:50.341Z"
      },
      {
        "duration": 40,
        "start_time": "2024-03-01T12:20:50.376Z"
      },
      {
        "duration": 89,
        "start_time": "2024-03-01T12:20:50.417Z"
      },
      {
        "duration": 361,
        "start_time": "2024-03-01T12:20:50.507Z"
      },
      {
        "duration": 7,
        "start_time": "2024-03-01T12:20:50.869Z"
      },
      {
        "duration": 1104,
        "start_time": "2024-03-01T12:20:50.878Z"
      },
      {
        "duration": 40,
        "start_time": "2024-03-01T12:20:51.984Z"
      },
      {
        "duration": 9,
        "start_time": "2024-03-01T12:20:52.026Z"
      },
      {
        "duration": 28,
        "start_time": "2024-03-01T12:20:52.037Z"
      },
      {
        "duration": 18,
        "start_time": "2024-03-01T12:20:52.070Z"
      },
      {
        "duration": 453,
        "start_time": "2024-03-01T12:20:52.090Z"
      },
      {
        "duration": 8,
        "start_time": "2024-03-01T12:20:52.545Z"
      },
      {
        "duration": 228,
        "start_time": "2024-03-01T12:20:52.555Z"
      },
      {
        "duration": 9,
        "start_time": "2024-03-01T12:20:52.785Z"
      },
      {
        "duration": 17,
        "start_time": "2024-03-01T12:20:52.796Z"
      },
      {
        "duration": 17,
        "start_time": "2024-03-01T12:20:52.815Z"
      },
      {
        "duration": 347,
        "start_time": "2024-03-01T12:20:52.833Z"
      },
      {
        "duration": 25,
        "start_time": "2024-03-01T12:20:53.182Z"
      },
      {
        "duration": 32,
        "start_time": "2024-03-01T12:20:53.208Z"
      },
      {
        "duration": 350,
        "start_time": "2024-03-01T12:20:53.242Z"
      },
      {
        "duration": 2975,
        "start_time": "2024-03-01T12:20:53.594Z"
      },
      {
        "duration": 3,
        "start_time": "2024-03-01T12:20:56.571Z"
      },
      {
        "duration": 8022,
        "start_time": "2024-03-01T12:27:41.165Z"
      },
      {
        "duration": 17,
        "start_time": "2024-03-01T12:27:49.189Z"
      },
      {
        "duration": 39,
        "start_time": "2024-03-01T12:27:49.208Z"
      },
      {
        "duration": 13,
        "start_time": "2024-03-01T12:27:49.249Z"
      },
      {
        "duration": 5,
        "start_time": "2024-03-01T12:27:49.264Z"
      },
      {
        "duration": 39,
        "start_time": "2024-03-01T12:27:49.270Z"
      },
      {
        "duration": 83,
        "start_time": "2024-03-01T12:27:49.311Z"
      },
      {
        "duration": 16,
        "start_time": "2024-03-01T12:27:49.395Z"
      },
      {
        "duration": 420,
        "start_time": "2024-03-01T12:27:49.413Z"
      },
      {
        "duration": 9,
        "start_time": "2024-03-01T12:27:49.836Z"
      },
      {
        "duration": 6,
        "start_time": "2024-03-01T12:27:49.847Z"
      },
      {
        "duration": 15,
        "start_time": "2024-03-01T12:27:49.854Z"
      },
      {
        "duration": 910,
        "start_time": "2024-03-01T12:27:49.870Z"
      },
      {
        "duration": 49,
        "start_time": "2024-03-01T12:27:50.782Z"
      },
      {
        "duration": 20,
        "start_time": "2024-03-01T12:27:50.833Z"
      },
      {
        "duration": 32,
        "start_time": "2024-03-01T12:27:50.855Z"
      },
      {
        "duration": 38,
        "start_time": "2024-03-01T12:27:50.890Z"
      },
      {
        "duration": 15,
        "start_time": "2024-03-01T12:27:50.930Z"
      },
      {
        "duration": 100,
        "start_time": "2024-03-01T12:27:50.947Z"
      },
      {
        "duration": 3,
        "start_time": "2024-03-01T12:27:51.048Z"
      },
      {
        "duration": 33,
        "start_time": "2024-03-01T12:27:51.053Z"
      },
      {
        "duration": 29,
        "start_time": "2024-03-01T12:27:51.088Z"
      },
      {
        "duration": 27,
        "start_time": "2024-03-01T12:27:51.118Z"
      },
      {
        "duration": 141,
        "start_time": "2024-03-01T12:27:51.147Z"
      },
      {
        "duration": 23,
        "start_time": "2024-03-01T12:27:51.290Z"
      },
      {
        "duration": 48,
        "start_time": "2024-03-01T12:27:51.315Z"
      },
      {
        "duration": 22323,
        "start_time": "2024-03-01T12:27:51.364Z"
      },
      {
        "duration": 2217,
        "start_time": "2024-03-01T12:28:13.694Z"
      },
      {
        "duration": 37,
        "start_time": "2024-03-01T12:28:15.913Z"
      },
      {
        "duration": 11,
        "start_time": "2024-03-01T12:28:15.952Z"
      },
      {
        "duration": 9,
        "start_time": "2024-03-01T12:28:15.966Z"
      },
      {
        "duration": 16,
        "start_time": "2024-03-01T12:28:15.976Z"
      },
      {
        "duration": 28,
        "start_time": "2024-03-01T12:28:15.994Z"
      },
      {
        "duration": 91,
        "start_time": "2024-03-01T12:28:16.024Z"
      },
      {
        "duration": 359,
        "start_time": "2024-03-01T12:28:16.117Z"
      },
      {
        "duration": 13,
        "start_time": "2024-03-01T12:28:16.478Z"
      },
      {
        "duration": 1043,
        "start_time": "2024-03-01T12:28:16.492Z"
      },
      {
        "duration": 40,
        "start_time": "2024-03-01T12:28:17.537Z"
      },
      {
        "duration": 11,
        "start_time": "2024-03-01T12:28:17.579Z"
      },
      {
        "duration": 6,
        "start_time": "2024-03-01T12:28:17.592Z"
      },
      {
        "duration": 16,
        "start_time": "2024-03-01T12:28:17.600Z"
      },
      {
        "duration": 418,
        "start_time": "2024-03-01T12:28:17.618Z"
      },
      {
        "duration": 8,
        "start_time": "2024-03-01T12:28:18.037Z"
      },
      {
        "duration": 231,
        "start_time": "2024-03-01T12:28:18.047Z"
      },
      {
        "duration": 9,
        "start_time": "2024-03-01T12:28:18.280Z"
      },
      {
        "duration": 5,
        "start_time": "2024-03-01T12:28:18.291Z"
      },
      {
        "duration": 29,
        "start_time": "2024-03-01T12:28:18.298Z"
      },
      {
        "duration": 321,
        "start_time": "2024-03-01T12:28:18.328Z"
      },
      {
        "duration": 16,
        "start_time": "2024-03-01T12:28:18.650Z"
      },
      {
        "duration": 41,
        "start_time": "2024-03-01T12:28:18.668Z"
      },
      {
        "duration": 318,
        "start_time": "2024-03-01T12:28:18.710Z"
      },
      {
        "duration": 3823,
        "start_time": "2024-03-01T12:28:19.031Z"
      },
      {
        "duration": 4,
        "start_time": "2024-03-01T12:28:22.856Z"
      },
      {
        "duration": 2268,
        "start_time": "2024-03-02T09:42:23.719Z"
      },
      {
        "duration": 0,
        "start_time": "2024-03-02T09:42:25.990Z"
      },
      {
        "duration": 0,
        "start_time": "2024-03-02T09:42:25.991Z"
      },
      {
        "duration": 0,
        "start_time": "2024-03-02T09:42:25.992Z"
      },
      {
        "duration": 0,
        "start_time": "2024-03-02T09:42:25.993Z"
      },
      {
        "duration": 0,
        "start_time": "2024-03-02T09:42:25.995Z"
      },
      {
        "duration": 0,
        "start_time": "2024-03-02T09:42:25.996Z"
      },
      {
        "duration": 0,
        "start_time": "2024-03-02T09:42:25.997Z"
      },
      {
        "duration": 0,
        "start_time": "2024-03-02T09:42:25.998Z"
      },
      {
        "duration": 0,
        "start_time": "2024-03-02T09:42:25.999Z"
      },
      {
        "duration": 0,
        "start_time": "2024-03-02T09:42:26.000Z"
      },
      {
        "duration": 0,
        "start_time": "2024-03-02T09:42:26.001Z"
      },
      {
        "duration": 0,
        "start_time": "2024-03-02T09:42:26.003Z"
      },
      {
        "duration": 0,
        "start_time": "2024-03-02T09:42:26.004Z"
      },
      {
        "duration": 0,
        "start_time": "2024-03-02T09:42:26.005Z"
      },
      {
        "duration": 0,
        "start_time": "2024-03-02T09:42:26.006Z"
      },
      {
        "duration": 0,
        "start_time": "2024-03-02T09:42:26.007Z"
      },
      {
        "duration": 0,
        "start_time": "2024-03-02T09:42:26.008Z"
      },
      {
        "duration": 0,
        "start_time": "2024-03-02T09:42:26.009Z"
      },
      {
        "duration": 10,
        "start_time": "2024-03-02T09:42:47.650Z"
      },
      {
        "duration": 12,
        "start_time": "2024-03-02T09:42:51.838Z"
      },
      {
        "duration": 14,
        "start_time": "2024-03-02T09:43:24.454Z"
      },
      {
        "duration": 0,
        "start_time": "2024-03-02T09:43:24.470Z"
      },
      {
        "duration": 9,
        "start_time": "2024-03-02T09:43:24.475Z"
      },
      {
        "duration": 0,
        "start_time": "2024-03-02T09:43:24.485Z"
      },
      {
        "duration": 29,
        "start_time": "2024-03-02T09:43:24.490Z"
      },
      {
        "duration": 0,
        "start_time": "2024-03-02T09:43:24.521Z"
      },
      {
        "duration": 0,
        "start_time": "2024-03-02T09:43:24.522Z"
      },
      {
        "duration": 0,
        "start_time": "2024-03-02T09:43:24.523Z"
      },
      {
        "duration": 0,
        "start_time": "2024-03-02T09:43:24.524Z"
      },
      {
        "duration": 13,
        "start_time": "2024-03-02T09:43:24.526Z"
      },
      {
        "duration": 0,
        "start_time": "2024-03-02T09:43:24.541Z"
      },
      {
        "duration": 9,
        "start_time": "2024-03-02T09:43:24.555Z"
      },
      {
        "duration": 0,
        "start_time": "2024-03-02T09:43:24.565Z"
      },
      {
        "duration": 0,
        "start_time": "2024-03-02T09:43:24.566Z"
      },
      {
        "duration": 9,
        "start_time": "2024-03-02T09:43:24.578Z"
      },
      {
        "duration": 0,
        "start_time": "2024-03-02T09:43:24.588Z"
      },
      {
        "duration": 26,
        "start_time": "2024-03-02T09:43:24.590Z"
      },
      {
        "duration": 0,
        "start_time": "2024-03-02T09:43:24.618Z"
      },
      {
        "duration": 8,
        "start_time": "2024-03-02T09:43:24.623Z"
      },
      {
        "duration": 8,
        "start_time": "2024-03-02T09:43:30.692Z"
      },
      {
        "duration": 12,
        "start_time": "2024-03-02T09:43:36.503Z"
      },
      {
        "duration": 0,
        "start_time": "2024-03-02T09:43:36.516Z"
      },
      {
        "duration": 0,
        "start_time": "2024-03-02T09:43:36.518Z"
      },
      {
        "duration": 0,
        "start_time": "2024-03-02T09:43:36.519Z"
      },
      {
        "duration": 0,
        "start_time": "2024-03-02T09:43:36.520Z"
      },
      {
        "duration": 0,
        "start_time": "2024-03-02T09:43:36.521Z"
      },
      {
        "duration": 0,
        "start_time": "2024-03-02T09:43:36.522Z"
      },
      {
        "duration": 12,
        "start_time": "2024-03-02T09:43:36.524Z"
      },
      {
        "duration": 0,
        "start_time": "2024-03-02T09:43:36.537Z"
      },
      {
        "duration": 0,
        "start_time": "2024-03-02T09:43:36.538Z"
      },
      {
        "duration": 8,
        "start_time": "2024-03-02T09:43:36.567Z"
      },
      {
        "duration": 0,
        "start_time": "2024-03-02T09:43:36.577Z"
      },
      {
        "duration": 0,
        "start_time": "2024-03-02T09:43:36.578Z"
      },
      {
        "duration": 0,
        "start_time": "2024-03-02T09:43:36.579Z"
      },
      {
        "duration": 8,
        "start_time": "2024-03-02T09:43:36.587Z"
      },
      {
        "duration": 0,
        "start_time": "2024-03-02T09:43:36.597Z"
      },
      {
        "duration": 232,
        "start_time": "2024-03-02T09:43:36.602Z"
      },
      {
        "duration": 0,
        "start_time": "2024-03-02T09:43:36.836Z"
      },
      {
        "duration": 0,
        "start_time": "2024-03-02T09:43:36.838Z"
      },
      {
        "duration": 0,
        "start_time": "2024-03-02T09:43:36.839Z"
      },
      {
        "duration": 0,
        "start_time": "2024-03-02T09:43:36.840Z"
      },
      {
        "duration": 0,
        "start_time": "2024-03-02T09:43:36.841Z"
      },
      {
        "duration": 0,
        "start_time": "2024-03-02T09:43:36.842Z"
      },
      {
        "duration": 0,
        "start_time": "2024-03-02T09:43:36.843Z"
      },
      {
        "duration": 0,
        "start_time": "2024-03-02T09:43:36.844Z"
      },
      {
        "duration": 0,
        "start_time": "2024-03-02T09:43:36.845Z"
      },
      {
        "duration": 0,
        "start_time": "2024-03-02T09:43:36.846Z"
      },
      {
        "duration": 0,
        "start_time": "2024-03-02T09:43:36.847Z"
      },
      {
        "duration": 0,
        "start_time": "2024-03-02T09:43:36.848Z"
      },
      {
        "duration": 0,
        "start_time": "2024-03-02T09:43:36.873Z"
      },
      {
        "duration": 0,
        "start_time": "2024-03-02T09:43:36.874Z"
      },
      {
        "duration": 0,
        "start_time": "2024-03-02T09:43:36.875Z"
      },
      {
        "duration": 0,
        "start_time": "2024-03-02T09:43:36.876Z"
      },
      {
        "duration": 0,
        "start_time": "2024-03-02T09:43:36.877Z"
      },
      {
        "duration": 0,
        "start_time": "2024-03-02T09:43:36.878Z"
      },
      {
        "duration": 3724,
        "start_time": "2024-03-02T09:45:16.869Z"
      },
      {
        "duration": 16,
        "start_time": "2024-03-02T09:45:20.595Z"
      },
      {
        "duration": 70,
        "start_time": "2024-03-02T09:45:20.613Z"
      },
      {
        "duration": 14,
        "start_time": "2024-03-02T09:45:20.685Z"
      },
      {
        "duration": 16,
        "start_time": "2024-03-02T09:45:20.701Z"
      },
      {
        "duration": 29,
        "start_time": "2024-03-02T09:45:20.718Z"
      },
      {
        "duration": 55,
        "start_time": "2024-03-02T09:45:20.749Z"
      },
      {
        "duration": 16,
        "start_time": "2024-03-02T09:45:20.805Z"
      },
      {
        "duration": 435,
        "start_time": "2024-03-02T09:45:20.822Z"
      },
      {
        "duration": 14,
        "start_time": "2024-03-02T09:45:21.259Z"
      },
      {
        "duration": 9,
        "start_time": "2024-03-02T09:45:21.275Z"
      },
      {
        "duration": 20,
        "start_time": "2024-03-02T09:45:21.286Z"
      },
      {
        "duration": 855,
        "start_time": "2024-03-02T09:45:21.308Z"
      },
      {
        "duration": 79,
        "start_time": "2024-03-02T09:45:22.165Z"
      },
      {
        "duration": 19,
        "start_time": "2024-03-02T09:45:22.245Z"
      },
      {
        "duration": 25,
        "start_time": "2024-03-02T09:45:22.265Z"
      },
      {
        "duration": 99,
        "start_time": "2024-03-02T09:45:22.292Z"
      },
      {
        "duration": 14,
        "start_time": "2024-03-02T09:45:22.392Z"
      },
      {
        "duration": 99,
        "start_time": "2024-03-02T09:45:22.408Z"
      },
      {
        "duration": 4,
        "start_time": "2024-03-02T09:45:25.893Z"
      },
      {
        "duration": 17,
        "start_time": "2024-03-02T09:46:53.453Z"
      },
      {
        "duration": 30,
        "start_time": "2024-03-02T09:47:56.135Z"
      },
      {
        "duration": 307,
        "start_time": "2024-03-02T09:48:52.482Z"
      },
      {
        "duration": 22,
        "start_time": "2024-03-02T09:52:33.054Z"
      },
      {
        "duration": 19,
        "start_time": "2024-03-02T09:55:19.844Z"
      },
      {
        "duration": 26,
        "start_time": "2024-03-02T09:56:14.097Z"
      },
      {
        "duration": 24,
        "start_time": "2024-03-02T09:56:56.391Z"
      },
      {
        "duration": 25,
        "start_time": "2024-03-02T09:57:15.391Z"
      },
      {
        "duration": 25,
        "start_time": "2024-03-02T09:57:31.413Z"
      },
      {
        "duration": 4,
        "start_time": "2024-03-02T09:58:20.762Z"
      },
      {
        "duration": 25,
        "start_time": "2024-03-02T09:58:51.521Z"
      },
      {
        "duration": 26,
        "start_time": "2024-03-02T09:59:15.160Z"
      },
      {
        "duration": 260,
        "start_time": "2024-03-02T10:00:02.847Z"
      },
      {
        "duration": 2642,
        "start_time": "2024-03-02T10:01:13.287Z"
      },
      {
        "duration": 1170,
        "start_time": "2024-03-02T10:01:23.099Z"
      },
      {
        "duration": 103,
        "start_time": "2024-03-02T10:04:01.655Z"
      },
      {
        "duration": 112,
        "start_time": "2024-03-02T10:04:36.794Z"
      },
      {
        "duration": 96,
        "start_time": "2024-03-02T10:05:46.792Z"
      },
      {
        "duration": 1320,
        "start_time": "2024-03-02T10:07:16.555Z"
      },
      {
        "duration": 24,
        "start_time": "2024-03-02T10:09:46.794Z"
      },
      {
        "duration": 28,
        "start_time": "2024-03-02T10:10:00.969Z"
      },
      {
        "duration": 1087,
        "start_time": "2024-03-02T10:11:23.079Z"
      },
      {
        "duration": 1132,
        "start_time": "2024-03-02T10:12:40.684Z"
      },
      {
        "duration": 1311,
        "start_time": "2024-03-02T10:13:08.314Z"
      },
      {
        "duration": 1404,
        "start_time": "2024-03-02T10:13:19.495Z"
      },
      {
        "duration": 102,
        "start_time": "2024-03-02T10:18:36.382Z"
      },
      {
        "duration": 1172,
        "start_time": "2024-03-02T10:23:16.503Z"
      },
      {
        "duration": 1156,
        "start_time": "2024-03-02T10:23:24.780Z"
      },
      {
        "duration": 27,
        "start_time": "2024-03-02T10:24:05.710Z"
      },
      {
        "duration": 2737,
        "start_time": "2024-03-02T10:24:22.078Z"
      },
      {
        "duration": 17,
        "start_time": "2024-03-02T10:24:24.817Z"
      },
      {
        "duration": 48,
        "start_time": "2024-03-02T10:24:24.835Z"
      },
      {
        "duration": 14,
        "start_time": "2024-03-02T10:24:24.885Z"
      },
      {
        "duration": 19,
        "start_time": "2024-03-02T10:24:24.901Z"
      },
      {
        "duration": 52,
        "start_time": "2024-03-02T10:24:24.922Z"
      },
      {
        "duration": 36,
        "start_time": "2024-03-02T10:24:24.975Z"
      },
      {
        "duration": 60,
        "start_time": "2024-03-02T10:24:25.013Z"
      },
      {
        "duration": 407,
        "start_time": "2024-03-02T10:24:25.075Z"
      },
      {
        "duration": 7,
        "start_time": "2024-03-02T10:24:25.484Z"
      },
      {
        "duration": 8,
        "start_time": "2024-03-02T10:24:25.493Z"
      },
      {
        "duration": 6,
        "start_time": "2024-03-02T10:24:25.503Z"
      },
      {
        "duration": 896,
        "start_time": "2024-03-02T10:24:25.511Z"
      },
      {
        "duration": 45,
        "start_time": "2024-03-02T10:24:26.410Z"
      },
      {
        "duration": 29,
        "start_time": "2024-03-02T10:24:26.457Z"
      },
      {
        "duration": 13,
        "start_time": "2024-03-02T10:24:26.488Z"
      },
      {
        "duration": 47,
        "start_time": "2024-03-02T10:24:26.503Z"
      },
      {
        "duration": 28,
        "start_time": "2024-03-02T10:24:26.552Z"
      },
      {
        "duration": 100,
        "start_time": "2024-03-02T10:24:26.582Z"
      },
      {
        "duration": 1262,
        "start_time": "2024-03-02T10:24:26.683Z"
      },
      {
        "duration": 6,
        "start_time": "2024-03-02T10:24:27.946Z"
      },
      {
        "duration": 20,
        "start_time": "2024-03-02T10:24:27.953Z"
      },
      {
        "duration": 17,
        "start_time": "2024-03-02T10:24:27.974Z"
      },
      {
        "duration": 16,
        "start_time": "2024-03-02T10:24:27.993Z"
      },
      {
        "duration": 4,
        "start_time": "2024-03-02T10:24:28.011Z"
      },
      {
        "duration": 40,
        "start_time": "2024-03-02T10:24:28.017Z"
      },
      {
        "duration": 18,
        "start_time": "2024-03-02T10:34:17.693Z"
      },
      {
        "duration": 5,
        "start_time": "2024-03-02T10:34:30.648Z"
      },
      {
        "duration": 107,
        "start_time": "2024-03-02T10:34:46.584Z"
      },
      {
        "duration": 1509,
        "start_time": "2024-03-02T10:35:07.266Z"
      },
      {
        "duration": 2573,
        "start_time": "2024-03-02T10:37:50.213Z"
      },
      {
        "duration": 2018,
        "start_time": "2024-03-02T10:43:25.275Z"
      },
      {
        "duration": 14,
        "start_time": "2024-03-02T10:44:28.032Z"
      },
      {
        "duration": 20,
        "start_time": "2024-03-02T10:45:50.871Z"
      },
      {
        "duration": 2610,
        "start_time": "2024-03-02T10:46:36.294Z"
      },
      {
        "duration": 2622,
        "start_time": "2024-03-02T10:47:06.709Z"
      },
      {
        "duration": 2615,
        "start_time": "2024-03-02T10:47:41.723Z"
      },
      {
        "duration": 17,
        "start_time": "2024-03-02T10:47:44.342Z"
      },
      {
        "duration": 31,
        "start_time": "2024-03-02T10:47:44.360Z"
      },
      {
        "duration": 14,
        "start_time": "2024-03-02T10:47:44.393Z"
      },
      {
        "duration": 17,
        "start_time": "2024-03-02T10:47:44.409Z"
      },
      {
        "duration": 55,
        "start_time": "2024-03-02T10:47:44.428Z"
      },
      {
        "duration": 34,
        "start_time": "2024-03-02T10:47:44.485Z"
      },
      {
        "duration": 62,
        "start_time": "2024-03-02T10:47:44.521Z"
      },
      {
        "duration": 711,
        "start_time": "2024-03-02T10:47:44.585Z"
      },
      {
        "duration": 7,
        "start_time": "2024-03-02T10:47:45.297Z"
      },
      {
        "duration": 27,
        "start_time": "2024-03-02T10:47:45.306Z"
      },
      {
        "duration": 39,
        "start_time": "2024-03-02T10:47:45.335Z"
      },
      {
        "duration": 924,
        "start_time": "2024-03-02T10:47:45.375Z"
      },
      {
        "duration": 45,
        "start_time": "2024-03-02T10:47:46.302Z"
      },
      {
        "duration": 28,
        "start_time": "2024-03-02T10:47:46.349Z"
      },
      {
        "duration": 12,
        "start_time": "2024-03-02T10:47:46.378Z"
      },
      {
        "duration": 41,
        "start_time": "2024-03-02T10:47:46.392Z"
      },
      {
        "duration": 14,
        "start_time": "2024-03-02T10:47:46.435Z"
      },
      {
        "duration": 102,
        "start_time": "2024-03-02T10:47:46.451Z"
      },
      {
        "duration": 1181,
        "start_time": "2024-03-02T10:47:46.555Z"
      },
      {
        "duration": 5,
        "start_time": "2024-03-02T10:47:47.738Z"
      },
      {
        "duration": 15,
        "start_time": "2024-03-02T10:47:47.745Z"
      },
      {
        "duration": 12,
        "start_time": "2024-03-02T10:47:47.762Z"
      },
      {
        "duration": 19,
        "start_time": "2024-03-02T10:47:47.775Z"
      },
      {
        "duration": 7,
        "start_time": "2024-03-02T10:47:47.796Z"
      },
      {
        "duration": 12,
        "start_time": "2024-03-02T10:47:47.804Z"
      },
      {
        "duration": 1983,
        "start_time": "2024-03-02T10:47:51.071Z"
      },
      {
        "duration": 102,
        "start_time": "2024-03-02T10:52:14.541Z"
      },
      {
        "duration": 115,
        "start_time": "2024-03-02T10:56:36.864Z"
      },
      {
        "duration": 4183,
        "start_time": "2024-03-02T10:58:11.840Z"
      },
      {
        "duration": 17,
        "start_time": "2024-03-02T10:58:16.026Z"
      },
      {
        "duration": 38,
        "start_time": "2024-03-02T10:58:16.045Z"
      },
      {
        "duration": 15,
        "start_time": "2024-03-02T10:58:16.086Z"
      },
      {
        "duration": 5,
        "start_time": "2024-03-02T10:58:16.103Z"
      },
      {
        "duration": 65,
        "start_time": "2024-03-02T10:58:16.110Z"
      },
      {
        "duration": 36,
        "start_time": "2024-03-02T10:58:16.177Z"
      },
      {
        "duration": 16,
        "start_time": "2024-03-02T10:58:16.214Z"
      },
      {
        "duration": 510,
        "start_time": "2024-03-02T10:58:16.273Z"
      },
      {
        "duration": 9,
        "start_time": "2024-03-02T10:58:16.785Z"
      },
      {
        "duration": 19,
        "start_time": "2024-03-02T10:58:16.796Z"
      },
      {
        "duration": 25,
        "start_time": "2024-03-02T10:58:16.817Z"
      },
      {
        "duration": 871,
        "start_time": "2024-03-02T10:58:16.844Z"
      },
      {
        "duration": 55,
        "start_time": "2024-03-02T10:58:17.717Z"
      },
      {
        "duration": 25,
        "start_time": "2024-03-02T10:58:17.774Z"
      },
      {
        "duration": 14,
        "start_time": "2024-03-02T10:58:17.800Z"
      },
      {
        "duration": 58,
        "start_time": "2024-03-02T10:58:17.816Z"
      },
      {
        "duration": 15,
        "start_time": "2024-03-02T10:58:17.875Z"
      },
      {
        "duration": 104,
        "start_time": "2024-03-02T10:58:17.891Z"
      },
      {
        "duration": 1264,
        "start_time": "2024-03-02T10:58:17.997Z"
      },
      {
        "duration": 5,
        "start_time": "2024-03-02T10:58:19.263Z"
      },
      {
        "duration": 12,
        "start_time": "2024-03-02T10:58:19.270Z"
      },
      {
        "duration": 11,
        "start_time": "2024-03-02T10:58:19.284Z"
      },
      {
        "duration": 98,
        "start_time": "2024-03-02T10:58:19.296Z"
      },
      {
        "duration": 31,
        "start_time": "2024-03-02T10:58:19.395Z"
      },
      {
        "duration": 9,
        "start_time": "2024-03-02T10:58:19.428Z"
      },
      {
        "duration": 1975,
        "start_time": "2024-03-02T10:58:19.438Z"
      },
      {
        "duration": 38,
        "start_time": "2024-03-02T10:58:21.418Z"
      },
      {
        "duration": 20,
        "start_time": "2024-03-02T10:58:21.458Z"
      },
      {
        "duration": 5,
        "start_time": "2024-03-02T10:58:21.479Z"
      },
      {
        "duration": 12,
        "start_time": "2024-03-02T10:58:21.485Z"
      },
      {
        "duration": 27,
        "start_time": "2024-03-02T10:58:21.499Z"
      },
      {
        "duration": 86,
        "start_time": "2024-03-02T10:58:21.528Z"
      },
      {
        "duration": 363,
        "start_time": "2024-03-02T10:58:21.615Z"
      },
      {
        "duration": 8,
        "start_time": "2024-03-02T10:58:21.980Z"
      },
      {
        "duration": 1065,
        "start_time": "2024-03-02T10:58:21.989Z"
      },
      {
        "duration": 86,
        "start_time": "2024-03-02T10:58:23.056Z"
      },
      {
        "duration": 11,
        "start_time": "2024-03-02T10:58:23.144Z"
      },
      {
        "duration": 17,
        "start_time": "2024-03-02T10:58:23.157Z"
      },
      {
        "duration": 34,
        "start_time": "2024-03-02T10:58:23.175Z"
      },
      {
        "duration": 406,
        "start_time": "2024-03-02T10:58:23.211Z"
      },
      {
        "duration": 7,
        "start_time": "2024-03-02T10:58:23.619Z"
      },
      {
        "duration": 89,
        "start_time": "2024-03-02T10:58:23.627Z"
      },
      {
        "duration": 5,
        "start_time": "2024-03-02T10:58:23.717Z"
      },
      {
        "duration": 33,
        "start_time": "2024-03-02T10:58:23.723Z"
      },
      {
        "duration": 25,
        "start_time": "2024-03-02T10:58:23.757Z"
      },
      {
        "duration": 442,
        "start_time": "2024-03-02T10:58:23.783Z"
      },
      {
        "duration": 16,
        "start_time": "2024-03-02T10:58:24.226Z"
      },
      {
        "duration": 40,
        "start_time": "2024-03-02T10:58:24.244Z"
      },
      {
        "duration": 316,
        "start_time": "2024-03-02T10:58:24.286Z"
      },
      {
        "duration": 3000,
        "start_time": "2024-03-02T10:58:24.604Z"
      },
      {
        "duration": 3,
        "start_time": "2024-03-02T10:58:27.606Z"
      },
      {
        "duration": 4123,
        "start_time": "2024-03-02T11:00:08.131Z"
      },
      {
        "duration": 17,
        "start_time": "2024-03-02T11:00:12.257Z"
      },
      {
        "duration": 62,
        "start_time": "2024-03-02T11:00:12.275Z"
      },
      {
        "duration": 15,
        "start_time": "2024-03-02T11:00:12.338Z"
      },
      {
        "duration": 24,
        "start_time": "2024-03-02T11:00:12.355Z"
      },
      {
        "duration": 41,
        "start_time": "2024-03-02T11:00:12.381Z"
      },
      {
        "duration": 60,
        "start_time": "2024-03-02T11:00:12.424Z"
      },
      {
        "duration": 16,
        "start_time": "2024-03-02T11:00:12.486Z"
      },
      {
        "duration": 495,
        "start_time": "2024-03-02T11:00:12.503Z"
      },
      {
        "duration": 8,
        "start_time": "2024-03-02T11:00:12.999Z"
      },
      {
        "duration": 8,
        "start_time": "2024-03-02T11:00:13.009Z"
      },
      {
        "duration": 8,
        "start_time": "2024-03-02T11:00:13.019Z"
      },
      {
        "duration": 878,
        "start_time": "2024-03-02T11:00:13.029Z"
      },
      {
        "duration": 44,
        "start_time": "2024-03-02T11:00:13.910Z"
      },
      {
        "duration": 24,
        "start_time": "2024-03-02T11:00:13.956Z"
      },
      {
        "duration": 13,
        "start_time": "2024-03-02T11:00:13.981Z"
      },
      {
        "duration": 45,
        "start_time": "2024-03-02T11:00:13.995Z"
      },
      {
        "duration": 16,
        "start_time": "2024-03-02T11:00:14.042Z"
      },
      {
        "duration": 112,
        "start_time": "2024-03-02T11:00:14.073Z"
      },
      {
        "duration": 1278,
        "start_time": "2024-03-02T11:00:14.187Z"
      },
      {
        "duration": 5,
        "start_time": "2024-03-02T11:00:15.467Z"
      },
      {
        "duration": 71,
        "start_time": "2024-03-02T11:00:15.474Z"
      },
      {
        "duration": 36,
        "start_time": "2024-03-02T11:00:15.547Z"
      },
      {
        "duration": 98,
        "start_time": "2024-03-02T11:00:15.585Z"
      },
      {
        "duration": 56,
        "start_time": "2024-03-02T11:00:15.685Z"
      },
      {
        "duration": 26,
        "start_time": "2024-03-02T11:00:15.742Z"
      },
      {
        "duration": 2096,
        "start_time": "2024-03-02T11:00:15.770Z"
      },
      {
        "duration": 40,
        "start_time": "2024-03-02T11:00:17.867Z"
      },
      {
        "duration": 11,
        "start_time": "2024-03-02T11:00:17.909Z"
      },
      {
        "duration": 22,
        "start_time": "2024-03-02T11:00:17.922Z"
      },
      {
        "duration": 7,
        "start_time": "2024-03-02T11:00:17.946Z"
      },
      {
        "duration": 26,
        "start_time": "2024-03-02T11:00:17.954Z"
      },
      {
        "duration": 44,
        "start_time": "2024-03-02T11:00:17.981Z"
      },
      {
        "duration": 386,
        "start_time": "2024-03-02T11:00:18.026Z"
      },
      {
        "duration": 7,
        "start_time": "2024-03-02T11:00:18.414Z"
      },
      {
        "duration": 1055,
        "start_time": "2024-03-02T11:00:18.422Z"
      },
      {
        "duration": 43,
        "start_time": "2024-03-02T11:00:19.478Z"
      },
      {
        "duration": 11,
        "start_time": "2024-03-02T11:00:19.523Z"
      },
      {
        "duration": 9,
        "start_time": "2024-03-02T11:00:19.536Z"
      },
      {
        "duration": 22,
        "start_time": "2024-03-02T11:00:19.546Z"
      },
      {
        "duration": 424,
        "start_time": "2024-03-02T11:00:19.573Z"
      },
      {
        "duration": 8,
        "start_time": "2024-03-02T11:00:19.999Z"
      },
      {
        "duration": 101,
        "start_time": "2024-03-02T11:00:20.008Z"
      },
      {
        "duration": 6,
        "start_time": "2024-03-02T11:00:20.111Z"
      },
      {
        "duration": 26,
        "start_time": "2024-03-02T11:00:20.119Z"
      },
      {
        "duration": 38,
        "start_time": "2024-03-02T11:00:20.146Z"
      },
      {
        "duration": 432,
        "start_time": "2024-03-02T11:00:20.186Z"
      },
      {
        "duration": 18,
        "start_time": "2024-03-02T11:00:20.620Z"
      },
      {
        "duration": 44,
        "start_time": "2024-03-02T11:00:20.639Z"
      },
      {
        "duration": 328,
        "start_time": "2024-03-02T11:00:20.685Z"
      },
      {
        "duration": 2797,
        "start_time": "2024-03-02T11:00:21.015Z"
      },
      {
        "duration": 4,
        "start_time": "2024-03-02T11:00:23.814Z"
      },
      {
        "duration": 4278,
        "start_time": "2024-03-02T11:03:00.343Z"
      },
      {
        "duration": 17,
        "start_time": "2024-03-02T11:03:04.624Z"
      },
      {
        "duration": 34,
        "start_time": "2024-03-02T11:03:04.643Z"
      },
      {
        "duration": 14,
        "start_time": "2024-03-02T11:03:04.680Z"
      },
      {
        "duration": 35,
        "start_time": "2024-03-02T11:03:04.696Z"
      },
      {
        "duration": 45,
        "start_time": "2024-03-02T11:03:04.732Z"
      },
      {
        "duration": 41,
        "start_time": "2024-03-02T11:03:04.778Z"
      },
      {
        "duration": 16,
        "start_time": "2024-03-02T11:03:04.821Z"
      },
      {
        "duration": 515,
        "start_time": "2024-03-02T11:03:04.839Z"
      },
      {
        "duration": 17,
        "start_time": "2024-03-02T11:03:05.357Z"
      },
      {
        "duration": 5,
        "start_time": "2024-03-02T11:03:05.376Z"
      },
      {
        "duration": 43,
        "start_time": "2024-03-02T11:03:05.382Z"
      },
      {
        "duration": 899,
        "start_time": "2024-03-02T11:03:05.426Z"
      },
      {
        "duration": 43,
        "start_time": "2024-03-02T11:03:06.327Z"
      },
      {
        "duration": 23,
        "start_time": "2024-03-02T11:03:06.372Z"
      },
      {
        "duration": 14,
        "start_time": "2024-03-02T11:03:06.397Z"
      },
      {
        "duration": 62,
        "start_time": "2024-03-02T11:03:06.413Z"
      },
      {
        "duration": 15,
        "start_time": "2024-03-02T11:03:06.476Z"
      },
      {
        "duration": 102,
        "start_time": "2024-03-02T11:03:06.493Z"
      },
      {
        "duration": 1265,
        "start_time": "2024-03-02T11:03:06.597Z"
      },
      {
        "duration": 5,
        "start_time": "2024-03-02T11:03:07.863Z"
      },
      {
        "duration": 34,
        "start_time": "2024-03-02T11:03:07.870Z"
      },
      {
        "duration": 27,
        "start_time": "2024-03-02T11:03:07.905Z"
      },
      {
        "duration": 99,
        "start_time": "2024-03-02T11:03:07.934Z"
      },
      {
        "duration": 16,
        "start_time": "2024-03-02T11:03:08.035Z"
      },
      {
        "duration": 13,
        "start_time": "2024-03-02T11:03:08.052Z"
      },
      {
        "duration": 2000,
        "start_time": "2024-03-02T11:03:08.067Z"
      },
      {
        "duration": 45,
        "start_time": "2024-03-02T11:03:10.074Z"
      },
      {
        "duration": 12,
        "start_time": "2024-03-02T11:03:10.121Z"
      },
      {
        "duration": 7,
        "start_time": "2024-03-02T11:03:10.135Z"
      },
      {
        "duration": 5,
        "start_time": "2024-03-02T11:03:10.143Z"
      },
      {
        "duration": 37,
        "start_time": "2024-03-02T11:03:10.150Z"
      },
      {
        "duration": 95,
        "start_time": "2024-03-02T11:03:10.189Z"
      },
      {
        "duration": 369,
        "start_time": "2024-03-02T11:03:10.286Z"
      },
      {
        "duration": 7,
        "start_time": "2024-03-02T11:03:10.656Z"
      },
      {
        "duration": 1082,
        "start_time": "2024-03-02T11:03:10.664Z"
      },
      {
        "duration": 41,
        "start_time": "2024-03-02T11:03:11.747Z"
      },
      {
        "duration": 10,
        "start_time": "2024-03-02T11:03:11.790Z"
      },
      {
        "duration": 7,
        "start_time": "2024-03-02T11:03:11.802Z"
      },
      {
        "duration": 5,
        "start_time": "2024-03-02T11:03:11.811Z"
      },
      {
        "duration": 417,
        "start_time": "2024-03-02T11:03:11.817Z"
      },
      {
        "duration": 7,
        "start_time": "2024-03-02T11:03:12.236Z"
      },
      {
        "duration": 109,
        "start_time": "2024-03-02T11:03:12.244Z"
      },
      {
        "duration": 5,
        "start_time": "2024-03-02T11:03:12.355Z"
      },
      {
        "duration": 7,
        "start_time": "2024-03-02T11:03:12.373Z"
      },
      {
        "duration": 8,
        "start_time": "2024-03-02T11:03:12.382Z"
      },
      {
        "duration": 435,
        "start_time": "2024-03-02T11:03:12.392Z"
      },
      {
        "duration": 17,
        "start_time": "2024-03-02T11:03:12.828Z"
      },
      {
        "duration": 49,
        "start_time": "2024-03-02T11:03:12.847Z"
      },
      {
        "duration": 316,
        "start_time": "2024-03-02T11:03:12.898Z"
      },
      {
        "duration": 2821,
        "start_time": "2024-03-02T11:03:13.216Z"
      },
      {
        "duration": 4,
        "start_time": "2024-03-02T11:03:16.039Z"
      },
      {
        "duration": 1442,
        "start_time": "2024-03-02T11:06:01.856Z"
      },
      {
        "duration": 2,
        "start_time": "2024-03-02T11:07:32.781Z"
      },
      {
        "duration": 3005,
        "start_time": "2024-03-02T11:16:23.374Z"
      },
      {
        "duration": 177,
        "start_time": "2024-03-02T11:16:45.648Z"
      },
      {
        "duration": 76,
        "start_time": "2024-03-02T11:17:22.068Z"
      },
      {
        "duration": 68,
        "start_time": "2024-03-02T11:18:47.070Z"
      },
      {
        "duration": 20,
        "start_time": "2024-03-02T11:19:26.000Z"
      },
      {
        "duration": 2765,
        "start_time": "2024-03-02T11:20:12.429Z"
      },
      {
        "duration": 4173,
        "start_time": "2024-03-02T11:20:44.738Z"
      },
      {
        "duration": 20,
        "start_time": "2024-03-02T11:20:48.914Z"
      },
      {
        "duration": 37,
        "start_time": "2024-03-02T11:20:48.936Z"
      },
      {
        "duration": 15,
        "start_time": "2024-03-02T11:20:48.975Z"
      },
      {
        "duration": 5,
        "start_time": "2024-03-02T11:20:48.991Z"
      },
      {
        "duration": 32,
        "start_time": "2024-03-02T11:20:48.997Z"
      },
      {
        "duration": 68,
        "start_time": "2024-03-02T11:20:49.031Z"
      },
      {
        "duration": 17,
        "start_time": "2024-03-02T11:20:49.100Z"
      },
      {
        "duration": 500,
        "start_time": "2024-03-02T11:20:49.118Z"
      },
      {
        "duration": 8,
        "start_time": "2024-03-02T11:20:49.621Z"
      },
      {
        "duration": 4,
        "start_time": "2024-03-02T11:20:49.631Z"
      },
      {
        "duration": 18,
        "start_time": "2024-03-02T11:20:49.637Z"
      },
      {
        "duration": 897,
        "start_time": "2024-03-02T11:20:49.656Z"
      },
      {
        "duration": 44,
        "start_time": "2024-03-02T11:20:50.555Z"
      },
      {
        "duration": 20,
        "start_time": "2024-03-02T11:20:50.601Z"
      },
      {
        "duration": 19,
        "start_time": "2024-03-02T11:20:50.623Z"
      },
      {
        "duration": 50,
        "start_time": "2024-03-02T11:20:50.643Z"
      },
      {
        "duration": 14,
        "start_time": "2024-03-02T11:20:50.695Z"
      },
      {
        "duration": 105,
        "start_time": "2024-03-02T11:20:50.711Z"
      },
      {
        "duration": 1216,
        "start_time": "2024-03-02T11:20:50.818Z"
      },
      {
        "duration": 5,
        "start_time": "2024-03-02T11:20:52.035Z"
      },
      {
        "duration": 28,
        "start_time": "2024-03-02T11:20:52.041Z"
      },
      {
        "duration": 5,
        "start_time": "2024-03-02T11:20:52.070Z"
      },
      {
        "duration": 107,
        "start_time": "2024-03-02T11:20:52.077Z"
      },
      {
        "duration": 4,
        "start_time": "2024-03-02T11:20:52.185Z"
      },
      {
        "duration": 9,
        "start_time": "2024-03-02T11:20:52.191Z"
      },
      {
        "duration": 2032,
        "start_time": "2024-03-02T11:20:52.201Z"
      },
      {
        "duration": 38,
        "start_time": "2024-03-02T11:20:54.236Z"
      },
      {
        "duration": 11,
        "start_time": "2024-03-02T11:20:54.276Z"
      },
      {
        "duration": 20,
        "start_time": "2024-03-02T11:20:54.288Z"
      },
      {
        "duration": 15,
        "start_time": "2024-03-02T11:20:54.310Z"
      },
      {
        "duration": 24,
        "start_time": "2024-03-02T11:20:54.327Z"
      },
      {
        "duration": 61,
        "start_time": "2024-03-02T11:20:54.353Z"
      },
      {
        "duration": 367,
        "start_time": "2024-03-02T11:20:54.415Z"
      },
      {
        "duration": 7,
        "start_time": "2024-03-02T11:20:54.784Z"
      },
      {
        "duration": 1029,
        "start_time": "2024-03-02T11:20:54.793Z"
      },
      {
        "duration": 41,
        "start_time": "2024-03-02T11:20:55.824Z"
      },
      {
        "duration": 10,
        "start_time": "2024-03-02T11:20:55.867Z"
      },
      {
        "duration": 15,
        "start_time": "2024-03-02T11:20:55.878Z"
      },
      {
        "duration": 12,
        "start_time": "2024-03-02T11:20:55.895Z"
      },
      {
        "duration": 408,
        "start_time": "2024-03-02T11:20:55.908Z"
      },
      {
        "duration": 7,
        "start_time": "2024-03-02T11:20:56.318Z"
      },
      {
        "duration": 193,
        "start_time": "2024-03-02T11:20:56.327Z"
      },
      {
        "duration": 6,
        "start_time": "2024-03-02T11:20:56.521Z"
      },
      {
        "duration": 19,
        "start_time": "2024-03-02T11:20:56.528Z"
      },
      {
        "duration": 4,
        "start_time": "2024-03-02T11:20:56.549Z"
      },
      {
        "duration": 329,
        "start_time": "2024-03-02T11:20:56.555Z"
      },
      {
        "duration": 17,
        "start_time": "2024-03-02T11:20:56.886Z"
      },
      {
        "duration": 30,
        "start_time": "2024-03-02T11:20:56.905Z"
      },
      {
        "duration": 349,
        "start_time": "2024-03-02T11:20:56.936Z"
      },
      {
        "duration": 1288,
        "start_time": "2024-03-02T11:20:57.287Z"
      },
      {
        "duration": 2836,
        "start_time": "2024-03-02T11:20:58.577Z"
      },
      {
        "duration": 4,
        "start_time": "2024-03-02T11:21:01.415Z"
      },
      {
        "duration": 4104,
        "start_time": "2024-03-02T11:22:47.522Z"
      },
      {
        "duration": 17,
        "start_time": "2024-03-02T11:22:51.629Z"
      },
      {
        "duration": 34,
        "start_time": "2024-03-02T11:22:51.648Z"
      },
      {
        "duration": 15,
        "start_time": "2024-03-02T11:22:51.684Z"
      },
      {
        "duration": 4,
        "start_time": "2024-03-02T11:22:51.701Z"
      },
      {
        "duration": 28,
        "start_time": "2024-03-02T11:22:51.707Z"
      },
      {
        "duration": 68,
        "start_time": "2024-03-02T11:22:51.737Z"
      },
      {
        "duration": 16,
        "start_time": "2024-03-02T11:22:51.806Z"
      },
      {
        "duration": 501,
        "start_time": "2024-03-02T11:22:51.824Z"
      },
      {
        "duration": 9,
        "start_time": "2024-03-02T11:22:52.327Z"
      },
      {
        "duration": 6,
        "start_time": "2024-03-02T11:22:52.338Z"
      },
      {
        "duration": 29,
        "start_time": "2024-03-02T11:22:52.345Z"
      },
      {
        "duration": 886,
        "start_time": "2024-03-02T11:22:52.375Z"
      },
      {
        "duration": 44,
        "start_time": "2024-03-02T11:22:53.265Z"
      },
      {
        "duration": 26,
        "start_time": "2024-03-02T11:22:53.311Z"
      },
      {
        "duration": 40,
        "start_time": "2024-03-02T11:22:53.339Z"
      },
      {
        "duration": 47,
        "start_time": "2024-03-02T11:22:53.381Z"
      },
      {
        "duration": 15,
        "start_time": "2024-03-02T11:22:53.429Z"
      },
      {
        "duration": 107,
        "start_time": "2024-03-02T11:22:53.446Z"
      },
      {
        "duration": 1235,
        "start_time": "2024-03-02T11:22:53.554Z"
      },
      {
        "duration": 5,
        "start_time": "2024-03-02T11:22:54.791Z"
      },
      {
        "duration": 9,
        "start_time": "2024-03-02T11:22:54.797Z"
      },
      {
        "duration": 7,
        "start_time": "2024-03-02T11:22:54.807Z"
      },
      {
        "duration": 101,
        "start_time": "2024-03-02T11:22:54.815Z"
      },
      {
        "duration": 15,
        "start_time": "2024-03-02T11:22:54.917Z"
      },
      {
        "duration": 7,
        "start_time": "2024-03-02T11:22:54.933Z"
      },
      {
        "duration": 1992,
        "start_time": "2024-03-02T11:22:54.941Z"
      },
      {
        "duration": 41,
        "start_time": "2024-03-02T11:22:56.935Z"
      },
      {
        "duration": 13,
        "start_time": "2024-03-02T11:22:56.978Z"
      },
      {
        "duration": 19,
        "start_time": "2024-03-02T11:22:56.993Z"
      },
      {
        "duration": 8,
        "start_time": "2024-03-02T11:22:57.014Z"
      },
      {
        "duration": 53,
        "start_time": "2024-03-02T11:22:57.024Z"
      },
      {
        "duration": 45,
        "start_time": "2024-03-02T11:22:57.079Z"
      },
      {
        "duration": 350,
        "start_time": "2024-03-02T11:22:57.125Z"
      },
      {
        "duration": 6,
        "start_time": "2024-03-02T11:22:57.477Z"
      },
      {
        "duration": 1040,
        "start_time": "2024-03-02T11:22:57.485Z"
      },
      {
        "duration": 42,
        "start_time": "2024-03-02T11:22:58.526Z"
      },
      {
        "duration": 11,
        "start_time": "2024-03-02T11:22:58.569Z"
      },
      {
        "duration": 5,
        "start_time": "2024-03-02T11:22:58.581Z"
      },
      {
        "duration": 16,
        "start_time": "2024-03-02T11:22:58.587Z"
      },
      {
        "duration": 440,
        "start_time": "2024-03-02T11:22:58.606Z"
      },
      {
        "duration": 7,
        "start_time": "2024-03-02T11:22:59.047Z"
      },
      {
        "duration": 91,
        "start_time": "2024-03-02T11:22:59.056Z"
      },
      {
        "duration": 5,
        "start_time": "2024-03-02T11:22:59.148Z"
      },
      {
        "duration": 21,
        "start_time": "2024-03-02T11:22:59.155Z"
      },
      {
        "duration": 16,
        "start_time": "2024-03-02T11:22:59.177Z"
      },
      {
        "duration": 415,
        "start_time": "2024-03-02T11:22:59.194Z"
      },
      {
        "duration": 16,
        "start_time": "2024-03-02T11:22:59.611Z"
      },
      {
        "duration": 44,
        "start_time": "2024-03-02T11:22:59.629Z"
      },
      {
        "duration": 308,
        "start_time": "2024-03-02T11:22:59.675Z"
      },
      {
        "duration": 1341,
        "start_time": "2024-03-02T11:22:59.984Z"
      },
      {
        "duration": 2906,
        "start_time": "2024-03-02T11:23:01.327Z"
      },
      {
        "duration": 4,
        "start_time": "2024-03-02T11:23:04.234Z"
      },
      {
        "duration": 4173,
        "start_time": "2024-03-02T11:24:02.873Z"
      },
      {
        "duration": 18,
        "start_time": "2024-03-02T11:24:07.048Z"
      },
      {
        "duration": 59,
        "start_time": "2024-03-02T11:24:07.068Z"
      },
      {
        "duration": 16,
        "start_time": "2024-03-02T11:24:07.129Z"
      },
      {
        "duration": 10,
        "start_time": "2024-03-02T11:24:07.147Z"
      },
      {
        "duration": 27,
        "start_time": "2024-03-02T11:24:07.159Z"
      },
      {
        "duration": 38,
        "start_time": "2024-03-02T11:24:07.187Z"
      },
      {
        "duration": 18,
        "start_time": "2024-03-02T11:24:07.273Z"
      },
      {
        "duration": 489,
        "start_time": "2024-03-02T11:24:07.292Z"
      },
      {
        "duration": 8,
        "start_time": "2024-03-02T11:24:07.784Z"
      },
      {
        "duration": 4,
        "start_time": "2024-03-02T11:24:07.793Z"
      },
      {
        "duration": 10,
        "start_time": "2024-03-02T11:24:07.799Z"
      },
      {
        "duration": 871,
        "start_time": "2024-03-02T11:24:07.810Z"
      },
      {
        "duration": 43,
        "start_time": "2024-03-02T11:24:08.683Z"
      },
      {
        "duration": 46,
        "start_time": "2024-03-02T11:24:08.728Z"
      },
      {
        "duration": 12,
        "start_time": "2024-03-02T11:24:08.775Z"
      },
      {
        "duration": 41,
        "start_time": "2024-03-02T11:24:08.788Z"
      },
      {
        "duration": 15,
        "start_time": "2024-03-02T11:24:08.831Z"
      },
      {
        "duration": 118,
        "start_time": "2024-03-02T11:24:08.847Z"
      },
      {
        "duration": 1221,
        "start_time": "2024-03-02T11:24:08.967Z"
      },
      {
        "duration": 5,
        "start_time": "2024-03-02T11:24:10.190Z"
      },
      {
        "duration": 35,
        "start_time": "2024-03-02T11:24:10.197Z"
      },
      {
        "duration": 18,
        "start_time": "2024-03-02T11:24:10.233Z"
      },
      {
        "duration": 95,
        "start_time": "2024-03-02T11:24:10.253Z"
      },
      {
        "duration": 44,
        "start_time": "2024-03-02T11:24:10.350Z"
      },
      {
        "duration": 48,
        "start_time": "2024-03-02T11:24:10.395Z"
      },
      {
        "duration": 1985,
        "start_time": "2024-03-02T11:24:10.444Z"
      },
      {
        "duration": 39,
        "start_time": "2024-03-02T11:24:12.433Z"
      },
      {
        "duration": 11,
        "start_time": "2024-03-02T11:24:12.474Z"
      },
      {
        "duration": 16,
        "start_time": "2024-03-02T11:24:12.486Z"
      },
      {
        "duration": 18,
        "start_time": "2024-03-02T11:24:12.503Z"
      },
      {
        "duration": 29,
        "start_time": "2024-03-02T11:24:12.522Z"
      },
      {
        "duration": 65,
        "start_time": "2024-03-02T11:24:12.553Z"
      },
      {
        "duration": 357,
        "start_time": "2024-03-02T11:24:12.619Z"
      },
      {
        "duration": 7,
        "start_time": "2024-03-02T11:24:12.977Z"
      },
      {
        "duration": 1067,
        "start_time": "2024-03-02T11:24:12.985Z"
      },
      {
        "duration": 42,
        "start_time": "2024-03-02T11:24:14.054Z"
      },
      {
        "duration": 10,
        "start_time": "2024-03-02T11:24:14.098Z"
      },
      {
        "duration": 13,
        "start_time": "2024-03-02T11:24:14.109Z"
      },
      {
        "duration": 7,
        "start_time": "2024-03-02T11:24:14.123Z"
      },
      {
        "duration": 424,
        "start_time": "2024-03-02T11:24:14.131Z"
      },
      {
        "duration": 7,
        "start_time": "2024-03-02T11:24:14.556Z"
      },
      {
        "duration": 192,
        "start_time": "2024-03-02T11:24:14.573Z"
      },
      {
        "duration": 8,
        "start_time": "2024-03-02T11:24:14.767Z"
      },
      {
        "duration": 11,
        "start_time": "2024-03-02T11:24:14.776Z"
      },
      {
        "duration": 47,
        "start_time": "2024-03-02T11:24:14.789Z"
      },
      {
        "duration": 335,
        "start_time": "2024-03-02T11:24:14.838Z"
      },
      {
        "duration": 17,
        "start_time": "2024-03-02T11:24:15.174Z"
      },
      {
        "duration": 62,
        "start_time": "2024-03-02T11:24:15.192Z"
      },
      {
        "duration": 326,
        "start_time": "2024-03-02T11:24:15.255Z"
      },
      {
        "duration": 1304,
        "start_time": "2024-03-02T11:24:15.582Z"
      },
      {
        "duration": 2820,
        "start_time": "2024-03-02T11:24:16.888Z"
      },
      {
        "duration": 3,
        "start_time": "2024-03-02T11:24:19.710Z"
      },
      {
        "duration": 5468,
        "start_time": "2024-03-03T11:03:17.055Z"
      },
      {
        "duration": 18,
        "start_time": "2024-03-03T11:03:22.525Z"
      },
      {
        "duration": 120,
        "start_time": "2024-03-03T11:03:22.545Z"
      },
      {
        "duration": 15,
        "start_time": "2024-03-03T11:03:22.667Z"
      },
      {
        "duration": 4,
        "start_time": "2024-03-03T11:03:22.684Z"
      },
      {
        "duration": 30,
        "start_time": "2024-03-03T11:03:22.690Z"
      },
      {
        "duration": 33,
        "start_time": "2024-03-03T11:03:22.721Z"
      },
      {
        "duration": 60,
        "start_time": "2024-03-03T11:03:22.755Z"
      },
      {
        "duration": 417,
        "start_time": "2024-03-03T11:03:22.817Z"
      },
      {
        "duration": 8,
        "start_time": "2024-03-03T11:03:23.236Z"
      },
      {
        "duration": 5,
        "start_time": "2024-03-03T11:03:23.246Z"
      },
      {
        "duration": 10,
        "start_time": "2024-03-03T11:03:23.253Z"
      },
      {
        "duration": 941,
        "start_time": "2024-03-03T11:03:23.264Z"
      },
      {
        "duration": 117,
        "start_time": "2024-03-03T11:03:24.208Z"
      },
      {
        "duration": 22,
        "start_time": "2024-03-03T11:03:24.327Z"
      },
      {
        "duration": 13,
        "start_time": "2024-03-03T11:03:24.351Z"
      },
      {
        "duration": 66,
        "start_time": "2024-03-03T11:03:24.366Z"
      },
      {
        "duration": 17,
        "start_time": "2024-03-03T11:03:24.434Z"
      },
      {
        "duration": 108,
        "start_time": "2024-03-03T11:03:24.453Z"
      },
      {
        "duration": 1245,
        "start_time": "2024-03-03T11:03:24.562Z"
      },
      {
        "duration": 6,
        "start_time": "2024-03-03T11:03:25.810Z"
      },
      {
        "duration": 8,
        "start_time": "2024-03-03T11:03:25.818Z"
      },
      {
        "duration": 4,
        "start_time": "2024-03-03T11:03:25.828Z"
      },
      {
        "duration": 161,
        "start_time": "2024-03-03T11:03:25.833Z"
      },
      {
        "duration": 4,
        "start_time": "2024-03-03T11:03:25.995Z"
      },
      {
        "duration": 3,
        "start_time": "2024-03-03T11:03:26.015Z"
      },
      {
        "duration": 72,
        "start_time": "2024-03-03T11:03:26.020Z"
      },
      {
        "duration": 0,
        "start_time": "2024-03-03T11:03:26.094Z"
      },
      {
        "duration": 2065,
        "start_time": "2024-03-03T11:03:48.996Z"
      },
      {
        "duration": 118,
        "start_time": "2024-03-03T11:04:01.592Z"
      },
      {
        "duration": 2449,
        "start_time": "2024-03-03T11:05:04.595Z"
      },
      {
        "duration": 1901,
        "start_time": "2024-03-03T11:05:26.062Z"
      },
      {
        "duration": 30,
        "start_time": "2024-03-03T11:05:32.115Z"
      },
      {
        "duration": 24,
        "start_time": "2024-03-03T11:06:02.015Z"
      },
      {
        "duration": 23,
        "start_time": "2024-03-03T11:07:13.277Z"
      },
      {
        "duration": 22,
        "start_time": "2024-03-03T11:07:58.745Z"
      },
      {
        "duration": 65,
        "start_time": "2024-03-03T11:08:28.752Z"
      },
      {
        "duration": 24,
        "start_time": "2024-03-03T11:09:03.843Z"
      },
      {
        "duration": 13,
        "start_time": "2024-03-03T11:11:33.677Z"
      },
      {
        "duration": 80988,
        "start_time": "2024-03-03T11:11:52.836Z"
      },
      {
        "duration": 199,
        "start_time": "2024-03-03T12:14:19.512Z"
      },
      {
        "duration": 142737,
        "start_time": "2024-03-03T12:14:47.322Z"
      },
      {
        "duration": 485425,
        "start_time": "2024-03-03T12:18:38.035Z"
      },
      {
        "duration": 123905,
        "start_time": "2024-03-03T12:26:56.732Z"
      },
      {
        "duration": 80997,
        "start_time": "2024-03-03T12:36:40.907Z"
      },
      {
        "duration": 77524,
        "start_time": "2024-03-03T12:53:26.279Z"
      },
      {
        "duration": 183416,
        "start_time": "2024-03-03T12:55:56.055Z"
      },
      {
        "duration": 35318,
        "start_time": "2024-03-03T12:59:51.400Z"
      },
      {
        "duration": 52422,
        "start_time": "2024-03-03T13:01:01.655Z"
      },
      {
        "duration": 71,
        "start_time": "2024-03-03T13:12:20.366Z"
      },
      {
        "duration": 63,
        "start_time": "2024-03-03T13:20:22.117Z"
      },
      {
        "duration": 51,
        "start_time": "2024-03-03T13:21:07.706Z"
      },
      {
        "duration": 55,
        "start_time": "2024-03-03T13:21:38.816Z"
      },
      {
        "duration": 3816,
        "start_time": "2024-03-03T13:22:28.172Z"
      },
      {
        "duration": 18,
        "start_time": "2024-03-03T13:22:31.990Z"
      },
      {
        "duration": 33,
        "start_time": "2024-03-03T13:22:32.009Z"
      },
      {
        "duration": 14,
        "start_time": "2024-03-03T13:22:32.044Z"
      },
      {
        "duration": 4,
        "start_time": "2024-03-03T13:22:32.060Z"
      },
      {
        "duration": 51,
        "start_time": "2024-03-03T13:22:32.065Z"
      },
      {
        "duration": 33,
        "start_time": "2024-03-03T13:22:32.118Z"
      },
      {
        "duration": 15,
        "start_time": "2024-03-03T13:22:32.152Z"
      },
      {
        "duration": 480,
        "start_time": "2024-03-03T13:22:32.168Z"
      },
      {
        "duration": 7,
        "start_time": "2024-03-03T13:22:32.650Z"
      },
      {
        "duration": 9,
        "start_time": "2024-03-03T13:22:32.658Z"
      },
      {
        "duration": 7,
        "start_time": "2024-03-03T13:22:32.668Z"
      },
      {
        "duration": 847,
        "start_time": "2024-03-03T13:22:32.676Z"
      },
      {
        "duration": 43,
        "start_time": "2024-03-03T13:22:33.526Z"
      },
      {
        "duration": 21,
        "start_time": "2024-03-03T13:22:33.570Z"
      },
      {
        "duration": 28,
        "start_time": "2024-03-03T13:22:33.593Z"
      },
      {
        "duration": 37,
        "start_time": "2024-03-03T13:22:33.623Z"
      },
      {
        "duration": 13,
        "start_time": "2024-03-03T13:22:33.661Z"
      },
      {
        "duration": 90,
        "start_time": "2024-03-03T13:22:33.676Z"
      },
      {
        "duration": 1211,
        "start_time": "2024-03-03T13:22:33.768Z"
      },
      {
        "duration": 5,
        "start_time": "2024-03-03T13:22:34.980Z"
      },
      {
        "duration": 18,
        "start_time": "2024-03-03T13:22:34.987Z"
      },
      {
        "duration": 12,
        "start_time": "2024-03-03T13:22:35.007Z"
      },
      {
        "duration": 95,
        "start_time": "2024-03-03T13:22:35.020Z"
      },
      {
        "duration": 7,
        "start_time": "2024-03-03T13:22:35.116Z"
      },
      {
        "duration": 6,
        "start_time": "2024-03-03T13:22:35.124Z"
      },
      {
        "duration": 1926,
        "start_time": "2024-03-03T13:22:35.132Z"
      },
      {
        "duration": 49788,
        "start_time": "2024-03-03T13:22:37.059Z"
      },
      {
        "duration": 94,
        "start_time": "2024-03-03T13:23:26.849Z"
      },
      {
        "duration": 10,
        "start_time": "2024-03-03T13:23:26.945Z"
      },
      {
        "duration": 5,
        "start_time": "2024-03-03T13:23:26.956Z"
      },
      {
        "duration": 9,
        "start_time": "2024-03-03T13:23:26.963Z"
      },
      {
        "duration": 41,
        "start_time": "2024-03-03T13:23:26.973Z"
      },
      {
        "duration": 45,
        "start_time": "2024-03-03T13:23:27.016Z"
      },
      {
        "duration": 341,
        "start_time": "2024-03-03T13:23:27.063Z"
      },
      {
        "duration": 13,
        "start_time": "2024-03-03T13:23:27.406Z"
      },
      {
        "duration": 1065,
        "start_time": "2024-03-03T13:23:27.420Z"
      },
      {
        "duration": 75,
        "start_time": "2024-03-03T13:23:28.487Z"
      },
      {
        "duration": 10,
        "start_time": "2024-03-03T13:23:28.563Z"
      },
      {
        "duration": 5,
        "start_time": "2024-03-03T13:23:28.574Z"
      },
      {
        "duration": 4,
        "start_time": "2024-03-03T13:23:28.582Z"
      },
      {
        "duration": 397,
        "start_time": "2024-03-03T13:23:28.587Z"
      },
      {
        "duration": 7,
        "start_time": "2024-03-03T13:23:28.985Z"
      },
      {
        "duration": 85,
        "start_time": "2024-03-03T13:23:28.993Z"
      },
      {
        "duration": 4,
        "start_time": "2024-03-03T13:23:29.080Z"
      },
      {
        "duration": 8,
        "start_time": "2024-03-03T13:23:29.085Z"
      },
      {
        "duration": 4,
        "start_time": "2024-03-03T13:23:29.095Z"
      },
      {
        "duration": 306,
        "start_time": "2024-03-03T13:23:29.115Z"
      },
      {
        "duration": 17,
        "start_time": "2024-03-03T13:23:29.422Z"
      },
      {
        "duration": 52,
        "start_time": "2024-03-03T13:23:29.441Z"
      },
      {
        "duration": 304,
        "start_time": "2024-03-03T13:23:29.495Z"
      },
      {
        "duration": 1366,
        "start_time": "2024-03-03T13:23:29.801Z"
      },
      {
        "duration": 2758,
        "start_time": "2024-03-03T13:23:31.168Z"
      },
      {
        "duration": 169,
        "start_time": "2024-03-03T13:23:33.928Z"
      },
      {
        "duration": 0,
        "start_time": "2024-03-03T13:23:34.099Z"
      },
      {
        "duration": 54,
        "start_time": "2024-03-03T13:24:34.632Z"
      },
      {
        "duration": 53,
        "start_time": "2024-03-03T13:26:18.881Z"
      },
      {
        "duration": 8,
        "start_time": "2024-03-03T13:26:34.390Z"
      },
      {
        "duration": 6,
        "start_time": "2024-03-03T13:26:38.149Z"
      },
      {
        "duration": 143180,
        "start_time": "2024-03-03T13:27:01.886Z"
      },
      {
        "duration": 34653,
        "start_time": "2024-03-03T13:30:17.275Z"
      },
      {
        "duration": 3905,
        "start_time": "2024-03-03T13:32:05.395Z"
      },
      {
        "duration": 18,
        "start_time": "2024-03-03T13:32:09.302Z"
      },
      {
        "duration": 34,
        "start_time": "2024-03-03T13:32:09.321Z"
      },
      {
        "duration": 13,
        "start_time": "2024-03-03T13:32:09.357Z"
      },
      {
        "duration": 4,
        "start_time": "2024-03-03T13:32:09.372Z"
      },
      {
        "duration": 48,
        "start_time": "2024-03-03T13:32:09.378Z"
      },
      {
        "duration": 34,
        "start_time": "2024-03-03T13:32:09.427Z"
      },
      {
        "duration": 61,
        "start_time": "2024-03-03T13:32:09.463Z"
      },
      {
        "duration": 490,
        "start_time": "2024-03-03T13:32:09.525Z"
      },
      {
        "duration": 9,
        "start_time": "2024-03-03T13:32:10.018Z"
      },
      {
        "duration": 21,
        "start_time": "2024-03-03T13:32:10.028Z"
      },
      {
        "duration": 19,
        "start_time": "2024-03-03T13:32:10.051Z"
      },
      {
        "duration": 824,
        "start_time": "2024-03-03T13:32:10.072Z"
      },
      {
        "duration": 43,
        "start_time": "2024-03-03T13:32:10.897Z"
      },
      {
        "duration": 23,
        "start_time": "2024-03-03T13:32:10.942Z"
      },
      {
        "duration": 13,
        "start_time": "2024-03-03T13:32:10.966Z"
      },
      {
        "duration": 72,
        "start_time": "2024-03-03T13:32:10.980Z"
      },
      {
        "duration": 15,
        "start_time": "2024-03-03T13:32:11.053Z"
      },
      {
        "duration": 85,
        "start_time": "2024-03-03T13:32:11.069Z"
      },
      {
        "duration": 1223,
        "start_time": "2024-03-03T13:32:11.156Z"
      },
      {
        "duration": 5,
        "start_time": "2024-03-03T13:32:12.381Z"
      },
      {
        "duration": 8,
        "start_time": "2024-03-03T13:32:12.387Z"
      },
      {
        "duration": 5,
        "start_time": "2024-03-03T13:32:12.396Z"
      },
      {
        "duration": 94,
        "start_time": "2024-03-03T13:32:12.402Z"
      },
      {
        "duration": 5,
        "start_time": "2024-03-03T13:32:12.498Z"
      },
      {
        "duration": 7,
        "start_time": "2024-03-03T13:32:12.504Z"
      },
      {
        "duration": 1935,
        "start_time": "2024-03-03T13:32:12.515Z"
      },
      {
        "duration": 53344,
        "start_time": "2024-03-03T13:32:14.453Z"
      },
      {
        "duration": 52,
        "start_time": "2024-03-03T13:33:07.798Z"
      },
      {
        "duration": 17,
        "start_time": "2024-03-03T13:33:07.852Z"
      },
      {
        "duration": 8,
        "start_time": "2024-03-03T13:33:07.871Z"
      },
      {
        "duration": 5,
        "start_time": "2024-03-03T13:33:07.881Z"
      },
      {
        "duration": 52,
        "start_time": "2024-03-03T13:33:07.888Z"
      },
      {
        "duration": 113,
        "start_time": "2024-03-03T13:33:07.942Z"
      },
      {
        "duration": 382,
        "start_time": "2024-03-03T13:33:08.056Z"
      },
      {
        "duration": 7,
        "start_time": "2024-03-03T13:33:08.441Z"
      },
      {
        "duration": 1200,
        "start_time": "2024-03-03T13:33:08.450Z"
      },
      {
        "duration": 41,
        "start_time": "2024-03-03T13:33:09.653Z"
      },
      {
        "duration": 11,
        "start_time": "2024-03-03T13:33:09.696Z"
      },
      {
        "duration": 23,
        "start_time": "2024-03-03T13:33:09.708Z"
      },
      {
        "duration": 7,
        "start_time": "2024-03-03T13:33:09.732Z"
      },
      {
        "duration": 443,
        "start_time": "2024-03-03T13:33:09.740Z"
      },
      {
        "duration": 7,
        "start_time": "2024-03-03T13:33:10.185Z"
      },
      {
        "duration": 98,
        "start_time": "2024-03-03T13:33:10.194Z"
      },
      {
        "duration": 5,
        "start_time": "2024-03-03T13:33:10.294Z"
      },
      {
        "duration": 28,
        "start_time": "2024-03-03T13:33:10.300Z"
      },
      {
        "duration": 10,
        "start_time": "2024-03-03T13:33:10.331Z"
      },
      {
        "duration": 404,
        "start_time": "2024-03-03T13:33:10.343Z"
      },
      {
        "duration": 17,
        "start_time": "2024-03-03T13:33:10.748Z"
      },
      {
        "duration": 39,
        "start_time": "2024-03-03T13:33:10.766Z"
      },
      {
        "duration": 362,
        "start_time": "2024-03-03T13:33:10.807Z"
      },
      {
        "duration": 1551,
        "start_time": "2024-03-03T13:33:11.171Z"
      },
      {
        "duration": 2952,
        "start_time": "2024-03-03T13:33:12.728Z"
      },
      {
        "duration": 39286,
        "start_time": "2024-03-03T13:33:15.682Z"
      },
      {
        "duration": 6,
        "start_time": "2024-03-03T13:33:54.970Z"
      },
      {
        "duration": 5403,
        "start_time": "2024-03-04T11:11:16.357Z"
      },
      {
        "duration": 17,
        "start_time": "2024-03-04T11:11:21.763Z"
      },
      {
        "duration": 74,
        "start_time": "2024-03-04T11:11:21.781Z"
      },
      {
        "duration": 15,
        "start_time": "2024-03-04T11:11:21.858Z"
      },
      {
        "duration": 8,
        "start_time": "2024-03-04T11:11:21.875Z"
      },
      {
        "duration": 27,
        "start_time": "2024-03-04T11:11:21.884Z"
      },
      {
        "duration": 80,
        "start_time": "2024-03-04T11:11:21.913Z"
      },
      {
        "duration": 17,
        "start_time": "2024-03-04T11:11:21.995Z"
      },
      {
        "duration": 496,
        "start_time": "2024-03-04T11:11:22.014Z"
      },
      {
        "duration": 8,
        "start_time": "2024-03-04T11:11:22.513Z"
      },
      {
        "duration": 4,
        "start_time": "2024-03-04T11:11:22.523Z"
      },
      {
        "duration": 22,
        "start_time": "2024-03-04T11:11:22.529Z"
      },
      {
        "duration": 859,
        "start_time": "2024-03-04T11:11:22.553Z"
      },
      {
        "duration": 78,
        "start_time": "2024-03-04T11:11:23.414Z"
      },
      {
        "duration": 22,
        "start_time": "2024-03-04T11:11:23.494Z"
      },
      {
        "duration": 34,
        "start_time": "2024-03-04T11:11:23.517Z"
      },
      {
        "duration": 81,
        "start_time": "2024-03-04T11:11:23.552Z"
      },
      {
        "duration": 15,
        "start_time": "2024-03-04T11:11:23.635Z"
      },
      {
        "duration": 86,
        "start_time": "2024-03-04T11:11:23.652Z"
      },
      {
        "duration": 1205,
        "start_time": "2024-03-04T11:11:23.740Z"
      },
      {
        "duration": 5,
        "start_time": "2024-03-04T11:11:24.947Z"
      },
      {
        "duration": 13,
        "start_time": "2024-03-04T11:11:24.953Z"
      },
      {
        "duration": 9,
        "start_time": "2024-03-04T11:11:24.968Z"
      },
      {
        "duration": 97,
        "start_time": "2024-03-04T11:11:24.978Z"
      },
      {
        "duration": 43,
        "start_time": "2024-03-04T11:11:25.076Z"
      },
      {
        "duration": 19,
        "start_time": "2024-03-04T11:11:25.120Z"
      },
      {
        "duration": 1984,
        "start_time": "2024-03-04T11:11:25.141Z"
      },
      {
        "duration": 52867,
        "start_time": "2024-03-04T11:11:27.128Z"
      },
      {
        "duration": 99,
        "start_time": "2024-03-04T11:13:09.469Z"
      },
      {
        "duration": 120,
        "start_time": "2024-03-04T11:13:25.576Z"
      },
      {
        "duration": 2477,
        "start_time": "2024-03-04T11:15:00.908Z"
      },
      {
        "duration": 15,
        "start_time": "2024-03-04T11:15:43.949Z"
      },
      {
        "duration": 13,
        "start_time": "2024-03-04T11:16:49.313Z"
      },
      {
        "duration": 12,
        "start_time": "2024-03-04T11:17:46.445Z"
      },
      {
        "duration": 3,
        "start_time": "2024-03-04T11:18:24.294Z"
      },
      {
        "duration": 171,
        "start_time": "2024-03-04T11:22:05.321Z"
      },
      {
        "duration": 169,
        "start_time": "2024-03-04T11:22:29.967Z"
      },
      {
        "duration": 312,
        "start_time": "2024-03-04T11:22:56.499Z"
      },
      {
        "duration": 312,
        "start_time": "2024-03-04T11:23:28.689Z"
      },
      {
        "duration": 115,
        "start_time": "2024-03-04T11:24:29.076Z"
      },
      {
        "duration": 103,
        "start_time": "2024-03-04T11:25:00.100Z"
      },
      {
        "duration": 102,
        "start_time": "2024-03-04T11:25:21.809Z"
      },
      {
        "duration": 116,
        "start_time": "2024-03-04T11:25:43.482Z"
      },
      {
        "duration": 102,
        "start_time": "2024-03-04T11:25:54.886Z"
      },
      {
        "duration": 99,
        "start_time": "2024-03-04T11:26:19.891Z"
      },
      {
        "duration": 3,
        "start_time": "2024-03-04T11:26:29.043Z"
      },
      {
        "duration": 4,
        "start_time": "2024-03-04T11:26:51.045Z"
      },
      {
        "duration": 5,
        "start_time": "2024-03-04T11:27:34.307Z"
      },
      {
        "duration": 315,
        "start_time": "2024-03-04T11:27:56.510Z"
      },
      {
        "duration": 309,
        "start_time": "2024-03-04T11:28:00.632Z"
      },
      {
        "duration": 2630,
        "start_time": "2024-03-04T11:28:07.241Z"
      },
      {
        "duration": 16,
        "start_time": "2024-03-04T11:28:09.874Z"
      },
      {
        "duration": 40,
        "start_time": "2024-03-04T11:28:09.892Z"
      },
      {
        "duration": 14,
        "start_time": "2024-03-04T11:28:09.934Z"
      },
      {
        "duration": 7,
        "start_time": "2024-03-04T11:28:09.950Z"
      },
      {
        "duration": 35,
        "start_time": "2024-03-04T11:28:09.959Z"
      },
      {
        "duration": 94,
        "start_time": "2024-03-04T11:28:09.996Z"
      },
      {
        "duration": 16,
        "start_time": "2024-03-04T11:28:10.091Z"
      },
      {
        "duration": 430,
        "start_time": "2024-03-04T11:28:10.109Z"
      },
      {
        "duration": 7,
        "start_time": "2024-03-04T11:28:10.542Z"
      },
      {
        "duration": 10,
        "start_time": "2024-03-04T11:28:10.551Z"
      },
      {
        "duration": 6,
        "start_time": "2024-03-04T11:28:10.570Z"
      },
      {
        "duration": 864,
        "start_time": "2024-03-04T11:28:10.578Z"
      },
      {
        "duration": 44,
        "start_time": "2024-03-04T11:28:11.443Z"
      },
      {
        "duration": 19,
        "start_time": "2024-03-04T11:28:11.489Z"
      },
      {
        "duration": 12,
        "start_time": "2024-03-04T11:28:11.509Z"
      },
      {
        "duration": 63,
        "start_time": "2024-03-04T11:28:11.522Z"
      },
      {
        "duration": 20,
        "start_time": "2024-03-04T11:28:11.587Z"
      },
      {
        "duration": 103,
        "start_time": "2024-03-04T11:28:11.609Z"
      },
      {
        "duration": 1195,
        "start_time": "2024-03-04T11:28:11.714Z"
      },
      {
        "duration": 4,
        "start_time": "2024-03-04T11:28:12.911Z"
      },
      {
        "duration": 14,
        "start_time": "2024-03-04T11:28:12.916Z"
      },
      {
        "duration": 4,
        "start_time": "2024-03-04T11:28:12.931Z"
      },
      {
        "duration": 16,
        "start_time": "2024-03-04T11:28:12.937Z"
      },
      {
        "duration": 17,
        "start_time": "2024-03-04T11:28:12.954Z"
      },
      {
        "duration": 11,
        "start_time": "2024-03-04T11:28:12.973Z"
      },
      {
        "duration": 1917,
        "start_time": "2024-03-04T11:28:12.986Z"
      },
      {
        "duration": 50710,
        "start_time": "2024-03-04T11:28:14.906Z"
      },
      {
        "duration": 3,
        "start_time": "2024-03-04T11:29:05.618Z"
      },
      {
        "duration": 323,
        "start_time": "2024-03-04T11:29:05.623Z"
      },
      {
        "duration": 1509,
        "start_time": "2024-03-04T11:31:42.077Z"
      },
      {
        "duration": 4,
        "start_time": "2024-03-04T11:31:50.441Z"
      },
      {
        "duration": 313,
        "start_time": "2024-03-04T11:31:54.304Z"
      },
      {
        "duration": 957,
        "start_time": "2024-03-04T11:32:02.614Z"
      },
      {
        "duration": 9,
        "start_time": "2024-03-04T11:33:13.565Z"
      },
      {
        "duration": 3,
        "start_time": "2024-03-04T11:33:17.944Z"
      },
      {
        "duration": 13,
        "start_time": "2024-03-04T11:33:59.306Z"
      },
      {
        "duration": 3,
        "start_time": "2024-03-04T11:34:08.808Z"
      },
      {
        "duration": 4,
        "start_time": "2024-03-04T11:34:29.343Z"
      },
      {
        "duration": 1819,
        "start_time": "2024-03-04T11:34:39.116Z"
      },
      {
        "duration": 1380,
        "start_time": "2024-03-04T11:34:54.628Z"
      },
      {
        "duration": 4,
        "start_time": "2024-03-04T11:34:59.721Z"
      },
      {
        "duration": 800,
        "start_time": "2024-03-04T11:35:02.298Z"
      },
      {
        "duration": 4,
        "start_time": "2024-03-04T11:35:38.366Z"
      },
      {
        "duration": 4,
        "start_time": "2024-03-04T11:35:43.859Z"
      },
      {
        "duration": 133,
        "start_time": "2024-03-04T11:36:19.418Z"
      },
      {
        "duration": 4,
        "start_time": "2024-03-04T11:36:24.397Z"
      },
      {
        "duration": 1391,
        "start_time": "2024-03-04T11:36:26.645Z"
      },
      {
        "duration": 4,
        "start_time": "2024-03-04T11:36:33.710Z"
      },
      {
        "duration": 150,
        "start_time": "2024-03-04T11:36:35.295Z"
      },
      {
        "duration": 2536,
        "start_time": "2024-03-04T18:34:31.158Z"
      },
      {
        "duration": 16,
        "start_time": "2024-03-04T18:34:33.697Z"
      },
      {
        "duration": 34,
        "start_time": "2024-03-04T18:34:33.714Z"
      },
      {
        "duration": 13,
        "start_time": "2024-03-04T18:34:33.750Z"
      },
      {
        "duration": 7,
        "start_time": "2024-03-04T18:34:33.764Z"
      },
      {
        "duration": 30,
        "start_time": "2024-03-04T18:34:33.773Z"
      },
      {
        "duration": 97,
        "start_time": "2024-03-04T18:34:33.805Z"
      },
      {
        "duration": 66,
        "start_time": "2024-03-04T18:34:33.904Z"
      },
      {
        "duration": 387,
        "start_time": "2024-03-04T18:34:33.972Z"
      },
      {
        "duration": 13,
        "start_time": "2024-03-04T18:34:34.361Z"
      },
      {
        "duration": 7,
        "start_time": "2024-03-04T18:34:34.376Z"
      },
      {
        "duration": 19,
        "start_time": "2024-03-04T18:34:34.384Z"
      },
      {
        "duration": 836,
        "start_time": "2024-03-04T18:34:34.404Z"
      },
      {
        "duration": 43,
        "start_time": "2024-03-04T18:34:35.241Z"
      },
      {
        "duration": 22,
        "start_time": "2024-03-04T18:34:35.285Z"
      },
      {
        "duration": 11,
        "start_time": "2024-03-04T18:34:35.309Z"
      },
      {
        "duration": 60,
        "start_time": "2024-03-04T18:34:35.321Z"
      },
      {
        "duration": 14,
        "start_time": "2024-03-04T18:34:35.383Z"
      },
      {
        "duration": 118,
        "start_time": "2024-03-04T18:34:35.399Z"
      },
      {
        "duration": 1184,
        "start_time": "2024-03-04T18:34:35.519Z"
      },
      {
        "duration": 5,
        "start_time": "2024-03-04T18:34:36.705Z"
      },
      {
        "duration": 7,
        "start_time": "2024-03-04T18:34:36.711Z"
      },
      {
        "duration": 5,
        "start_time": "2024-03-04T18:34:36.720Z"
      },
      {
        "duration": 30,
        "start_time": "2024-03-04T18:34:36.727Z"
      },
      {
        "duration": 5,
        "start_time": "2024-03-04T18:34:36.770Z"
      },
      {
        "duration": 12,
        "start_time": "2024-03-04T18:34:36.777Z"
      },
      {
        "duration": 1756,
        "start_time": "2024-03-04T18:34:36.791Z"
      },
      {
        "duration": 4038,
        "start_time": "2024-03-04T18:35:29.157Z"
      },
      {
        "duration": 1852,
        "start_time": "2024-03-04T18:36:09.244Z"
      },
      {
        "duration": 3985,
        "start_time": "2024-03-04T18:36:41.716Z"
      },
      {
        "duration": 719,
        "start_time": "2024-03-04T18:36:57.896Z"
      },
      {
        "duration": 711,
        "start_time": "2024-03-04T18:37:06.404Z"
      },
      {
        "duration": 9,
        "start_time": "2024-03-04T18:38:33.709Z"
      },
      {
        "duration": 10,
        "start_time": "2024-03-04T18:38:36.077Z"
      },
      {
        "duration": 4,
        "start_time": "2024-03-04T18:38:46.028Z"
      },
      {
        "duration": 1927,
        "start_time": "2024-03-04T18:39:01.446Z"
      },
      {
        "duration": 797,
        "start_time": "2024-03-04T18:39:21.739Z"
      },
      {
        "duration": 2517,
        "start_time": "2024-03-04T18:40:41.163Z"
      },
      {
        "duration": 772,
        "start_time": "2024-03-04T18:41:11.022Z"
      },
      {
        "duration": 11,
        "start_time": "2024-03-04T18:42:41.189Z"
      },
      {
        "duration": 3,
        "start_time": "2024-03-04T18:42:44.802Z"
      },
      {
        "duration": 1905,
        "start_time": "2024-03-04T18:42:50.153Z"
      },
      {
        "duration": 790,
        "start_time": "2024-03-04T18:42:56.976Z"
      },
      {
        "duration": 4255,
        "start_time": "2024-03-04T18:45:35.682Z"
      },
      {
        "duration": 5375,
        "start_time": "2024-03-04T18:47:58.924Z"
      },
      {
        "duration": 10,
        "start_time": "2024-03-04T18:48:24.407Z"
      },
      {
        "duration": 4187,
        "start_time": "2024-03-04T18:50:20.787Z"
      },
      {
        "duration": 811,
        "start_time": "2024-03-04T18:51:32.852Z"
      },
      {
        "duration": 3569,
        "start_time": "2024-03-04T18:52:02.556Z"
      },
      {
        "duration": 4,
        "start_time": "2024-03-04T18:52:47.319Z"
      },
      {
        "duration": 2779,
        "start_time": "2024-03-04T18:53:03.460Z"
      },
      {
        "duration": 15160,
        "start_time": "2024-03-04T18:53:23.935Z"
      },
      {
        "duration": 4458,
        "start_time": "2024-03-04T18:54:32.984Z"
      },
      {
        "duration": 55620,
        "start_time": "2024-03-04T18:54:54.398Z"
      },
      {
        "duration": 82959,
        "start_time": "2024-03-04T18:56:20.235Z"
      },
      {
        "duration": 40915,
        "start_time": "2024-03-04T18:58:26.333Z"
      },
      {
        "duration": 50,
        "start_time": "2024-03-04T19:00:03.753Z"
      },
      {
        "duration": 14,
        "start_time": "2024-03-04T19:03:45.886Z"
      },
      {
        "duration": 13,
        "start_time": "2024-03-04T19:04:06.374Z"
      },
      {
        "duration": 14,
        "start_time": "2024-03-04T19:05:41.856Z"
      },
      {
        "duration": 13,
        "start_time": "2024-03-04T19:06:08.401Z"
      },
      {
        "duration": 12885,
        "start_time": "2024-03-04T19:06:25.389Z"
      },
      {
        "duration": 115,
        "start_time": "2024-03-04T19:06:52.166Z"
      },
      {
        "duration": 12406,
        "start_time": "2024-03-04T19:07:16.304Z"
      },
      {
        "duration": 51,
        "start_time": "2024-03-04T19:08:50.090Z"
      },
      {
        "duration": 48,
        "start_time": "2024-03-04T19:09:26.165Z"
      },
      {
        "duration": 45,
        "start_time": "2024-03-04T19:09:43.726Z"
      },
      {
        "duration": 103,
        "start_time": "2024-03-04T19:17:31.195Z"
      },
      {
        "duration": 1866,
        "start_time": "2024-03-04T19:20:21.765Z"
      },
      {
        "duration": 12417,
        "start_time": "2024-03-04T19:20:24.334Z"
      },
      {
        "duration": 60,
        "start_time": "2024-03-04T19:20:36.753Z"
      },
      {
        "duration": 2551,
        "start_time": "2024-03-04T19:24:03.294Z"
      },
      {
        "duration": 16,
        "start_time": "2024-03-04T19:24:05.848Z"
      },
      {
        "duration": 30,
        "start_time": "2024-03-04T19:24:05.865Z"
      },
      {
        "duration": 12,
        "start_time": "2024-03-04T19:24:05.897Z"
      },
      {
        "duration": 7,
        "start_time": "2024-03-04T19:24:05.912Z"
      },
      {
        "duration": 57,
        "start_time": "2024-03-04T19:24:05.921Z"
      },
      {
        "duration": 97,
        "start_time": "2024-03-04T19:24:05.980Z"
      },
      {
        "duration": 15,
        "start_time": "2024-03-04T19:24:06.080Z"
      },
      {
        "duration": 380,
        "start_time": "2024-03-04T19:24:06.096Z"
      },
      {
        "duration": 6,
        "start_time": "2024-03-04T19:24:06.478Z"
      },
      {
        "duration": 27,
        "start_time": "2024-03-04T19:24:06.486Z"
      },
      {
        "duration": 10,
        "start_time": "2024-03-04T19:24:06.515Z"
      },
      {
        "duration": 840,
        "start_time": "2024-03-04T19:24:06.526Z"
      },
      {
        "duration": 43,
        "start_time": "2024-03-04T19:24:07.372Z"
      },
      {
        "duration": 21,
        "start_time": "2024-03-04T19:24:07.417Z"
      },
      {
        "duration": 36,
        "start_time": "2024-03-04T19:24:07.440Z"
      },
      {
        "duration": 43,
        "start_time": "2024-03-04T19:24:07.478Z"
      },
      {
        "duration": 13,
        "start_time": "2024-03-04T19:24:07.522Z"
      },
      {
        "duration": 96,
        "start_time": "2024-03-04T19:24:07.536Z"
      },
      {
        "duration": 1158,
        "start_time": "2024-03-04T19:24:07.633Z"
      },
      {
        "duration": 5,
        "start_time": "2024-03-04T19:24:08.792Z"
      },
      {
        "duration": 9,
        "start_time": "2024-03-04T19:24:08.799Z"
      },
      {
        "duration": 4,
        "start_time": "2024-03-04T19:24:08.810Z"
      },
      {
        "duration": 9,
        "start_time": "2024-03-04T19:24:08.815Z"
      },
      {
        "duration": 4,
        "start_time": "2024-03-04T19:24:08.826Z"
      },
      {
        "duration": 7,
        "start_time": "2024-03-04T19:24:08.831Z"
      },
      {
        "duration": 1870,
        "start_time": "2024-03-04T19:24:08.869Z"
      },
      {
        "duration": 12390,
        "start_time": "2024-03-04T19:24:10.740Z"
      },
      {
        "duration": 62,
        "start_time": "2024-03-04T19:24:23.132Z"
      },
      {
        "duration": 115,
        "start_time": "2024-03-04T19:24:23.196Z"
      },
      {
        "duration": 12,
        "start_time": "2024-03-04T19:24:23.312Z"
      },
      {
        "duration": 9,
        "start_time": "2024-03-04T19:24:23.326Z"
      },
      {
        "duration": 7,
        "start_time": "2024-03-04T19:24:23.336Z"
      },
      {
        "duration": 30,
        "start_time": "2024-03-04T19:24:23.345Z"
      },
      {
        "duration": 99,
        "start_time": "2024-03-04T19:24:23.376Z"
      },
      {
        "duration": 326,
        "start_time": "2024-03-04T19:24:23.477Z"
      },
      {
        "duration": 7,
        "start_time": "2024-03-04T19:24:23.805Z"
      },
      {
        "duration": 1013,
        "start_time": "2024-03-04T19:24:23.814Z"
      },
      {
        "duration": 87,
        "start_time": "2024-03-04T19:24:24.828Z"
      },
      {
        "duration": 10,
        "start_time": "2024-03-04T19:24:24.916Z"
      },
      {
        "duration": 4,
        "start_time": "2024-03-04T19:24:24.930Z"
      },
      {
        "duration": 10,
        "start_time": "2024-03-04T19:24:24.935Z"
      },
      {
        "duration": 447,
        "start_time": "2024-03-04T19:24:24.947Z"
      },
      {
        "duration": 7,
        "start_time": "2024-03-04T19:24:25.396Z"
      },
      {
        "duration": 100,
        "start_time": "2024-03-04T19:24:25.404Z"
      },
      {
        "duration": 5,
        "start_time": "2024-03-04T19:24:25.506Z"
      },
      {
        "duration": 13,
        "start_time": "2024-03-04T19:24:25.513Z"
      },
      {
        "duration": 5,
        "start_time": "2024-03-04T19:24:25.527Z"
      },
      {
        "duration": 340,
        "start_time": "2024-03-04T19:24:25.533Z"
      },
      {
        "duration": 15,
        "start_time": "2024-03-04T19:24:25.875Z"
      },
      {
        "duration": 27,
        "start_time": "2024-03-04T19:24:25.892Z"
      },
      {
        "duration": 337,
        "start_time": "2024-03-04T19:24:25.921Z"
      },
      {
        "duration": 1241,
        "start_time": "2024-03-04T19:24:26.259Z"
      },
      {
        "duration": 2819,
        "start_time": "2024-03-04T19:24:27.502Z"
      },
      {
        "duration": 34195,
        "start_time": "2024-03-04T19:24:30.322Z"
      },
      {
        "duration": 106,
        "start_time": "2024-03-04T19:25:56.275Z"
      },
      {
        "duration": 141,
        "start_time": "2024-03-04T19:26:20.885Z"
      },
      {
        "duration": 103,
        "start_time": "2024-03-04T19:26:47.843Z"
      },
      {
        "duration": 107,
        "start_time": "2024-03-04T19:27:19.928Z"
      },
      {
        "duration": 34406,
        "start_time": "2024-03-04T19:28:03.326Z"
      },
      {
        "duration": 190241,
        "start_time": "2024-03-04T19:28:55.731Z"
      },
      {
        "duration": 8313,
        "start_time": "2024-03-04T19:32:55.177Z"
      },
      {
        "duration": 58,
        "start_time": "2024-03-04T19:33:22.847Z"
      },
      {
        "duration": 49,
        "start_time": "2024-03-04T19:34:12.217Z"
      },
      {
        "duration": 46,
        "start_time": "2024-03-04T19:34:54.424Z"
      },
      {
        "duration": 48,
        "start_time": "2024-03-04T19:35:23.926Z"
      },
      {
        "duration": 37,
        "start_time": "2024-03-04T19:35:40.347Z"
      },
      {
        "duration": 48,
        "start_time": "2024-03-04T19:36:08.125Z"
      },
      {
        "duration": 3953,
        "start_time": "2024-03-04T19:40:33.323Z"
      },
      {
        "duration": 17,
        "start_time": "2024-03-04T19:40:37.278Z"
      },
      {
        "duration": 34,
        "start_time": "2024-03-04T19:40:37.297Z"
      },
      {
        "duration": 14,
        "start_time": "2024-03-04T19:40:37.333Z"
      },
      {
        "duration": 4,
        "start_time": "2024-03-04T19:40:37.349Z"
      },
      {
        "duration": 36,
        "start_time": "2024-03-04T19:40:37.354Z"
      },
      {
        "duration": 97,
        "start_time": "2024-03-04T19:40:37.392Z"
      },
      {
        "duration": 17,
        "start_time": "2024-03-04T19:40:37.491Z"
      },
      {
        "duration": 504,
        "start_time": "2024-03-04T19:40:37.510Z"
      },
      {
        "duration": 10,
        "start_time": "2024-03-04T19:40:38.018Z"
      },
      {
        "duration": 8,
        "start_time": "2024-03-04T19:40:38.029Z"
      },
      {
        "duration": 33,
        "start_time": "2024-03-04T19:40:38.038Z"
      },
      {
        "duration": 853,
        "start_time": "2024-03-04T19:40:38.073Z"
      },
      {
        "duration": 45,
        "start_time": "2024-03-04T19:40:38.928Z"
      },
      {
        "duration": 26,
        "start_time": "2024-03-04T19:40:38.975Z"
      },
      {
        "duration": 16,
        "start_time": "2024-03-04T19:40:39.003Z"
      },
      {
        "duration": 85,
        "start_time": "2024-03-04T19:40:39.020Z"
      },
      {
        "duration": 14,
        "start_time": "2024-03-04T19:40:39.106Z"
      },
      {
        "duration": 93,
        "start_time": "2024-03-04T19:40:39.121Z"
      },
      {
        "duration": 1217,
        "start_time": "2024-03-04T19:40:39.216Z"
      },
      {
        "duration": 5,
        "start_time": "2024-03-04T19:40:40.435Z"
      },
      {
        "duration": 22,
        "start_time": "2024-03-04T19:40:40.442Z"
      },
      {
        "duration": 20,
        "start_time": "2024-03-04T19:40:40.465Z"
      },
      {
        "duration": 96,
        "start_time": "2024-03-04T19:40:40.486Z"
      },
      {
        "duration": 15,
        "start_time": "2024-03-04T19:40:40.583Z"
      },
      {
        "duration": 39,
        "start_time": "2024-03-04T19:40:40.600Z"
      },
      {
        "duration": 1920,
        "start_time": "2024-03-04T19:40:40.640Z"
      },
      {
        "duration": 12264,
        "start_time": "2024-03-04T19:40:42.569Z"
      },
      {
        "duration": 57,
        "start_time": "2024-03-04T19:40:54.834Z"
      },
      {
        "duration": 38,
        "start_time": "2024-03-04T19:40:54.893Z"
      },
      {
        "duration": 12,
        "start_time": "2024-03-04T19:40:54.932Z"
      },
      {
        "duration": 10,
        "start_time": "2024-03-04T19:40:54.946Z"
      },
      {
        "duration": 5,
        "start_time": "2024-03-04T19:40:54.957Z"
      },
      {
        "duration": 37,
        "start_time": "2024-03-04T19:40:54.963Z"
      },
      {
        "duration": 84,
        "start_time": "2024-03-04T19:40:55.002Z"
      },
      {
        "duration": 366,
        "start_time": "2024-03-04T19:40:55.088Z"
      },
      {
        "duration": 15,
        "start_time": "2024-03-04T19:40:55.456Z"
      },
      {
        "duration": 1048,
        "start_time": "2024-03-04T19:40:55.472Z"
      },
      {
        "duration": 41,
        "start_time": "2024-03-04T19:40:56.521Z"
      },
      {
        "duration": 10,
        "start_time": "2024-03-04T19:40:56.564Z"
      },
      {
        "duration": 6,
        "start_time": "2024-03-04T19:40:56.575Z"
      },
      {
        "duration": 8,
        "start_time": "2024-03-04T19:40:56.582Z"
      },
      {
        "duration": 408,
        "start_time": "2024-03-04T19:40:56.591Z"
      },
      {
        "duration": 6,
        "start_time": "2024-03-04T19:40:57.001Z"
      },
      {
        "duration": 89,
        "start_time": "2024-03-04T19:40:57.008Z"
      },
      {
        "duration": 5,
        "start_time": "2024-03-04T19:40:57.099Z"
      },
      {
        "duration": 9,
        "start_time": "2024-03-04T19:40:57.105Z"
      },
      {
        "duration": 9,
        "start_time": "2024-03-04T19:40:57.116Z"
      },
      {
        "duration": 314,
        "start_time": "2024-03-04T19:40:57.127Z"
      },
      {
        "duration": 15,
        "start_time": "2024-03-04T19:40:57.443Z"
      },
      {
        "duration": 25,
        "start_time": "2024-03-04T19:40:57.469Z"
      },
      {
        "duration": 303,
        "start_time": "2024-03-04T19:40:57.496Z"
      },
      {
        "duration": 1334,
        "start_time": "2024-03-04T19:40:57.800Z"
      },
      {
        "duration": 2758,
        "start_time": "2024-03-04T19:40:59.136Z"
      },
      {
        "duration": 7938,
        "start_time": "2024-03-04T19:41:01.895Z"
      },
      {
        "duration": 58,
        "start_time": "2024-03-04T19:41:09.835Z"
      },
      {
        "duration": 4,
        "start_time": "2024-03-04T19:41:09.894Z"
      },
      {
        "duration": 103,
        "start_time": "2024-03-04T19:47:11.604Z"
      },
      {
        "duration": 114,
        "start_time": "2024-03-04T19:47:25.762Z"
      },
      {
        "duration": 9430,
        "start_time": "2024-03-04T19:47:42.461Z"
      },
      {
        "duration": 16820,
        "start_time": "2024-03-04T19:48:29.242Z"
      },
      {
        "duration": 17369,
        "start_time": "2024-03-04T19:48:55.828Z"
      },
      {
        "duration": 18265,
        "start_time": "2024-03-04T19:49:23.088Z"
      },
      {
        "duration": 18711,
        "start_time": "2024-03-04T19:49:53.403Z"
      },
      {
        "duration": 3926,
        "start_time": "2024-03-04T19:50:52.486Z"
      },
      {
        "duration": 16,
        "start_time": "2024-03-04T19:50:56.415Z"
      },
      {
        "duration": 49,
        "start_time": "2024-03-04T19:50:56.433Z"
      },
      {
        "duration": 14,
        "start_time": "2024-03-04T19:50:56.484Z"
      },
      {
        "duration": 20,
        "start_time": "2024-03-04T19:50:56.500Z"
      },
      {
        "duration": 55,
        "start_time": "2024-03-04T19:50:56.521Z"
      },
      {
        "duration": 36,
        "start_time": "2024-03-04T19:50:56.578Z"
      },
      {
        "duration": 55,
        "start_time": "2024-03-04T19:50:56.615Z"
      },
      {
        "duration": 466,
        "start_time": "2024-03-04T19:50:56.672Z"
      },
      {
        "duration": 8,
        "start_time": "2024-03-04T19:50:57.140Z"
      },
      {
        "duration": 22,
        "start_time": "2024-03-04T19:50:57.150Z"
      },
      {
        "duration": 26,
        "start_time": "2024-03-04T19:50:57.173Z"
      },
      {
        "duration": 827,
        "start_time": "2024-03-04T19:50:57.200Z"
      },
      {
        "duration": 42,
        "start_time": "2024-03-04T19:50:58.029Z"
      },
      {
        "duration": 23,
        "start_time": "2024-03-04T19:50:58.072Z"
      },
      {
        "duration": 12,
        "start_time": "2024-03-04T19:50:58.097Z"
      },
      {
        "duration": 59,
        "start_time": "2024-03-04T19:50:58.110Z"
      },
      {
        "duration": 14,
        "start_time": "2024-03-04T19:50:58.171Z"
      },
      {
        "duration": 98,
        "start_time": "2024-03-04T19:50:58.187Z"
      },
      {
        "duration": 1162,
        "start_time": "2024-03-04T19:50:58.287Z"
      },
      {
        "duration": 6,
        "start_time": "2024-03-04T19:50:59.451Z"
      },
      {
        "duration": 7,
        "start_time": "2024-03-04T19:50:59.458Z"
      },
      {
        "duration": 6,
        "start_time": "2024-03-04T19:50:59.466Z"
      },
      {
        "duration": 96,
        "start_time": "2024-03-04T19:50:59.473Z"
      },
      {
        "duration": 3,
        "start_time": "2024-03-04T19:50:59.571Z"
      },
      {
        "duration": 15,
        "start_time": "2024-03-04T19:50:59.575Z"
      },
      {
        "duration": 1992,
        "start_time": "2024-03-04T19:50:59.591Z"
      },
      {
        "duration": 99,
        "start_time": "2024-03-04T19:51:01.587Z"
      },
      {
        "duration": 0,
        "start_time": "2024-03-04T19:51:01.688Z"
      },
      {
        "duration": 0,
        "start_time": "2024-03-04T19:51:01.689Z"
      },
      {
        "duration": 0,
        "start_time": "2024-03-04T19:51:01.691Z"
      },
      {
        "duration": 0,
        "start_time": "2024-03-04T19:51:01.692Z"
      },
      {
        "duration": 0,
        "start_time": "2024-03-04T19:51:01.693Z"
      },
      {
        "duration": 0,
        "start_time": "2024-03-04T19:51:01.694Z"
      },
      {
        "duration": 0,
        "start_time": "2024-03-04T19:51:01.695Z"
      },
      {
        "duration": 0,
        "start_time": "2024-03-04T19:51:01.696Z"
      },
      {
        "duration": 0,
        "start_time": "2024-03-04T19:51:01.697Z"
      },
      {
        "duration": 0,
        "start_time": "2024-03-04T19:51:01.698Z"
      },
      {
        "duration": 0,
        "start_time": "2024-03-04T19:51:01.700Z"
      },
      {
        "duration": 0,
        "start_time": "2024-03-04T19:51:01.701Z"
      },
      {
        "duration": 0,
        "start_time": "2024-03-04T19:51:01.702Z"
      },
      {
        "duration": 0,
        "start_time": "2024-03-04T19:51:01.703Z"
      },
      {
        "duration": 0,
        "start_time": "2024-03-04T19:51:01.704Z"
      },
      {
        "duration": 0,
        "start_time": "2024-03-04T19:51:01.705Z"
      },
      {
        "duration": 0,
        "start_time": "2024-03-04T19:51:01.706Z"
      },
      {
        "duration": 0,
        "start_time": "2024-03-04T19:51:01.707Z"
      },
      {
        "duration": 0,
        "start_time": "2024-03-04T19:51:01.709Z"
      },
      {
        "duration": 0,
        "start_time": "2024-03-04T19:51:01.710Z"
      },
      {
        "duration": 0,
        "start_time": "2024-03-04T19:51:01.711Z"
      },
      {
        "duration": 0,
        "start_time": "2024-03-04T19:51:01.712Z"
      },
      {
        "duration": 0,
        "start_time": "2024-03-04T19:51:01.713Z"
      },
      {
        "duration": 0,
        "start_time": "2024-03-04T19:51:01.714Z"
      },
      {
        "duration": 0,
        "start_time": "2024-03-04T19:51:01.715Z"
      },
      {
        "duration": 0,
        "start_time": "2024-03-04T19:51:01.716Z"
      },
      {
        "duration": 0,
        "start_time": "2024-03-04T19:51:01.717Z"
      },
      {
        "duration": 0,
        "start_time": "2024-03-04T19:51:01.719Z"
      },
      {
        "duration": 0,
        "start_time": "2024-03-04T19:51:01.719Z"
      },
      {
        "duration": 3961,
        "start_time": "2024-03-04T19:53:03.092Z"
      },
      {
        "duration": 16,
        "start_time": "2024-03-04T19:53:07.056Z"
      },
      {
        "duration": 33,
        "start_time": "2024-03-04T19:53:07.074Z"
      },
      {
        "duration": 14,
        "start_time": "2024-03-04T19:53:07.109Z"
      },
      {
        "duration": 5,
        "start_time": "2024-03-04T19:53:07.125Z"
      },
      {
        "duration": 49,
        "start_time": "2024-03-04T19:53:07.132Z"
      },
      {
        "duration": 37,
        "start_time": "2024-03-04T19:53:07.183Z"
      },
      {
        "duration": 15,
        "start_time": "2024-03-04T19:53:07.269Z"
      },
      {
        "duration": 449,
        "start_time": "2024-03-04T19:53:07.286Z"
      },
      {
        "duration": 7,
        "start_time": "2024-03-04T19:53:07.737Z"
      },
      {
        "duration": 4,
        "start_time": "2024-03-04T19:53:07.746Z"
      },
      {
        "duration": 22,
        "start_time": "2024-03-04T19:53:07.751Z"
      },
      {
        "duration": 824,
        "start_time": "2024-03-04T19:53:07.775Z"
      },
      {
        "duration": 42,
        "start_time": "2024-03-04T19:53:08.600Z"
      },
      {
        "duration": 25,
        "start_time": "2024-03-04T19:53:08.644Z"
      },
      {
        "duration": 11,
        "start_time": "2024-03-04T19:53:08.671Z"
      },
      {
        "duration": 37,
        "start_time": "2024-03-04T19:53:08.683Z"
      },
      {
        "duration": 14,
        "start_time": "2024-03-04T19:53:08.721Z"
      },
      {
        "duration": 93,
        "start_time": "2024-03-04T19:53:08.736Z"
      },
      {
        "duration": 1203,
        "start_time": "2024-03-04T19:53:08.830Z"
      },
      {
        "duration": 5,
        "start_time": "2024-03-04T19:53:10.034Z"
      },
      {
        "duration": 53,
        "start_time": "2024-03-04T19:53:10.040Z"
      },
      {
        "duration": 10,
        "start_time": "2024-03-04T19:53:10.094Z"
      },
      {
        "duration": 92,
        "start_time": "2024-03-04T19:53:10.105Z"
      },
      {
        "duration": 18,
        "start_time": "2024-03-04T19:53:10.199Z"
      },
      {
        "duration": 23,
        "start_time": "2024-03-04T19:53:10.218Z"
      },
      {
        "duration": 1853,
        "start_time": "2024-03-04T19:53:10.242Z"
      },
      {
        "duration": 95,
        "start_time": "2024-03-04T19:53:12.098Z"
      },
      {
        "duration": 0,
        "start_time": "2024-03-04T19:53:12.194Z"
      },
      {
        "duration": 0,
        "start_time": "2024-03-04T19:53:12.195Z"
      },
      {
        "duration": 0,
        "start_time": "2024-03-04T19:53:12.196Z"
      },
      {
        "duration": 0,
        "start_time": "2024-03-04T19:53:12.197Z"
      },
      {
        "duration": 0,
        "start_time": "2024-03-04T19:53:12.198Z"
      },
      {
        "duration": 0,
        "start_time": "2024-03-04T19:53:12.199Z"
      },
      {
        "duration": 0,
        "start_time": "2024-03-04T19:53:12.200Z"
      },
      {
        "duration": 0,
        "start_time": "2024-03-04T19:53:12.201Z"
      },
      {
        "duration": 0,
        "start_time": "2024-03-04T19:53:12.202Z"
      },
      {
        "duration": 0,
        "start_time": "2024-03-04T19:53:12.203Z"
      },
      {
        "duration": 0,
        "start_time": "2024-03-04T19:53:12.204Z"
      },
      {
        "duration": 0,
        "start_time": "2024-03-04T19:53:12.204Z"
      },
      {
        "duration": 0,
        "start_time": "2024-03-04T19:53:12.205Z"
      },
      {
        "duration": 0,
        "start_time": "2024-03-04T19:53:12.206Z"
      },
      {
        "duration": 0,
        "start_time": "2024-03-04T19:53:12.207Z"
      },
      {
        "duration": 0,
        "start_time": "2024-03-04T19:53:12.208Z"
      },
      {
        "duration": 0,
        "start_time": "2024-03-04T19:53:12.209Z"
      },
      {
        "duration": 0,
        "start_time": "2024-03-04T19:53:12.210Z"
      },
      {
        "duration": 0,
        "start_time": "2024-03-04T19:53:12.211Z"
      },
      {
        "duration": 0,
        "start_time": "2024-03-04T19:53:12.213Z"
      },
      {
        "duration": 0,
        "start_time": "2024-03-04T19:53:12.213Z"
      },
      {
        "duration": 0,
        "start_time": "2024-03-04T19:53:12.214Z"
      },
      {
        "duration": 0,
        "start_time": "2024-03-04T19:53:12.215Z"
      },
      {
        "duration": 0,
        "start_time": "2024-03-04T19:53:12.217Z"
      },
      {
        "duration": 0,
        "start_time": "2024-03-04T19:53:12.218Z"
      },
      {
        "duration": 0,
        "start_time": "2024-03-04T19:53:12.219Z"
      },
      {
        "duration": 0,
        "start_time": "2024-03-04T19:53:12.220Z"
      },
      {
        "duration": 0,
        "start_time": "2024-03-04T19:53:12.220Z"
      },
      {
        "duration": 0,
        "start_time": "2024-03-04T19:53:12.221Z"
      },
      {
        "duration": 102,
        "start_time": "2024-03-04T19:54:18.051Z"
      },
      {
        "duration": 12309,
        "start_time": "2024-03-04T19:55:19.021Z"
      },
      {
        "duration": 48,
        "start_time": "2024-03-04T19:55:43.506Z"
      },
      {
        "duration": 3913,
        "start_time": "2024-03-04T19:56:12.707Z"
      },
      {
        "duration": 17,
        "start_time": "2024-03-04T19:56:16.622Z"
      },
      {
        "duration": 47,
        "start_time": "2024-03-04T19:56:16.640Z"
      },
      {
        "duration": 17,
        "start_time": "2024-03-04T19:56:16.689Z"
      },
      {
        "duration": 23,
        "start_time": "2024-03-04T19:56:16.707Z"
      },
      {
        "duration": 43,
        "start_time": "2024-03-04T19:56:16.732Z"
      },
      {
        "duration": 45,
        "start_time": "2024-03-04T19:56:16.777Z"
      },
      {
        "duration": 57,
        "start_time": "2024-03-04T19:56:16.824Z"
      },
      {
        "duration": 446,
        "start_time": "2024-03-04T19:56:16.882Z"
      },
      {
        "duration": 9,
        "start_time": "2024-03-04T19:56:17.330Z"
      },
      {
        "duration": 27,
        "start_time": "2024-03-04T19:56:17.341Z"
      },
      {
        "duration": 55,
        "start_time": "2024-03-04T19:56:17.370Z"
      },
      {
        "duration": 856,
        "start_time": "2024-03-04T19:56:17.426Z"
      },
      {
        "duration": 45,
        "start_time": "2024-03-04T19:56:18.283Z"
      },
      {
        "duration": 20,
        "start_time": "2024-03-04T19:56:18.329Z"
      },
      {
        "duration": 43,
        "start_time": "2024-03-04T19:56:18.350Z"
      },
      {
        "duration": 48,
        "start_time": "2024-03-04T19:56:18.394Z"
      },
      {
        "duration": 15,
        "start_time": "2024-03-04T19:56:18.443Z"
      },
      {
        "duration": 104,
        "start_time": "2024-03-04T19:56:18.459Z"
      },
      {
        "duration": 1160,
        "start_time": "2024-03-04T19:56:18.565Z"
      },
      {
        "duration": 5,
        "start_time": "2024-03-04T19:56:19.726Z"
      },
      {
        "duration": 24,
        "start_time": "2024-03-04T19:56:19.732Z"
      },
      {
        "duration": 16,
        "start_time": "2024-03-04T19:56:19.758Z"
      },
      {
        "duration": 90,
        "start_time": "2024-03-04T19:56:19.775Z"
      },
      {
        "duration": 22,
        "start_time": "2024-03-04T19:56:19.866Z"
      },
      {
        "duration": 33,
        "start_time": "2024-03-04T19:56:19.890Z"
      },
      {
        "duration": 1914,
        "start_time": "2024-03-04T19:56:19.926Z"
      },
      {
        "duration": 12481,
        "start_time": "2024-03-04T19:56:21.844Z"
      },
      {
        "duration": 63,
        "start_time": "2024-03-04T19:56:34.327Z"
      },
      {
        "duration": 37,
        "start_time": "2024-03-04T19:56:34.392Z"
      },
      {
        "duration": 13,
        "start_time": "2024-03-04T19:56:34.431Z"
      },
      {
        "duration": 11,
        "start_time": "2024-03-04T19:56:34.445Z"
      },
      {
        "duration": 4,
        "start_time": "2024-03-04T19:56:34.459Z"
      },
      {
        "duration": 41,
        "start_time": "2024-03-04T19:56:34.469Z"
      },
      {
        "duration": 77,
        "start_time": "2024-03-04T19:56:34.511Z"
      },
      {
        "duration": 362,
        "start_time": "2024-03-04T19:56:34.589Z"
      },
      {
        "duration": 17,
        "start_time": "2024-03-04T19:56:34.953Z"
      },
      {
        "duration": 1062,
        "start_time": "2024-03-04T19:56:34.971Z"
      },
      {
        "duration": 41,
        "start_time": "2024-03-04T19:56:36.035Z"
      },
      {
        "duration": 10,
        "start_time": "2024-03-04T19:56:36.077Z"
      },
      {
        "duration": 20,
        "start_time": "2024-03-04T19:56:36.088Z"
      },
      {
        "duration": 6,
        "start_time": "2024-03-04T19:56:36.109Z"
      },
      {
        "duration": 394,
        "start_time": "2024-03-04T19:56:36.116Z"
      },
      {
        "duration": 7,
        "start_time": "2024-03-04T19:56:36.512Z"
      },
      {
        "duration": 90,
        "start_time": "2024-03-04T19:56:36.520Z"
      },
      {
        "duration": 5,
        "start_time": "2024-03-04T19:56:36.612Z"
      },
      {
        "duration": 23,
        "start_time": "2024-03-04T19:56:36.618Z"
      },
      {
        "duration": 7,
        "start_time": "2024-03-04T19:56:36.643Z"
      },
      {
        "duration": 326,
        "start_time": "2024-03-04T19:56:36.651Z"
      },
      {
        "duration": 16,
        "start_time": "2024-03-04T19:56:36.978Z"
      },
      {
        "duration": 28,
        "start_time": "2024-03-04T19:56:36.996Z"
      },
      {
        "duration": 309,
        "start_time": "2024-03-04T19:56:37.026Z"
      },
      {
        "duration": 1329,
        "start_time": "2024-03-04T19:56:37.336Z"
      },
      {
        "duration": 2710,
        "start_time": "2024-03-04T19:56:38.667Z"
      },
      {
        "duration": 7977,
        "start_time": "2024-03-04T19:56:41.379Z"
      },
      {
        "duration": 58,
        "start_time": "2024-03-04T19:56:49.357Z"
      },
      {
        "duration": 3,
        "start_time": "2024-03-04T19:56:49.417Z"
      },
      {
        "duration": 3967,
        "start_time": "2024-03-04T19:58:00.858Z"
      },
      {
        "duration": 17,
        "start_time": "2024-03-04T19:58:04.828Z"
      },
      {
        "duration": 34,
        "start_time": "2024-03-04T19:58:04.846Z"
      },
      {
        "duration": 13,
        "start_time": "2024-03-04T19:58:04.881Z"
      },
      {
        "duration": 7,
        "start_time": "2024-03-04T19:58:04.896Z"
      },
      {
        "duration": 70,
        "start_time": "2024-03-04T19:58:04.904Z"
      },
      {
        "duration": 40,
        "start_time": "2024-03-04T19:58:04.976Z"
      },
      {
        "duration": 60,
        "start_time": "2024-03-04T19:58:05.018Z"
      },
      {
        "duration": 465,
        "start_time": "2024-03-04T19:58:05.080Z"
      },
      {
        "duration": 9,
        "start_time": "2024-03-04T19:58:05.547Z"
      },
      {
        "duration": 4,
        "start_time": "2024-03-04T19:58:05.570Z"
      },
      {
        "duration": 13,
        "start_time": "2024-03-04T19:58:05.576Z"
      },
      {
        "duration": 840,
        "start_time": "2024-03-04T19:58:05.591Z"
      },
      {
        "duration": 43,
        "start_time": "2024-03-04T19:58:06.436Z"
      },
      {
        "duration": 23,
        "start_time": "2024-03-04T19:58:06.480Z"
      },
      {
        "duration": 12,
        "start_time": "2024-03-04T19:58:06.504Z"
      },
      {
        "duration": 56,
        "start_time": "2024-03-04T19:58:06.518Z"
      },
      {
        "duration": 15,
        "start_time": "2024-03-04T19:58:06.575Z"
      },
      {
        "duration": 101,
        "start_time": "2024-03-04T19:58:06.592Z"
      },
      {
        "duration": 1226,
        "start_time": "2024-03-04T19:58:06.695Z"
      },
      {
        "duration": 5,
        "start_time": "2024-03-04T19:58:07.922Z"
      },
      {
        "duration": 12,
        "start_time": "2024-03-04T19:58:07.928Z"
      },
      {
        "duration": 4,
        "start_time": "2024-03-04T19:58:07.941Z"
      },
      {
        "duration": 92,
        "start_time": "2024-03-04T19:58:07.946Z"
      },
      {
        "duration": 23,
        "start_time": "2024-03-04T19:58:08.039Z"
      },
      {
        "duration": 22,
        "start_time": "2024-03-04T19:58:08.064Z"
      },
      {
        "duration": 1923,
        "start_time": "2024-03-04T19:58:08.087Z"
      },
      {
        "duration": 12295,
        "start_time": "2024-03-04T19:58:10.012Z"
      },
      {
        "duration": 47,
        "start_time": "2024-03-04T19:58:22.309Z"
      },
      {
        "duration": 38,
        "start_time": "2024-03-04T19:58:22.370Z"
      },
      {
        "duration": 10,
        "start_time": "2024-03-04T19:58:22.410Z"
      },
      {
        "duration": 5,
        "start_time": "2024-03-04T19:58:22.422Z"
      },
      {
        "duration": 6,
        "start_time": "2024-03-04T19:58:22.428Z"
      },
      {
        "duration": 43,
        "start_time": "2024-03-04T19:58:22.435Z"
      },
      {
        "duration": 45,
        "start_time": "2024-03-04T19:58:22.479Z"
      },
      {
        "duration": 308,
        "start_time": "2024-03-04T19:58:22.570Z"
      },
      {
        "duration": 7,
        "start_time": "2024-03-04T19:58:22.880Z"
      },
      {
        "duration": 1096,
        "start_time": "2024-03-04T19:58:22.889Z"
      },
      {
        "duration": 42,
        "start_time": "2024-03-04T19:58:23.986Z"
      },
      {
        "duration": 9,
        "start_time": "2024-03-04T19:58:24.029Z"
      },
      {
        "duration": 12,
        "start_time": "2024-03-04T19:58:24.042Z"
      },
      {
        "duration": 10,
        "start_time": "2024-03-04T19:58:24.055Z"
      },
      {
        "duration": 443,
        "start_time": "2024-03-04T19:58:24.067Z"
      },
      {
        "duration": 6,
        "start_time": "2024-03-04T19:58:24.511Z"
      },
      {
        "duration": 90,
        "start_time": "2024-03-04T19:58:24.519Z"
      },
      {
        "duration": 5,
        "start_time": "2024-03-04T19:58:24.610Z"
      },
      {
        "duration": 25,
        "start_time": "2024-03-04T19:58:24.616Z"
      },
      {
        "duration": 5,
        "start_time": "2024-03-04T19:58:24.643Z"
      },
      {
        "duration": 313,
        "start_time": "2024-03-04T19:58:24.649Z"
      },
      {
        "duration": 18,
        "start_time": "2024-03-04T19:58:24.964Z"
      },
      {
        "duration": 27,
        "start_time": "2024-03-04T19:58:24.984Z"
      },
      {
        "duration": 312,
        "start_time": "2024-03-04T19:58:25.013Z"
      },
      {
        "duration": 1348,
        "start_time": "2024-03-04T19:58:25.327Z"
      },
      {
        "duration": 2697,
        "start_time": "2024-03-04T19:58:26.677Z"
      },
      {
        "duration": 8020,
        "start_time": "2024-03-04T19:58:29.376Z"
      },
      {
        "duration": 45,
        "start_time": "2024-03-04T19:58:37.398Z"
      },
      {
        "duration": 4,
        "start_time": "2024-03-04T19:58:37.444Z"
      },
      {
        "duration": 6868,
        "start_time": "2024-03-05T15:25:28.736Z"
      },
      {
        "duration": 21,
        "start_time": "2024-03-05T15:25:35.607Z"
      },
      {
        "duration": 72,
        "start_time": "2024-03-05T15:25:35.629Z"
      },
      {
        "duration": 16,
        "start_time": "2024-03-05T15:25:35.703Z"
      },
      {
        "duration": 6,
        "start_time": "2024-03-05T15:25:35.720Z"
      },
      {
        "duration": 81,
        "start_time": "2024-03-05T15:25:35.727Z"
      },
      {
        "duration": 99,
        "start_time": "2024-03-05T15:25:35.810Z"
      },
      {
        "duration": 17,
        "start_time": "2024-03-05T15:25:35.910Z"
      },
      {
        "duration": 1126,
        "start_time": "2024-03-05T15:25:35.928Z"
      },
      {
        "duration": 35,
        "start_time": "2024-03-05T15:25:37.057Z"
      },
      {
        "duration": 4,
        "start_time": "2024-03-05T15:25:37.094Z"
      },
      {
        "duration": 37,
        "start_time": "2024-03-05T15:25:37.099Z"
      },
      {
        "duration": 2951,
        "start_time": "2024-03-05T15:25:37.138Z"
      },
      {
        "duration": 110,
        "start_time": "2024-03-05T15:25:40.091Z"
      },
      {
        "duration": 96,
        "start_time": "2024-03-05T15:25:40.203Z"
      },
      {
        "duration": 20,
        "start_time": "2024-03-05T15:25:40.300Z"
      },
      {
        "duration": 108,
        "start_time": "2024-03-05T15:25:40.387Z"
      },
      {
        "duration": 22,
        "start_time": "2024-03-05T15:25:40.496Z"
      },
      {
        "duration": 375,
        "start_time": "2024-03-05T15:25:40.520Z"
      },
      {
        "duration": 1696,
        "start_time": "2024-03-05T15:25:40.897Z"
      },
      {
        "duration": 5,
        "start_time": "2024-03-05T15:25:42.595Z"
      },
      {
        "duration": 88,
        "start_time": "2024-03-05T15:25:42.602Z"
      },
      {
        "duration": 6,
        "start_time": "2024-03-05T15:25:42.692Z"
      },
      {
        "duration": 324,
        "start_time": "2024-03-05T15:25:42.700Z"
      },
      {
        "duration": 0,
        "start_time": "2024-03-05T15:25:43.026Z"
      },
      {
        "duration": 0,
        "start_time": "2024-03-05T15:25:43.027Z"
      },
      {
        "duration": 0,
        "start_time": "2024-03-05T15:25:43.029Z"
      },
      {
        "duration": 0,
        "start_time": "2024-03-05T15:25:43.029Z"
      },
      {
        "duration": 0,
        "start_time": "2024-03-05T15:25:43.031Z"
      },
      {
        "duration": 0,
        "start_time": "2024-03-05T15:25:43.088Z"
      },
      {
        "duration": 0,
        "start_time": "2024-03-05T15:25:43.089Z"
      },
      {
        "duration": 0,
        "start_time": "2024-03-05T15:25:43.090Z"
      },
      {
        "duration": 0,
        "start_time": "2024-03-05T15:25:43.091Z"
      },
      {
        "duration": 0,
        "start_time": "2024-03-05T15:25:43.093Z"
      },
      {
        "duration": 0,
        "start_time": "2024-03-05T15:25:43.094Z"
      },
      {
        "duration": 0,
        "start_time": "2024-03-05T15:25:43.095Z"
      },
      {
        "duration": 0,
        "start_time": "2024-03-05T15:25:43.096Z"
      },
      {
        "duration": 0,
        "start_time": "2024-03-05T15:25:43.097Z"
      },
      {
        "duration": 0,
        "start_time": "2024-03-05T15:25:43.098Z"
      },
      {
        "duration": 0,
        "start_time": "2024-03-05T15:25:43.099Z"
      },
      {
        "duration": 0,
        "start_time": "2024-03-05T15:25:43.100Z"
      },
      {
        "duration": 0,
        "start_time": "2024-03-05T15:25:43.101Z"
      },
      {
        "duration": 0,
        "start_time": "2024-03-05T15:25:43.102Z"
      },
      {
        "duration": 0,
        "start_time": "2024-03-05T15:25:43.103Z"
      },
      {
        "duration": 0,
        "start_time": "2024-03-05T15:25:43.104Z"
      },
      {
        "duration": 0,
        "start_time": "2024-03-05T15:25:43.105Z"
      },
      {
        "duration": 0,
        "start_time": "2024-03-05T15:25:43.106Z"
      },
      {
        "duration": 0,
        "start_time": "2024-03-05T15:25:43.107Z"
      },
      {
        "duration": 0,
        "start_time": "2024-03-05T15:25:43.108Z"
      },
      {
        "duration": 0,
        "start_time": "2024-03-05T15:25:43.109Z"
      },
      {
        "duration": 0,
        "start_time": "2024-03-05T15:25:43.110Z"
      },
      {
        "duration": 0,
        "start_time": "2024-03-05T15:25:43.112Z"
      },
      {
        "duration": 0,
        "start_time": "2024-03-05T15:25:43.113Z"
      },
      {
        "duration": 0,
        "start_time": "2024-03-05T15:25:43.114Z"
      },
      {
        "duration": 0,
        "start_time": "2024-03-05T15:25:43.188Z"
      },
      {
        "duration": 0,
        "start_time": "2024-03-05T15:25:43.189Z"
      },
      {
        "duration": 0,
        "start_time": "2024-03-05T15:25:43.190Z"
      },
      {
        "duration": 7450,
        "start_time": "2024-03-05T15:25:56.283Z"
      },
      {
        "duration": 19,
        "start_time": "2024-03-05T15:26:03.736Z"
      },
      {
        "duration": 489,
        "start_time": "2024-03-05T15:26:03.757Z"
      },
      {
        "duration": 86,
        "start_time": "2024-03-05T15:26:04.248Z"
      },
      {
        "duration": 6,
        "start_time": "2024-03-05T15:26:04.336Z"
      },
      {
        "duration": 109,
        "start_time": "2024-03-05T15:26:04.388Z"
      },
      {
        "duration": 109,
        "start_time": "2024-03-05T15:26:04.499Z"
      },
      {
        "duration": 81,
        "start_time": "2024-03-05T15:26:04.609Z"
      },
      {
        "duration": 1248,
        "start_time": "2024-03-05T15:26:04.693Z"
      },
      {
        "duration": 20,
        "start_time": "2024-03-05T15:26:05.944Z"
      },
      {
        "duration": 4,
        "start_time": "2024-03-05T15:26:05.966Z"
      },
      {
        "duration": 20,
        "start_time": "2024-03-05T15:26:05.971Z"
      },
      {
        "duration": 2001,
        "start_time": "2024-03-05T15:26:05.993Z"
      },
      {
        "duration": 75,
        "start_time": "2024-03-05T15:26:07.996Z"
      },
      {
        "duration": 20,
        "start_time": "2024-03-05T15:26:08.072Z"
      },
      {
        "duration": 12,
        "start_time": "2024-03-05T15:26:08.094Z"
      },
      {
        "duration": 86,
        "start_time": "2024-03-05T15:26:08.108Z"
      },
      {
        "duration": 15,
        "start_time": "2024-03-05T15:26:08.195Z"
      },
      {
        "duration": 212,
        "start_time": "2024-03-05T15:26:08.212Z"
      },
      {
        "duration": 871,
        "start_time": "2024-03-05T15:26:08.426Z"
      },
      {
        "duration": 5,
        "start_time": "2024-03-05T15:26:09.298Z"
      },
      {
        "duration": 65,
        "start_time": "2024-03-05T15:26:09.305Z"
      },
      {
        "duration": 105,
        "start_time": "2024-03-05T15:26:09.372Z"
      },
      {
        "duration": 191,
        "start_time": "2024-03-05T15:26:09.479Z"
      },
      {
        "duration": 0,
        "start_time": "2024-03-05T15:26:09.672Z"
      },
      {
        "duration": 0,
        "start_time": "2024-03-05T15:26:09.673Z"
      },
      {
        "duration": 0,
        "start_time": "2024-03-05T15:26:09.674Z"
      },
      {
        "duration": 0,
        "start_time": "2024-03-05T15:26:09.676Z"
      },
      {
        "duration": 0,
        "start_time": "2024-03-05T15:26:09.676Z"
      },
      {
        "duration": 0,
        "start_time": "2024-03-05T15:26:09.677Z"
      },
      {
        "duration": 0,
        "start_time": "2024-03-05T15:26:09.678Z"
      },
      {
        "duration": 0,
        "start_time": "2024-03-05T15:26:09.687Z"
      },
      {
        "duration": 0,
        "start_time": "2024-03-05T15:26:09.688Z"
      },
      {
        "duration": 0,
        "start_time": "2024-03-05T15:26:09.690Z"
      },
      {
        "duration": 0,
        "start_time": "2024-03-05T15:26:09.691Z"
      },
      {
        "duration": 0,
        "start_time": "2024-03-05T15:26:09.692Z"
      },
      {
        "duration": 0,
        "start_time": "2024-03-05T15:26:09.693Z"
      },
      {
        "duration": 1,
        "start_time": "2024-03-05T15:26:09.694Z"
      },
      {
        "duration": 0,
        "start_time": "2024-03-05T15:26:09.696Z"
      },
      {
        "duration": 0,
        "start_time": "2024-03-05T15:26:09.697Z"
      },
      {
        "duration": 0,
        "start_time": "2024-03-05T15:26:09.698Z"
      },
      {
        "duration": 0,
        "start_time": "2024-03-05T15:26:09.699Z"
      },
      {
        "duration": 0,
        "start_time": "2024-03-05T15:26:09.700Z"
      },
      {
        "duration": 0,
        "start_time": "2024-03-05T15:26:09.701Z"
      },
      {
        "duration": 0,
        "start_time": "2024-03-05T15:26:09.702Z"
      },
      {
        "duration": 0,
        "start_time": "2024-03-05T15:26:09.703Z"
      },
      {
        "duration": 0,
        "start_time": "2024-03-05T15:26:09.704Z"
      },
      {
        "duration": 0,
        "start_time": "2024-03-05T15:26:09.705Z"
      },
      {
        "duration": 0,
        "start_time": "2024-03-05T15:26:09.706Z"
      },
      {
        "duration": 0,
        "start_time": "2024-03-05T15:26:09.707Z"
      },
      {
        "duration": 0,
        "start_time": "2024-03-05T15:26:09.708Z"
      },
      {
        "duration": 0,
        "start_time": "2024-03-05T15:26:09.709Z"
      },
      {
        "duration": 0,
        "start_time": "2024-03-05T15:26:09.710Z"
      },
      {
        "duration": 0,
        "start_time": "2024-03-05T15:26:09.711Z"
      },
      {
        "duration": 0,
        "start_time": "2024-03-05T15:26:09.712Z"
      },
      {
        "duration": 0,
        "start_time": "2024-03-05T15:26:09.713Z"
      },
      {
        "duration": 0,
        "start_time": "2024-03-05T15:26:09.714Z"
      },
      {
        "duration": 6412,
        "start_time": "2024-03-05T15:29:24.995Z"
      },
      {
        "duration": 4305,
        "start_time": "2024-03-05T15:29:52.591Z"
      },
      {
        "duration": 4771,
        "start_time": "2024-03-05T15:29:56.897Z"
      },
      {
        "duration": 16,
        "start_time": "2024-03-05T15:30:01.670Z"
      },
      {
        "duration": 233,
        "start_time": "2024-03-05T15:30:01.689Z"
      },
      {
        "duration": 162,
        "start_time": "2024-03-05T15:30:01.924Z"
      },
      {
        "duration": 234,
        "start_time": "2024-03-05T15:30:02.088Z"
      },
      {
        "duration": 124,
        "start_time": "2024-03-05T15:30:02.324Z"
      },
      {
        "duration": 157,
        "start_time": "2024-03-05T15:30:02.450Z"
      },
      {
        "duration": 154,
        "start_time": "2024-03-05T15:30:02.608Z"
      },
      {
        "duration": 966,
        "start_time": "2024-03-05T15:30:02.765Z"
      },
      {
        "duration": 9,
        "start_time": "2024-03-05T15:30:03.733Z"
      },
      {
        "duration": 249,
        "start_time": "2024-03-05T15:30:03.744Z"
      },
      {
        "duration": 64,
        "start_time": "2024-03-05T15:30:03.995Z"
      },
      {
        "duration": 1956,
        "start_time": "2024-03-05T15:30:04.060Z"
      },
      {
        "duration": 42,
        "start_time": "2024-03-05T15:30:06.018Z"
      },
      {
        "duration": 31,
        "start_time": "2024-03-05T15:30:06.062Z"
      },
      {
        "duration": 12,
        "start_time": "2024-03-05T15:30:06.094Z"
      },
      {
        "duration": 38,
        "start_time": "2024-03-05T15:30:06.107Z"
      },
      {
        "duration": 15,
        "start_time": "2024-03-05T15:30:06.146Z"
      },
      {
        "duration": 245,
        "start_time": "2024-03-05T15:30:06.162Z"
      },
      {
        "duration": 836,
        "start_time": "2024-03-05T15:30:06.408Z"
      },
      {
        "duration": 5,
        "start_time": "2024-03-05T15:30:07.245Z"
      },
      {
        "duration": 15,
        "start_time": "2024-03-05T15:30:07.252Z"
      },
      {
        "duration": 21,
        "start_time": "2024-03-05T15:30:07.268Z"
      },
      {
        "duration": 17,
        "start_time": "2024-03-05T15:30:07.290Z"
      },
      {
        "duration": 13,
        "start_time": "2024-03-05T15:30:07.308Z"
      },
      {
        "duration": 7,
        "start_time": "2024-03-05T15:30:07.322Z"
      },
      {
        "duration": 1823,
        "start_time": "2024-03-05T15:30:07.332Z"
      },
      {
        "duration": 12271,
        "start_time": "2024-03-05T15:30:09.156Z"
      },
      {
        "duration": 68,
        "start_time": "2024-03-05T15:30:21.429Z"
      },
      {
        "duration": 110,
        "start_time": "2024-03-05T15:30:21.499Z"
      },
      {
        "duration": 14,
        "start_time": "2024-03-05T15:30:21.611Z"
      },
      {
        "duration": 26,
        "start_time": "2024-03-05T15:30:21.627Z"
      },
      {
        "duration": 24,
        "start_time": "2024-03-05T15:30:21.655Z"
      },
      {
        "duration": 54,
        "start_time": "2024-03-05T15:30:21.681Z"
      },
      {
        "duration": 80,
        "start_time": "2024-03-05T15:30:21.737Z"
      },
      {
        "duration": 472,
        "start_time": "2024-03-05T15:30:21.818Z"
      },
      {
        "duration": 7,
        "start_time": "2024-03-05T15:30:22.291Z"
      },
      {
        "duration": 1319,
        "start_time": "2024-03-05T15:30:22.299Z"
      },
      {
        "duration": 83,
        "start_time": "2024-03-05T15:30:23.619Z"
      },
      {
        "duration": 10,
        "start_time": "2024-03-05T15:30:23.704Z"
      },
      {
        "duration": 23,
        "start_time": "2024-03-05T15:30:23.715Z"
      },
      {
        "duration": 48,
        "start_time": "2024-03-05T15:30:23.739Z"
      },
      {
        "duration": 463,
        "start_time": "2024-03-05T15:30:23.788Z"
      },
      {
        "duration": 7,
        "start_time": "2024-03-05T15:30:24.253Z"
      },
      {
        "duration": 145,
        "start_time": "2024-03-05T15:30:24.262Z"
      },
      {
        "duration": 7,
        "start_time": "2024-03-05T15:30:24.409Z"
      },
      {
        "duration": 37,
        "start_time": "2024-03-05T15:30:24.488Z"
      },
      {
        "duration": 21,
        "start_time": "2024-03-05T15:30:24.527Z"
      },
      {
        "duration": 447,
        "start_time": "2024-03-05T15:30:24.550Z"
      },
      {
        "duration": 18,
        "start_time": "2024-03-05T15:30:24.999Z"
      },
      {
        "duration": 74,
        "start_time": "2024-03-05T15:30:25.018Z"
      },
      {
        "duration": 441,
        "start_time": "2024-03-05T15:30:25.093Z"
      },
      {
        "duration": 1032,
        "start_time": "2024-03-05T15:30:25.535Z"
      },
      {
        "duration": 2740,
        "start_time": "2024-03-05T15:30:26.569Z"
      },
      {
        "duration": 8104,
        "start_time": "2024-03-05T15:30:29.311Z"
      },
      {
        "duration": 45,
        "start_time": "2024-03-05T15:30:37.416Z"
      },
      {
        "duration": 3,
        "start_time": "2024-03-05T15:30:37.463Z"
      },
      {
        "duration": 3637,
        "start_time": "2024-03-05T17:08:46.358Z"
      },
      {
        "duration": 3897,
        "start_time": "2024-03-05T17:08:49.997Z"
      },
      {
        "duration": 15,
        "start_time": "2024-03-05T17:08:53.896Z"
      },
      {
        "duration": 72,
        "start_time": "2024-03-05T17:08:53.913Z"
      },
      {
        "duration": 12,
        "start_time": "2024-03-05T17:08:53.987Z"
      },
      {
        "duration": 20,
        "start_time": "2024-03-05T17:08:54.001Z"
      },
      {
        "duration": 24,
        "start_time": "2024-03-05T17:08:54.023Z"
      },
      {
        "duration": 55,
        "start_time": "2024-03-05T17:08:54.049Z"
      },
      {
        "duration": 14,
        "start_time": "2024-03-05T17:08:54.105Z"
      },
      {
        "duration": 520,
        "start_time": "2024-03-05T17:08:54.122Z"
      },
      {
        "duration": 7,
        "start_time": "2024-03-05T17:08:54.644Z"
      },
      {
        "duration": 14,
        "start_time": "2024-03-05T17:08:54.652Z"
      },
      {
        "duration": 67,
        "start_time": "2024-03-05T17:08:54.667Z"
      },
      {
        "duration": 811,
        "start_time": "2024-03-05T17:08:54.736Z"
      },
      {
        "duration": 74,
        "start_time": "2024-03-05T17:08:55.548Z"
      },
      {
        "duration": 25,
        "start_time": "2024-03-05T17:08:55.624Z"
      },
      {
        "duration": 26,
        "start_time": "2024-03-05T17:08:55.650Z"
      },
      {
        "duration": 83,
        "start_time": "2024-03-05T17:08:55.681Z"
      },
      {
        "duration": 14,
        "start_time": "2024-03-05T17:08:55.766Z"
      },
      {
        "duration": 93,
        "start_time": "2024-03-05T17:08:55.781Z"
      },
      {
        "duration": 1142,
        "start_time": "2024-03-05T17:08:55.875Z"
      },
      {
        "duration": 5,
        "start_time": "2024-03-05T17:08:57.020Z"
      },
      {
        "duration": 36,
        "start_time": "2024-03-05T17:08:57.027Z"
      },
      {
        "duration": 8,
        "start_time": "2024-03-05T17:08:57.064Z"
      },
      {
        "duration": 109,
        "start_time": "2024-03-05T17:08:57.073Z"
      },
      {
        "duration": 7,
        "start_time": "2024-03-05T17:08:57.183Z"
      },
      {
        "duration": 17,
        "start_time": "2024-03-05T17:08:57.192Z"
      },
      {
        "duration": 1848,
        "start_time": "2024-03-05T17:08:57.212Z"
      },
      {
        "duration": 12135,
        "start_time": "2024-03-05T17:08:59.061Z"
      },
      {
        "duration": 46,
        "start_time": "2024-03-05T17:09:11.197Z"
      },
      {
        "duration": 111,
        "start_time": "2024-03-05T17:09:11.244Z"
      },
      {
        "duration": 12,
        "start_time": "2024-03-05T17:09:11.356Z"
      },
      {
        "duration": 18,
        "start_time": "2024-03-05T17:09:11.369Z"
      },
      {
        "duration": 10,
        "start_time": "2024-03-05T17:09:11.389Z"
      },
      {
        "duration": 23,
        "start_time": "2024-03-05T17:09:11.400Z"
      },
      {
        "duration": 78,
        "start_time": "2024-03-05T17:09:11.425Z"
      },
      {
        "duration": 354,
        "start_time": "2024-03-05T17:09:11.504Z"
      },
      {
        "duration": 6,
        "start_time": "2024-03-05T17:09:11.860Z"
      },
      {
        "duration": 1074,
        "start_time": "2024-03-05T17:09:11.867Z"
      },
      {
        "duration": 82,
        "start_time": "2024-03-05T17:09:12.943Z"
      },
      {
        "duration": 10,
        "start_time": "2024-03-05T17:09:13.027Z"
      },
      {
        "duration": 7,
        "start_time": "2024-03-05T17:09:13.039Z"
      },
      {
        "duration": 5,
        "start_time": "2024-03-05T17:09:13.047Z"
      },
      {
        "duration": 431,
        "start_time": "2024-03-05T17:09:13.054Z"
      },
      {
        "duration": 6,
        "start_time": "2024-03-05T17:09:13.486Z"
      },
      {
        "duration": 77,
        "start_time": "2024-03-05T17:09:13.494Z"
      },
      {
        "duration": 9,
        "start_time": "2024-03-05T17:09:13.573Z"
      },
      {
        "duration": 17,
        "start_time": "2024-03-05T17:09:13.583Z"
      },
      {
        "duration": 22,
        "start_time": "2024-03-05T17:09:13.601Z"
      },
      {
        "duration": 297,
        "start_time": "2024-03-05T17:09:13.625Z"
      },
      {
        "duration": 14,
        "start_time": "2024-03-05T17:09:13.923Z"
      },
      {
        "duration": 45,
        "start_time": "2024-03-05T17:09:13.939Z"
      },
      {
        "duration": 282,
        "start_time": "2024-03-05T17:09:13.985Z"
      },
      {
        "duration": 1325,
        "start_time": "2024-03-05T17:09:14.268Z"
      },
      {
        "duration": 2685,
        "start_time": "2024-03-05T17:09:15.595Z"
      },
      {
        "duration": 7931,
        "start_time": "2024-03-05T17:09:18.282Z"
      },
      {
        "duration": 46,
        "start_time": "2024-03-05T17:09:26.214Z"
      },
      {
        "duration": 19,
        "start_time": "2024-03-05T17:09:26.262Z"
      },
      {
        "duration": 44,
        "start_time": "2024-03-05T17:11:16.861Z"
      },
      {
        "duration": 157,
        "start_time": "2024-03-05T17:12:20.997Z"
      },
      {
        "duration": 61,
        "start_time": "2024-03-05T17:13:16.734Z"
      },
      {
        "duration": 62,
        "start_time": "2024-03-05T17:13:56.158Z"
      },
      {
        "duration": 1695,
        "start_time": "2024-03-05T17:15:41.146Z"
      },
      {
        "duration": 1736,
        "start_time": "2024-03-05T17:15:56.494Z"
      },
      {
        "duration": 207,
        "start_time": "2024-03-05T17:16:02.033Z"
      },
      {
        "duration": 2646,
        "start_time": "2024-03-05T17:16:27.325Z"
      },
      {
        "duration": 7702,
        "start_time": "2024-03-05T17:16:31.350Z"
      },
      {
        "duration": 51,
        "start_time": "2024-03-05T17:17:06.133Z"
      },
      {
        "duration": 2727,
        "start_time": "2024-03-05T17:17:10.434Z"
      }
    ],
    "colab": {
      "provenance": [],
      "toc_visible": true,
      "include_colab_link": true
    },
    "kernelspec": {
      "display_name": "Python 3 (ipykernel)",
      "language": "python",
      "name": "python3"
    },
    "language_info": {
      "codemirror_mode": {
        "name": "ipython",
        "version": 3
      },
      "file_extension": ".py",
      "mimetype": "text/x-python",
      "name": "python",
      "nbconvert_exporter": "python",
      "pygments_lexer": "ipython3",
      "version": "3.9.5"
    },
    "toc": {
      "base_numbering": 1,
      "nav_menu": {},
      "number_sections": true,
      "sideBar": true,
      "skip_h1_title": true,
      "title_cell": "Table of Contents",
      "title_sidebar": "Contents",
      "toc_cell": false,
      "toc_position": {
        "height": "calc(100% - 180px)",
        "left": "10px",
        "top": "150px",
        "width": "211.771px"
      },
      "toc_section_display": true,
      "toc_window_display": true
    }
  },
  "nbformat": 4,
  "nbformat_minor": 5
}